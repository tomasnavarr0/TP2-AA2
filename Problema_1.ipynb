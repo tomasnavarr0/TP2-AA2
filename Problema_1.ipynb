{
  "nbformat": 4,
  "nbformat_minor": 0,
  "metadata": {
    "colab": {
      "provenance": [],
      "gpuType": "T4",
      "collapsed_sections": [
        "Wvbpk8hVQ-TQ",
        "FxQL5Y0rR4pu"
      ],
      "toc_visible": true
    },
    "kernelspec": {
      "name": "python3",
      "display_name": "Python 3"
    },
    "language_info": {
      "name": "python"
    },
    "accelerator": "GPU",
    "widgets": {
      "application/vnd.jupyter.widget-state+json": {
        "e062fe8d93204779883a8f3c13b96b41": {
          "model_module": "@jupyter-widgets/controls",
          "model_name": "HBoxModel",
          "model_module_version": "1.5.0",
          "state": {
            "_dom_classes": [],
            "_model_module": "@jupyter-widgets/controls",
            "_model_module_version": "1.5.0",
            "_model_name": "HBoxModel",
            "_view_count": null,
            "_view_module": "@jupyter-widgets/controls",
            "_view_module_version": "1.5.0",
            "_view_name": "HBoxView",
            "box_style": "",
            "children": [
              "IPY_MODEL_ac43caa3b9344e929bd418bd770eaacd",
              "IPY_MODEL_7b983da99b5c4fbc945b0411a1292540",
              "IPY_MODEL_359880f5096f4fac9a8903a1cc7ec39a"
            ],
            "layout": "IPY_MODEL_e03be334d42546cc886284685ab5ab87"
          }
        },
        "ac43caa3b9344e929bd418bd770eaacd": {
          "model_module": "@jupyter-widgets/controls",
          "model_name": "HTMLModel",
          "model_module_version": "1.5.0",
          "state": {
            "_dom_classes": [],
            "_model_module": "@jupyter-widgets/controls",
            "_model_module_version": "1.5.0",
            "_model_name": "HTMLModel",
            "_view_count": null,
            "_view_module": "@jupyter-widgets/controls",
            "_view_module_version": "1.5.0",
            "_view_name": "HTMLView",
            "description": "",
            "description_tooltip": null,
            "layout": "IPY_MODEL_de64f3c0dc514d0f8e41581f1e02c67d",
            "placeholder": "​",
            "style": "IPY_MODEL_d4f4ed7cf6854aa3bdb6b0a3149677a9",
            "value": "Dl Completed...: 100%"
          }
        },
        "7b983da99b5c4fbc945b0411a1292540": {
          "model_module": "@jupyter-widgets/controls",
          "model_name": "FloatProgressModel",
          "model_module_version": "1.5.0",
          "state": {
            "_dom_classes": [],
            "_model_module": "@jupyter-widgets/controls",
            "_model_module_version": "1.5.0",
            "_model_name": "FloatProgressModel",
            "_view_count": null,
            "_view_module": "@jupyter-widgets/controls",
            "_view_module_version": "1.5.0",
            "_view_name": "ProgressView",
            "bar_style": "success",
            "description": "",
            "description_tooltip": null,
            "layout": "IPY_MODEL_5f7fe8a8673749f5bb0f4223029a7163",
            "max": 1,
            "min": 0,
            "orientation": "horizontal",
            "style": "IPY_MODEL_694a029ed27c4a95a8bf3a88df98c866",
            "value": 1
          }
        },
        "359880f5096f4fac9a8903a1cc7ec39a": {
          "model_module": "@jupyter-widgets/controls",
          "model_name": "HTMLModel",
          "model_module_version": "1.5.0",
          "state": {
            "_dom_classes": [],
            "_model_module": "@jupyter-widgets/controls",
            "_model_module_version": "1.5.0",
            "_model_name": "HTMLModel",
            "_view_count": null,
            "_view_module": "@jupyter-widgets/controls",
            "_view_module_version": "1.5.0",
            "_view_name": "HTMLView",
            "description": "",
            "description_tooltip": null,
            "layout": "IPY_MODEL_25d49b3d4fe643a5ae82a3e9045f201b",
            "placeholder": "​",
            "style": "IPY_MODEL_104ed050fb3349818ccf57de4358fed6",
            "value": " 1/1 [00:24&lt;00:00,  2.45s/ url]"
          }
        },
        "e03be334d42546cc886284685ab5ab87": {
          "model_module": "@jupyter-widgets/base",
          "model_name": "LayoutModel",
          "model_module_version": "1.2.0",
          "state": {
            "_model_module": "@jupyter-widgets/base",
            "_model_module_version": "1.2.0",
            "_model_name": "LayoutModel",
            "_view_count": null,
            "_view_module": "@jupyter-widgets/base",
            "_view_module_version": "1.2.0",
            "_view_name": "LayoutView",
            "align_content": null,
            "align_items": null,
            "align_self": null,
            "border": null,
            "bottom": null,
            "display": null,
            "flex": null,
            "flex_flow": null,
            "grid_area": null,
            "grid_auto_columns": null,
            "grid_auto_flow": null,
            "grid_auto_rows": null,
            "grid_column": null,
            "grid_gap": null,
            "grid_row": null,
            "grid_template_areas": null,
            "grid_template_columns": null,
            "grid_template_rows": null,
            "height": null,
            "justify_content": null,
            "justify_items": null,
            "left": null,
            "margin": null,
            "max_height": null,
            "max_width": null,
            "min_height": null,
            "min_width": null,
            "object_fit": null,
            "object_position": null,
            "order": null,
            "overflow": null,
            "overflow_x": null,
            "overflow_y": null,
            "padding": null,
            "right": null,
            "top": null,
            "visibility": null,
            "width": null
          }
        },
        "de64f3c0dc514d0f8e41581f1e02c67d": {
          "model_module": "@jupyter-widgets/base",
          "model_name": "LayoutModel",
          "model_module_version": "1.2.0",
          "state": {
            "_model_module": "@jupyter-widgets/base",
            "_model_module_version": "1.2.0",
            "_model_name": "LayoutModel",
            "_view_count": null,
            "_view_module": "@jupyter-widgets/base",
            "_view_module_version": "1.2.0",
            "_view_name": "LayoutView",
            "align_content": null,
            "align_items": null,
            "align_self": null,
            "border": null,
            "bottom": null,
            "display": null,
            "flex": null,
            "flex_flow": null,
            "grid_area": null,
            "grid_auto_columns": null,
            "grid_auto_flow": null,
            "grid_auto_rows": null,
            "grid_column": null,
            "grid_gap": null,
            "grid_row": null,
            "grid_template_areas": null,
            "grid_template_columns": null,
            "grid_template_rows": null,
            "height": null,
            "justify_content": null,
            "justify_items": null,
            "left": null,
            "margin": null,
            "max_height": null,
            "max_width": null,
            "min_height": null,
            "min_width": null,
            "object_fit": null,
            "object_position": null,
            "order": null,
            "overflow": null,
            "overflow_x": null,
            "overflow_y": null,
            "padding": null,
            "right": null,
            "top": null,
            "visibility": null,
            "width": null
          }
        },
        "d4f4ed7cf6854aa3bdb6b0a3149677a9": {
          "model_module": "@jupyter-widgets/controls",
          "model_name": "DescriptionStyleModel",
          "model_module_version": "1.5.0",
          "state": {
            "_model_module": "@jupyter-widgets/controls",
            "_model_module_version": "1.5.0",
            "_model_name": "DescriptionStyleModel",
            "_view_count": null,
            "_view_module": "@jupyter-widgets/base",
            "_view_module_version": "1.2.0",
            "_view_name": "StyleView",
            "description_width": ""
          }
        },
        "5f7fe8a8673749f5bb0f4223029a7163": {
          "model_module": "@jupyter-widgets/base",
          "model_name": "LayoutModel",
          "model_module_version": "1.2.0",
          "state": {
            "_model_module": "@jupyter-widgets/base",
            "_model_module_version": "1.2.0",
            "_model_name": "LayoutModel",
            "_view_count": null,
            "_view_module": "@jupyter-widgets/base",
            "_view_module_version": "1.2.0",
            "_view_name": "LayoutView",
            "align_content": null,
            "align_items": null,
            "align_self": null,
            "border": null,
            "bottom": null,
            "display": null,
            "flex": null,
            "flex_flow": null,
            "grid_area": null,
            "grid_auto_columns": null,
            "grid_auto_flow": null,
            "grid_auto_rows": null,
            "grid_column": null,
            "grid_gap": null,
            "grid_row": null,
            "grid_template_areas": null,
            "grid_template_columns": null,
            "grid_template_rows": null,
            "height": null,
            "justify_content": null,
            "justify_items": null,
            "left": null,
            "margin": null,
            "max_height": null,
            "max_width": null,
            "min_height": null,
            "min_width": null,
            "object_fit": null,
            "object_position": null,
            "order": null,
            "overflow": null,
            "overflow_x": null,
            "overflow_y": null,
            "padding": null,
            "right": null,
            "top": null,
            "visibility": null,
            "width": "20px"
          }
        },
        "694a029ed27c4a95a8bf3a88df98c866": {
          "model_module": "@jupyter-widgets/controls",
          "model_name": "ProgressStyleModel",
          "model_module_version": "1.5.0",
          "state": {
            "_model_module": "@jupyter-widgets/controls",
            "_model_module_version": "1.5.0",
            "_model_name": "ProgressStyleModel",
            "_view_count": null,
            "_view_module": "@jupyter-widgets/base",
            "_view_module_version": "1.2.0",
            "_view_name": "StyleView",
            "bar_color": null,
            "description_width": ""
          }
        },
        "25d49b3d4fe643a5ae82a3e9045f201b": {
          "model_module": "@jupyter-widgets/base",
          "model_name": "LayoutModel",
          "model_module_version": "1.2.0",
          "state": {
            "_model_module": "@jupyter-widgets/base",
            "_model_module_version": "1.2.0",
            "_model_name": "LayoutModel",
            "_view_count": null,
            "_view_module": "@jupyter-widgets/base",
            "_view_module_version": "1.2.0",
            "_view_name": "LayoutView",
            "align_content": null,
            "align_items": null,
            "align_self": null,
            "border": null,
            "bottom": null,
            "display": null,
            "flex": null,
            "flex_flow": null,
            "grid_area": null,
            "grid_auto_columns": null,
            "grid_auto_flow": null,
            "grid_auto_rows": null,
            "grid_column": null,
            "grid_gap": null,
            "grid_row": null,
            "grid_template_areas": null,
            "grid_template_columns": null,
            "grid_template_rows": null,
            "height": null,
            "justify_content": null,
            "justify_items": null,
            "left": null,
            "margin": null,
            "max_height": null,
            "max_width": null,
            "min_height": null,
            "min_width": null,
            "object_fit": null,
            "object_position": null,
            "order": null,
            "overflow": null,
            "overflow_x": null,
            "overflow_y": null,
            "padding": null,
            "right": null,
            "top": null,
            "visibility": null,
            "width": null
          }
        },
        "104ed050fb3349818ccf57de4358fed6": {
          "model_module": "@jupyter-widgets/controls",
          "model_name": "DescriptionStyleModel",
          "model_module_version": "1.5.0",
          "state": {
            "_model_module": "@jupyter-widgets/controls",
            "_model_module_version": "1.5.0",
            "_model_name": "DescriptionStyleModel",
            "_view_count": null,
            "_view_module": "@jupyter-widgets/base",
            "_view_module_version": "1.2.0",
            "_view_name": "StyleView",
            "description_width": ""
          }
        },
        "215f9db465be425187d2587eac953b2b": {
          "model_module": "@jupyter-widgets/controls",
          "model_name": "HBoxModel",
          "model_module_version": "1.5.0",
          "state": {
            "_dom_classes": [],
            "_model_module": "@jupyter-widgets/controls",
            "_model_module_version": "1.5.0",
            "_model_name": "HBoxModel",
            "_view_count": null,
            "_view_module": "@jupyter-widgets/controls",
            "_view_module_version": "1.5.0",
            "_view_name": "HBoxView",
            "box_style": "",
            "children": [
              "IPY_MODEL_bfe6ce612b68461299290edeb71f7c57",
              "IPY_MODEL_73a3a3d1e8774aaba937ba79cf9de903",
              "IPY_MODEL_d50899f4e20c47f4a719a74f6839ad47"
            ],
            "layout": "IPY_MODEL_40661de097e64da8b4511a867ddb5d95"
          }
        },
        "bfe6ce612b68461299290edeb71f7c57": {
          "model_module": "@jupyter-widgets/controls",
          "model_name": "HTMLModel",
          "model_module_version": "1.5.0",
          "state": {
            "_dom_classes": [],
            "_model_module": "@jupyter-widgets/controls",
            "_model_module_version": "1.5.0",
            "_model_name": "HTMLModel",
            "_view_count": null,
            "_view_module": "@jupyter-widgets/controls",
            "_view_module_version": "1.5.0",
            "_view_name": "HTMLView",
            "description": "",
            "description_tooltip": null,
            "layout": "IPY_MODEL_1cd6550e59f748cd8bd64e9b3a554389",
            "placeholder": "​",
            "style": "IPY_MODEL_28e5537a068b4b068d5caf920a90814b",
            "value": "Dl Size...: "
          }
        },
        "73a3a3d1e8774aaba937ba79cf9de903": {
          "model_module": "@jupyter-widgets/controls",
          "model_name": "FloatProgressModel",
          "model_module_version": "1.5.0",
          "state": {
            "_dom_classes": [],
            "_model_module": "@jupyter-widgets/controls",
            "_model_module_version": "1.5.0",
            "_model_name": "FloatProgressModel",
            "_view_count": null,
            "_view_module": "@jupyter-widgets/controls",
            "_view_module_version": "1.5.0",
            "_view_name": "ProgressView",
            "bar_style": "success",
            "description": "",
            "description_tooltip": null,
            "layout": "IPY_MODEL_a8459d18e6f145028607381f5a880263",
            "max": 1,
            "min": 0,
            "orientation": "horizontal",
            "style": "IPY_MODEL_560579271d5d450e91e165a192c4dc71",
            "value": 1
          }
        },
        "d50899f4e20c47f4a719a74f6839ad47": {
          "model_module": "@jupyter-widgets/controls",
          "model_name": "HTMLModel",
          "model_module_version": "1.5.0",
          "state": {
            "_dom_classes": [],
            "_model_module": "@jupyter-widgets/controls",
            "_model_module_version": "1.5.0",
            "_model_name": "HTMLModel",
            "_view_count": null,
            "_view_module": "@jupyter-widgets/controls",
            "_view_module_version": "1.5.0",
            "_view_name": "HTMLView",
            "description": "",
            "description_tooltip": null,
            "layout": "IPY_MODEL_8667b1832c5e429481025ab672c3bb6d",
            "placeholder": "​",
            "style": "IPY_MODEL_a0dd4c0dc61a4e9396cb15804b31e5de",
            "value": " 11/0 [00:24&lt;00:00,  1.78s/ MiB]"
          }
        },
        "40661de097e64da8b4511a867ddb5d95": {
          "model_module": "@jupyter-widgets/base",
          "model_name": "LayoutModel",
          "model_module_version": "1.2.0",
          "state": {
            "_model_module": "@jupyter-widgets/base",
            "_model_module_version": "1.2.0",
            "_model_name": "LayoutModel",
            "_view_count": null,
            "_view_module": "@jupyter-widgets/base",
            "_view_module_version": "1.2.0",
            "_view_name": "LayoutView",
            "align_content": null,
            "align_items": null,
            "align_self": null,
            "border": null,
            "bottom": null,
            "display": null,
            "flex": null,
            "flex_flow": null,
            "grid_area": null,
            "grid_auto_columns": null,
            "grid_auto_flow": null,
            "grid_auto_rows": null,
            "grid_column": null,
            "grid_gap": null,
            "grid_row": null,
            "grid_template_areas": null,
            "grid_template_columns": null,
            "grid_template_rows": null,
            "height": null,
            "justify_content": null,
            "justify_items": null,
            "left": null,
            "margin": null,
            "max_height": null,
            "max_width": null,
            "min_height": null,
            "min_width": null,
            "object_fit": null,
            "object_position": null,
            "order": null,
            "overflow": null,
            "overflow_x": null,
            "overflow_y": null,
            "padding": null,
            "right": null,
            "top": null,
            "visibility": null,
            "width": null
          }
        },
        "1cd6550e59f748cd8bd64e9b3a554389": {
          "model_module": "@jupyter-widgets/base",
          "model_name": "LayoutModel",
          "model_module_version": "1.2.0",
          "state": {
            "_model_module": "@jupyter-widgets/base",
            "_model_module_version": "1.2.0",
            "_model_name": "LayoutModel",
            "_view_count": null,
            "_view_module": "@jupyter-widgets/base",
            "_view_module_version": "1.2.0",
            "_view_name": "LayoutView",
            "align_content": null,
            "align_items": null,
            "align_self": null,
            "border": null,
            "bottom": null,
            "display": null,
            "flex": null,
            "flex_flow": null,
            "grid_area": null,
            "grid_auto_columns": null,
            "grid_auto_flow": null,
            "grid_auto_rows": null,
            "grid_column": null,
            "grid_gap": null,
            "grid_row": null,
            "grid_template_areas": null,
            "grid_template_columns": null,
            "grid_template_rows": null,
            "height": null,
            "justify_content": null,
            "justify_items": null,
            "left": null,
            "margin": null,
            "max_height": null,
            "max_width": null,
            "min_height": null,
            "min_width": null,
            "object_fit": null,
            "object_position": null,
            "order": null,
            "overflow": null,
            "overflow_x": null,
            "overflow_y": null,
            "padding": null,
            "right": null,
            "top": null,
            "visibility": null,
            "width": null
          }
        },
        "28e5537a068b4b068d5caf920a90814b": {
          "model_module": "@jupyter-widgets/controls",
          "model_name": "DescriptionStyleModel",
          "model_module_version": "1.5.0",
          "state": {
            "_model_module": "@jupyter-widgets/controls",
            "_model_module_version": "1.5.0",
            "_model_name": "DescriptionStyleModel",
            "_view_count": null,
            "_view_module": "@jupyter-widgets/base",
            "_view_module_version": "1.2.0",
            "_view_name": "StyleView",
            "description_width": ""
          }
        },
        "a8459d18e6f145028607381f5a880263": {
          "model_module": "@jupyter-widgets/base",
          "model_name": "LayoutModel",
          "model_module_version": "1.2.0",
          "state": {
            "_model_module": "@jupyter-widgets/base",
            "_model_module_version": "1.2.0",
            "_model_name": "LayoutModel",
            "_view_count": null,
            "_view_module": "@jupyter-widgets/base",
            "_view_module_version": "1.2.0",
            "_view_name": "LayoutView",
            "align_content": null,
            "align_items": null,
            "align_self": null,
            "border": null,
            "bottom": null,
            "display": null,
            "flex": null,
            "flex_flow": null,
            "grid_area": null,
            "grid_auto_columns": null,
            "grid_auto_flow": null,
            "grid_auto_rows": null,
            "grid_column": null,
            "grid_gap": null,
            "grid_row": null,
            "grid_template_areas": null,
            "grid_template_columns": null,
            "grid_template_rows": null,
            "height": null,
            "justify_content": null,
            "justify_items": null,
            "left": null,
            "margin": null,
            "max_height": null,
            "max_width": null,
            "min_height": null,
            "min_width": null,
            "object_fit": null,
            "object_position": null,
            "order": null,
            "overflow": null,
            "overflow_x": null,
            "overflow_y": null,
            "padding": null,
            "right": null,
            "top": null,
            "visibility": null,
            "width": "20px"
          }
        },
        "560579271d5d450e91e165a192c4dc71": {
          "model_module": "@jupyter-widgets/controls",
          "model_name": "ProgressStyleModel",
          "model_module_version": "1.5.0",
          "state": {
            "_model_module": "@jupyter-widgets/controls",
            "_model_module_version": "1.5.0",
            "_model_name": "ProgressStyleModel",
            "_view_count": null,
            "_view_module": "@jupyter-widgets/base",
            "_view_module_version": "1.2.0",
            "_view_name": "StyleView",
            "bar_color": null,
            "description_width": ""
          }
        },
        "8667b1832c5e429481025ab672c3bb6d": {
          "model_module": "@jupyter-widgets/base",
          "model_name": "LayoutModel",
          "model_module_version": "1.2.0",
          "state": {
            "_model_module": "@jupyter-widgets/base",
            "_model_module_version": "1.2.0",
            "_model_name": "LayoutModel",
            "_view_count": null,
            "_view_module": "@jupyter-widgets/base",
            "_view_module_version": "1.2.0",
            "_view_name": "LayoutView",
            "align_content": null,
            "align_items": null,
            "align_self": null,
            "border": null,
            "bottom": null,
            "display": null,
            "flex": null,
            "flex_flow": null,
            "grid_area": null,
            "grid_auto_columns": null,
            "grid_auto_flow": null,
            "grid_auto_rows": null,
            "grid_column": null,
            "grid_gap": null,
            "grid_row": null,
            "grid_template_areas": null,
            "grid_template_columns": null,
            "grid_template_rows": null,
            "height": null,
            "justify_content": null,
            "justify_items": null,
            "left": null,
            "margin": null,
            "max_height": null,
            "max_width": null,
            "min_height": null,
            "min_width": null,
            "object_fit": null,
            "object_position": null,
            "order": null,
            "overflow": null,
            "overflow_x": null,
            "overflow_y": null,
            "padding": null,
            "right": null,
            "top": null,
            "visibility": null,
            "width": null
          }
        },
        "a0dd4c0dc61a4e9396cb15804b31e5de": {
          "model_module": "@jupyter-widgets/controls",
          "model_name": "DescriptionStyleModel",
          "model_module_version": "1.5.0",
          "state": {
            "_model_module": "@jupyter-widgets/controls",
            "_model_module_version": "1.5.0",
            "_model_name": "DescriptionStyleModel",
            "_view_count": null,
            "_view_module": "@jupyter-widgets/base",
            "_view_module_version": "1.2.0",
            "_view_name": "StyleView",
            "description_width": ""
          }
        },
        "ee0d239bd3214e088dc53d07d798d70d": {
          "model_module": "@jupyter-widgets/controls",
          "model_name": "HBoxModel",
          "model_module_version": "1.5.0",
          "state": {
            "_dom_classes": [],
            "_model_module": "@jupyter-widgets/controls",
            "_model_module_version": "1.5.0",
            "_model_name": "HBoxModel",
            "_view_count": null,
            "_view_module": "@jupyter-widgets/controls",
            "_view_module_version": "1.5.0",
            "_view_name": "HBoxView",
            "box_style": "",
            "children": [
              "IPY_MODEL_75595ac6fae04bfd93cded0c171ecda5",
              "IPY_MODEL_fa41d5c19dba468d933d94d753025ff8",
              "IPY_MODEL_d999abf0f8d0496fba76398fe3ebe7eb"
            ],
            "layout": "IPY_MODEL_c5d9f5b0f7954fb5821b55b82a61c907"
          }
        },
        "75595ac6fae04bfd93cded0c171ecda5": {
          "model_module": "@jupyter-widgets/controls",
          "model_name": "HTMLModel",
          "model_module_version": "1.5.0",
          "state": {
            "_dom_classes": [],
            "_model_module": "@jupyter-widgets/controls",
            "_model_module_version": "1.5.0",
            "_model_name": "HTMLModel",
            "_view_count": null,
            "_view_module": "@jupyter-widgets/controls",
            "_view_module_version": "1.5.0",
            "_view_name": "HTMLView",
            "description": "",
            "description_tooltip": null,
            "layout": "IPY_MODEL_bb0d57a417f34197a139bc9f37227318",
            "placeholder": "​",
            "style": "IPY_MODEL_908260db47f64d66b62bca2f504d78bf",
            "value": "Extraction completed...: 100%"
          }
        },
        "fa41d5c19dba468d933d94d753025ff8": {
          "model_module": "@jupyter-widgets/controls",
          "model_name": "FloatProgressModel",
          "model_module_version": "1.5.0",
          "state": {
            "_dom_classes": [],
            "_model_module": "@jupyter-widgets/controls",
            "_model_module_version": "1.5.0",
            "_model_name": "FloatProgressModel",
            "_view_count": null,
            "_view_module": "@jupyter-widgets/controls",
            "_view_module_version": "1.5.0",
            "_view_name": "ProgressView",
            "bar_style": "success",
            "description": "",
            "description_tooltip": null,
            "layout": "IPY_MODEL_1fbc35015ad448308f9c2445cf267cea",
            "max": 1,
            "min": 0,
            "orientation": "horizontal",
            "style": "IPY_MODEL_1158361f209d4a1585a6206853dd8ed5",
            "value": 1
          }
        },
        "d999abf0f8d0496fba76398fe3ebe7eb": {
          "model_module": "@jupyter-widgets/controls",
          "model_name": "HTMLModel",
          "model_module_version": "1.5.0",
          "state": {
            "_dom_classes": [],
            "_model_module": "@jupyter-widgets/controls",
            "_model_module_version": "1.5.0",
            "_model_name": "HTMLModel",
            "_view_count": null,
            "_view_module": "@jupyter-widgets/controls",
            "_view_module_version": "1.5.0",
            "_view_name": "HTMLView",
            "description": "",
            "description_tooltip": null,
            "layout": "IPY_MODEL_b5e854221e444c989d16e8664b6afa49",
            "placeholder": "​",
            "style": "IPY_MODEL_4b63cfa36fb54a8bb3cf61d95ad42cad",
            "value": " 2511/2511 [00:24&lt;00:00, 202.16 file/s]"
          }
        },
        "c5d9f5b0f7954fb5821b55b82a61c907": {
          "model_module": "@jupyter-widgets/base",
          "model_name": "LayoutModel",
          "model_module_version": "1.2.0",
          "state": {
            "_model_module": "@jupyter-widgets/base",
            "_model_module_version": "1.2.0",
            "_model_name": "LayoutModel",
            "_view_count": null,
            "_view_module": "@jupyter-widgets/base",
            "_view_module_version": "1.2.0",
            "_view_name": "LayoutView",
            "align_content": null,
            "align_items": null,
            "align_self": null,
            "border": null,
            "bottom": null,
            "display": null,
            "flex": null,
            "flex_flow": null,
            "grid_area": null,
            "grid_auto_columns": null,
            "grid_auto_flow": null,
            "grid_auto_rows": null,
            "grid_column": null,
            "grid_gap": null,
            "grid_row": null,
            "grid_template_areas": null,
            "grid_template_columns": null,
            "grid_template_rows": null,
            "height": null,
            "justify_content": null,
            "justify_items": null,
            "left": null,
            "margin": null,
            "max_height": null,
            "max_width": null,
            "min_height": null,
            "min_width": null,
            "object_fit": null,
            "object_position": null,
            "order": null,
            "overflow": null,
            "overflow_x": null,
            "overflow_y": null,
            "padding": null,
            "right": null,
            "top": null,
            "visibility": null,
            "width": null
          }
        },
        "bb0d57a417f34197a139bc9f37227318": {
          "model_module": "@jupyter-widgets/base",
          "model_name": "LayoutModel",
          "model_module_version": "1.2.0",
          "state": {
            "_model_module": "@jupyter-widgets/base",
            "_model_module_version": "1.2.0",
            "_model_name": "LayoutModel",
            "_view_count": null,
            "_view_module": "@jupyter-widgets/base",
            "_view_module_version": "1.2.0",
            "_view_name": "LayoutView",
            "align_content": null,
            "align_items": null,
            "align_self": null,
            "border": null,
            "bottom": null,
            "display": null,
            "flex": null,
            "flex_flow": null,
            "grid_area": null,
            "grid_auto_columns": null,
            "grid_auto_flow": null,
            "grid_auto_rows": null,
            "grid_column": null,
            "grid_gap": null,
            "grid_row": null,
            "grid_template_areas": null,
            "grid_template_columns": null,
            "grid_template_rows": null,
            "height": null,
            "justify_content": null,
            "justify_items": null,
            "left": null,
            "margin": null,
            "max_height": null,
            "max_width": null,
            "min_height": null,
            "min_width": null,
            "object_fit": null,
            "object_position": null,
            "order": null,
            "overflow": null,
            "overflow_x": null,
            "overflow_y": null,
            "padding": null,
            "right": null,
            "top": null,
            "visibility": null,
            "width": null
          }
        },
        "908260db47f64d66b62bca2f504d78bf": {
          "model_module": "@jupyter-widgets/controls",
          "model_name": "DescriptionStyleModel",
          "model_module_version": "1.5.0",
          "state": {
            "_model_module": "@jupyter-widgets/controls",
            "_model_module_version": "1.5.0",
            "_model_name": "DescriptionStyleModel",
            "_view_count": null,
            "_view_module": "@jupyter-widgets/base",
            "_view_module_version": "1.2.0",
            "_view_name": "StyleView",
            "description_width": ""
          }
        },
        "1fbc35015ad448308f9c2445cf267cea": {
          "model_module": "@jupyter-widgets/base",
          "model_name": "LayoutModel",
          "model_module_version": "1.2.0",
          "state": {
            "_model_module": "@jupyter-widgets/base",
            "_model_module_version": "1.2.0",
            "_model_name": "LayoutModel",
            "_view_count": null,
            "_view_module": "@jupyter-widgets/base",
            "_view_module_version": "1.2.0",
            "_view_name": "LayoutView",
            "align_content": null,
            "align_items": null,
            "align_self": null,
            "border": null,
            "bottom": null,
            "display": null,
            "flex": null,
            "flex_flow": null,
            "grid_area": null,
            "grid_auto_columns": null,
            "grid_auto_flow": null,
            "grid_auto_rows": null,
            "grid_column": null,
            "grid_gap": null,
            "grid_row": null,
            "grid_template_areas": null,
            "grid_template_columns": null,
            "grid_template_rows": null,
            "height": null,
            "justify_content": null,
            "justify_items": null,
            "left": null,
            "margin": null,
            "max_height": null,
            "max_width": null,
            "min_height": null,
            "min_width": null,
            "object_fit": null,
            "object_position": null,
            "order": null,
            "overflow": null,
            "overflow_x": null,
            "overflow_y": null,
            "padding": null,
            "right": null,
            "top": null,
            "visibility": null,
            "width": "20px"
          }
        },
        "1158361f209d4a1585a6206853dd8ed5": {
          "model_module": "@jupyter-widgets/controls",
          "model_name": "ProgressStyleModel",
          "model_module_version": "1.5.0",
          "state": {
            "_model_module": "@jupyter-widgets/controls",
            "_model_module_version": "1.5.0",
            "_model_name": "ProgressStyleModel",
            "_view_count": null,
            "_view_module": "@jupyter-widgets/base",
            "_view_module_version": "1.2.0",
            "_view_name": "StyleView",
            "bar_color": null,
            "description_width": ""
          }
        },
        "b5e854221e444c989d16e8664b6afa49": {
          "model_module": "@jupyter-widgets/base",
          "model_name": "LayoutModel",
          "model_module_version": "1.2.0",
          "state": {
            "_model_module": "@jupyter-widgets/base",
            "_model_module_version": "1.2.0",
            "_model_name": "LayoutModel",
            "_view_count": null,
            "_view_module": "@jupyter-widgets/base",
            "_view_module_version": "1.2.0",
            "_view_name": "LayoutView",
            "align_content": null,
            "align_items": null,
            "align_self": null,
            "border": null,
            "bottom": null,
            "display": null,
            "flex": null,
            "flex_flow": null,
            "grid_area": null,
            "grid_auto_columns": null,
            "grid_auto_flow": null,
            "grid_auto_rows": null,
            "grid_column": null,
            "grid_gap": null,
            "grid_row": null,
            "grid_template_areas": null,
            "grid_template_columns": null,
            "grid_template_rows": null,
            "height": null,
            "justify_content": null,
            "justify_items": null,
            "left": null,
            "margin": null,
            "max_height": null,
            "max_width": null,
            "min_height": null,
            "min_width": null,
            "object_fit": null,
            "object_position": null,
            "order": null,
            "overflow": null,
            "overflow_x": null,
            "overflow_y": null,
            "padding": null,
            "right": null,
            "top": null,
            "visibility": null,
            "width": null
          }
        },
        "4b63cfa36fb54a8bb3cf61d95ad42cad": {
          "model_module": "@jupyter-widgets/controls",
          "model_name": "DescriptionStyleModel",
          "model_module_version": "1.5.0",
          "state": {
            "_model_module": "@jupyter-widgets/controls",
            "_model_module_version": "1.5.0",
            "_model_name": "DescriptionStyleModel",
            "_view_count": null,
            "_view_module": "@jupyter-widgets/base",
            "_view_module_version": "1.2.0",
            "_view_name": "StyleView",
            "description_width": ""
          }
        },
        "9deaba0d03cd41208cf1665a516271dd": {
          "model_module": "@jupyter-widgets/controls",
          "model_name": "HBoxModel",
          "model_module_version": "1.5.0",
          "state": {
            "_dom_classes": [],
            "_model_module": "@jupyter-widgets/controls",
            "_model_module_version": "1.5.0",
            "_model_name": "HBoxModel",
            "_view_count": null,
            "_view_module": "@jupyter-widgets/controls",
            "_view_module_version": "1.5.0",
            "_view_name": "HBoxView",
            "box_style": "",
            "children": [
              "IPY_MODEL_3b88e12f308848d5a06befddd5049cd6",
              "IPY_MODEL_5bd6d2f7f7d24b8d9f8742f2e6a28a09",
              "IPY_MODEL_82619b7fb6aa436bae99ef4f3d973956"
            ],
            "layout": "IPY_MODEL_fe8b6bdd30104caeb0cb270ef2e1183e"
          }
        },
        "3b88e12f308848d5a06befddd5049cd6": {
          "model_module": "@jupyter-widgets/controls",
          "model_name": "HTMLModel",
          "model_module_version": "1.5.0",
          "state": {
            "_dom_classes": [],
            "_model_module": "@jupyter-widgets/controls",
            "_model_module_version": "1.5.0",
            "_model_name": "HTMLModel",
            "_view_count": null,
            "_view_module": "@jupyter-widgets/controls",
            "_view_module_version": "1.5.0",
            "_view_name": "HTMLView",
            "description": "",
            "description_tooltip": null,
            "layout": "IPY_MODEL_7cc6e1685b7c405080c7ebd9847f8a9f",
            "placeholder": "​",
            "style": "IPY_MODEL_9f40abbf40c643ef94bb59b40b112d60",
            "value": "Generating splits...: 100%"
          }
        },
        "5bd6d2f7f7d24b8d9f8742f2e6a28a09": {
          "model_module": "@jupyter-widgets/controls",
          "model_name": "FloatProgressModel",
          "model_module_version": "1.5.0",
          "state": {
            "_dom_classes": [],
            "_model_module": "@jupyter-widgets/controls",
            "_model_module_version": "1.5.0",
            "_model_name": "FloatProgressModel",
            "_view_count": null,
            "_view_module": "@jupyter-widgets/controls",
            "_view_module_version": "1.5.0",
            "_view_name": "ProgressView",
            "bar_style": "",
            "description": "",
            "description_tooltip": null,
            "layout": "IPY_MODEL_df87f5f9670f419cbc163f64ccdb9792",
            "max": 1,
            "min": 0,
            "orientation": "horizontal",
            "style": "IPY_MODEL_52f45392ee6e42d19efaec929ffd4629",
            "value": 1
          }
        },
        "82619b7fb6aa436bae99ef4f3d973956": {
          "model_module": "@jupyter-widgets/controls",
          "model_name": "HTMLModel",
          "model_module_version": "1.5.0",
          "state": {
            "_dom_classes": [],
            "_model_module": "@jupyter-widgets/controls",
            "_model_module_version": "1.5.0",
            "_model_name": "HTMLModel",
            "_view_count": null,
            "_view_module": "@jupyter-widgets/controls",
            "_view_module_version": "1.5.0",
            "_view_name": "HTMLView",
            "description": "",
            "description_tooltip": null,
            "layout": "IPY_MODEL_e08261a009a348e4bf9f2ee238fe220e",
            "placeholder": "​",
            "style": "IPY_MODEL_48f3de77c59948969777bb02d9c7394d",
            "value": " 1/1 [00:12&lt;00:00, 12.02s/ splits]"
          }
        },
        "fe8b6bdd30104caeb0cb270ef2e1183e": {
          "model_module": "@jupyter-widgets/base",
          "model_name": "LayoutModel",
          "model_module_version": "1.2.0",
          "state": {
            "_model_module": "@jupyter-widgets/base",
            "_model_module_version": "1.2.0",
            "_model_name": "LayoutModel",
            "_view_count": null,
            "_view_module": "@jupyter-widgets/base",
            "_view_module_version": "1.2.0",
            "_view_name": "LayoutView",
            "align_content": null,
            "align_items": null,
            "align_self": null,
            "border": null,
            "bottom": null,
            "display": null,
            "flex": null,
            "flex_flow": null,
            "grid_area": null,
            "grid_auto_columns": null,
            "grid_auto_flow": null,
            "grid_auto_rows": null,
            "grid_column": null,
            "grid_gap": null,
            "grid_row": null,
            "grid_template_areas": null,
            "grid_template_columns": null,
            "grid_template_rows": null,
            "height": null,
            "justify_content": null,
            "justify_items": null,
            "left": null,
            "margin": null,
            "max_height": null,
            "max_width": null,
            "min_height": null,
            "min_width": null,
            "object_fit": null,
            "object_position": null,
            "order": null,
            "overflow": null,
            "overflow_x": null,
            "overflow_y": null,
            "padding": null,
            "right": null,
            "top": null,
            "visibility": "hidden",
            "width": null
          }
        },
        "7cc6e1685b7c405080c7ebd9847f8a9f": {
          "model_module": "@jupyter-widgets/base",
          "model_name": "LayoutModel",
          "model_module_version": "1.2.0",
          "state": {
            "_model_module": "@jupyter-widgets/base",
            "_model_module_version": "1.2.0",
            "_model_name": "LayoutModel",
            "_view_count": null,
            "_view_module": "@jupyter-widgets/base",
            "_view_module_version": "1.2.0",
            "_view_name": "LayoutView",
            "align_content": null,
            "align_items": null,
            "align_self": null,
            "border": null,
            "bottom": null,
            "display": null,
            "flex": null,
            "flex_flow": null,
            "grid_area": null,
            "grid_auto_columns": null,
            "grid_auto_flow": null,
            "grid_auto_rows": null,
            "grid_column": null,
            "grid_gap": null,
            "grid_row": null,
            "grid_template_areas": null,
            "grid_template_columns": null,
            "grid_template_rows": null,
            "height": null,
            "justify_content": null,
            "justify_items": null,
            "left": null,
            "margin": null,
            "max_height": null,
            "max_width": null,
            "min_height": null,
            "min_width": null,
            "object_fit": null,
            "object_position": null,
            "order": null,
            "overflow": null,
            "overflow_x": null,
            "overflow_y": null,
            "padding": null,
            "right": null,
            "top": null,
            "visibility": null,
            "width": null
          }
        },
        "9f40abbf40c643ef94bb59b40b112d60": {
          "model_module": "@jupyter-widgets/controls",
          "model_name": "DescriptionStyleModel",
          "model_module_version": "1.5.0",
          "state": {
            "_model_module": "@jupyter-widgets/controls",
            "_model_module_version": "1.5.0",
            "_model_name": "DescriptionStyleModel",
            "_view_count": null,
            "_view_module": "@jupyter-widgets/base",
            "_view_module_version": "1.2.0",
            "_view_name": "StyleView",
            "description_width": ""
          }
        },
        "df87f5f9670f419cbc163f64ccdb9792": {
          "model_module": "@jupyter-widgets/base",
          "model_name": "LayoutModel",
          "model_module_version": "1.2.0",
          "state": {
            "_model_module": "@jupyter-widgets/base",
            "_model_module_version": "1.2.0",
            "_model_name": "LayoutModel",
            "_view_count": null,
            "_view_module": "@jupyter-widgets/base",
            "_view_module_version": "1.2.0",
            "_view_name": "LayoutView",
            "align_content": null,
            "align_items": null,
            "align_self": null,
            "border": null,
            "bottom": null,
            "display": null,
            "flex": null,
            "flex_flow": null,
            "grid_area": null,
            "grid_auto_columns": null,
            "grid_auto_flow": null,
            "grid_auto_rows": null,
            "grid_column": null,
            "grid_gap": null,
            "grid_row": null,
            "grid_template_areas": null,
            "grid_template_columns": null,
            "grid_template_rows": null,
            "height": null,
            "justify_content": null,
            "justify_items": null,
            "left": null,
            "margin": null,
            "max_height": null,
            "max_width": null,
            "min_height": null,
            "min_width": null,
            "object_fit": null,
            "object_position": null,
            "order": null,
            "overflow": null,
            "overflow_x": null,
            "overflow_y": null,
            "padding": null,
            "right": null,
            "top": null,
            "visibility": null,
            "width": null
          }
        },
        "52f45392ee6e42d19efaec929ffd4629": {
          "model_module": "@jupyter-widgets/controls",
          "model_name": "ProgressStyleModel",
          "model_module_version": "1.5.0",
          "state": {
            "_model_module": "@jupyter-widgets/controls",
            "_model_module_version": "1.5.0",
            "_model_name": "ProgressStyleModel",
            "_view_count": null,
            "_view_module": "@jupyter-widgets/base",
            "_view_module_version": "1.2.0",
            "_view_name": "StyleView",
            "bar_color": null,
            "description_width": ""
          }
        },
        "e08261a009a348e4bf9f2ee238fe220e": {
          "model_module": "@jupyter-widgets/base",
          "model_name": "LayoutModel",
          "model_module_version": "1.2.0",
          "state": {
            "_model_module": "@jupyter-widgets/base",
            "_model_module_version": "1.2.0",
            "_model_name": "LayoutModel",
            "_view_count": null,
            "_view_module": "@jupyter-widgets/base",
            "_view_module_version": "1.2.0",
            "_view_name": "LayoutView",
            "align_content": null,
            "align_items": null,
            "align_self": null,
            "border": null,
            "bottom": null,
            "display": null,
            "flex": null,
            "flex_flow": null,
            "grid_area": null,
            "grid_auto_columns": null,
            "grid_auto_flow": null,
            "grid_auto_rows": null,
            "grid_column": null,
            "grid_gap": null,
            "grid_row": null,
            "grid_template_areas": null,
            "grid_template_columns": null,
            "grid_template_rows": null,
            "height": null,
            "justify_content": null,
            "justify_items": null,
            "left": null,
            "margin": null,
            "max_height": null,
            "max_width": null,
            "min_height": null,
            "min_width": null,
            "object_fit": null,
            "object_position": null,
            "order": null,
            "overflow": null,
            "overflow_x": null,
            "overflow_y": null,
            "padding": null,
            "right": null,
            "top": null,
            "visibility": null,
            "width": null
          }
        },
        "48f3de77c59948969777bb02d9c7394d": {
          "model_module": "@jupyter-widgets/controls",
          "model_name": "DescriptionStyleModel",
          "model_module_version": "1.5.0",
          "state": {
            "_model_module": "@jupyter-widgets/controls",
            "_model_module_version": "1.5.0",
            "_model_name": "DescriptionStyleModel",
            "_view_count": null,
            "_view_module": "@jupyter-widgets/base",
            "_view_module_version": "1.2.0",
            "_view_name": "StyleView",
            "description_width": ""
          }
        },
        "f897619aa98749adbc6cc788926fab9b": {
          "model_module": "@jupyter-widgets/controls",
          "model_name": "HBoxModel",
          "model_module_version": "1.5.0",
          "state": {
            "_dom_classes": [],
            "_model_module": "@jupyter-widgets/controls",
            "_model_module_version": "1.5.0",
            "_model_name": "HBoxModel",
            "_view_count": null,
            "_view_module": "@jupyter-widgets/controls",
            "_view_module_version": "1.5.0",
            "_view_name": "HBoxView",
            "box_style": "",
            "children": [
              "IPY_MODEL_948f41b65fe74754a762b6ac26003d03",
              "IPY_MODEL_3b775c9651df40b0a7e4c7248bd07af0",
              "IPY_MODEL_f1b3221ae8394a1d93f55c9b5b86ca06"
            ],
            "layout": "IPY_MODEL_fa254c8698be4034851b96b710e6b781"
          }
        },
        "948f41b65fe74754a762b6ac26003d03": {
          "model_module": "@jupyter-widgets/controls",
          "model_name": "HTMLModel",
          "model_module_version": "1.5.0",
          "state": {
            "_dom_classes": [],
            "_model_module": "@jupyter-widgets/controls",
            "_model_module_version": "1.5.0",
            "_model_name": "HTMLModel",
            "_view_count": null,
            "_view_module": "@jupyter-widgets/controls",
            "_view_module_version": "1.5.0",
            "_view_name": "HTMLView",
            "description": "",
            "description_tooltip": null,
            "layout": "IPY_MODEL_9fa9cc4f39e4450cb4a39c1d6dd814b9",
            "placeholder": "​",
            "style": "IPY_MODEL_002c9cf3dfd9421aa2b36bf425cabaa4",
            "value": "Generating train examples...:  89%"
          }
        },
        "3b775c9651df40b0a7e4c7248bd07af0": {
          "model_module": "@jupyter-widgets/controls",
          "model_name": "FloatProgressModel",
          "model_module_version": "1.5.0",
          "state": {
            "_dom_classes": [],
            "_model_module": "@jupyter-widgets/controls",
            "_model_module_version": "1.5.0",
            "_model_name": "FloatProgressModel",
            "_view_count": null,
            "_view_module": "@jupyter-widgets/controls",
            "_view_module_version": "1.5.0",
            "_view_name": "ProgressView",
            "bar_style": "",
            "description": "",
            "description_tooltip": null,
            "layout": "IPY_MODEL_9f9855d674d0448686f854bfbdf81942",
            "max": 2500,
            "min": 0,
            "orientation": "horizontal",
            "style": "IPY_MODEL_e934fe7753e44978b077e09f047a5017",
            "value": 2500
          }
        },
        "f1b3221ae8394a1d93f55c9b5b86ca06": {
          "model_module": "@jupyter-widgets/controls",
          "model_name": "HTMLModel",
          "model_module_version": "1.5.0",
          "state": {
            "_dom_classes": [],
            "_model_module": "@jupyter-widgets/controls",
            "_model_module_version": "1.5.0",
            "_model_name": "HTMLModel",
            "_view_count": null,
            "_view_module": "@jupyter-widgets/controls",
            "_view_module_version": "1.5.0",
            "_view_name": "HTMLView",
            "description": "",
            "description_tooltip": null,
            "layout": "IPY_MODEL_3334f92b38b14d2ca3efc2b9e15576f2",
            "placeholder": "​",
            "style": "IPY_MODEL_01829d911fd3483e9542a18e9ed5bf82",
            "value": " 2228/2500 [00:10&lt;00:01, 232.19 examples/s]"
          }
        },
        "fa254c8698be4034851b96b710e6b781": {
          "model_module": "@jupyter-widgets/base",
          "model_name": "LayoutModel",
          "model_module_version": "1.2.0",
          "state": {
            "_model_module": "@jupyter-widgets/base",
            "_model_module_version": "1.2.0",
            "_model_name": "LayoutModel",
            "_view_count": null,
            "_view_module": "@jupyter-widgets/base",
            "_view_module_version": "1.2.0",
            "_view_name": "LayoutView",
            "align_content": null,
            "align_items": null,
            "align_self": null,
            "border": null,
            "bottom": null,
            "display": null,
            "flex": null,
            "flex_flow": null,
            "grid_area": null,
            "grid_auto_columns": null,
            "grid_auto_flow": null,
            "grid_auto_rows": null,
            "grid_column": null,
            "grid_gap": null,
            "grid_row": null,
            "grid_template_areas": null,
            "grid_template_columns": null,
            "grid_template_rows": null,
            "height": null,
            "justify_content": null,
            "justify_items": null,
            "left": null,
            "margin": null,
            "max_height": null,
            "max_width": null,
            "min_height": null,
            "min_width": null,
            "object_fit": null,
            "object_position": null,
            "order": null,
            "overflow": null,
            "overflow_x": null,
            "overflow_y": null,
            "padding": null,
            "right": null,
            "top": null,
            "visibility": "hidden",
            "width": null
          }
        },
        "9fa9cc4f39e4450cb4a39c1d6dd814b9": {
          "model_module": "@jupyter-widgets/base",
          "model_name": "LayoutModel",
          "model_module_version": "1.2.0",
          "state": {
            "_model_module": "@jupyter-widgets/base",
            "_model_module_version": "1.2.0",
            "_model_name": "LayoutModel",
            "_view_count": null,
            "_view_module": "@jupyter-widgets/base",
            "_view_module_version": "1.2.0",
            "_view_name": "LayoutView",
            "align_content": null,
            "align_items": null,
            "align_self": null,
            "border": null,
            "bottom": null,
            "display": null,
            "flex": null,
            "flex_flow": null,
            "grid_area": null,
            "grid_auto_columns": null,
            "grid_auto_flow": null,
            "grid_auto_rows": null,
            "grid_column": null,
            "grid_gap": null,
            "grid_row": null,
            "grid_template_areas": null,
            "grid_template_columns": null,
            "grid_template_rows": null,
            "height": null,
            "justify_content": null,
            "justify_items": null,
            "left": null,
            "margin": null,
            "max_height": null,
            "max_width": null,
            "min_height": null,
            "min_width": null,
            "object_fit": null,
            "object_position": null,
            "order": null,
            "overflow": null,
            "overflow_x": null,
            "overflow_y": null,
            "padding": null,
            "right": null,
            "top": null,
            "visibility": null,
            "width": null
          }
        },
        "002c9cf3dfd9421aa2b36bf425cabaa4": {
          "model_module": "@jupyter-widgets/controls",
          "model_name": "DescriptionStyleModel",
          "model_module_version": "1.5.0",
          "state": {
            "_model_module": "@jupyter-widgets/controls",
            "_model_module_version": "1.5.0",
            "_model_name": "DescriptionStyleModel",
            "_view_count": null,
            "_view_module": "@jupyter-widgets/base",
            "_view_module_version": "1.2.0",
            "_view_name": "StyleView",
            "description_width": ""
          }
        },
        "9f9855d674d0448686f854bfbdf81942": {
          "model_module": "@jupyter-widgets/base",
          "model_name": "LayoutModel",
          "model_module_version": "1.2.0",
          "state": {
            "_model_module": "@jupyter-widgets/base",
            "_model_module_version": "1.2.0",
            "_model_name": "LayoutModel",
            "_view_count": null,
            "_view_module": "@jupyter-widgets/base",
            "_view_module_version": "1.2.0",
            "_view_name": "LayoutView",
            "align_content": null,
            "align_items": null,
            "align_self": null,
            "border": null,
            "bottom": null,
            "display": null,
            "flex": null,
            "flex_flow": null,
            "grid_area": null,
            "grid_auto_columns": null,
            "grid_auto_flow": null,
            "grid_auto_rows": null,
            "grid_column": null,
            "grid_gap": null,
            "grid_row": null,
            "grid_template_areas": null,
            "grid_template_columns": null,
            "grid_template_rows": null,
            "height": null,
            "justify_content": null,
            "justify_items": null,
            "left": null,
            "margin": null,
            "max_height": null,
            "max_width": null,
            "min_height": null,
            "min_width": null,
            "object_fit": null,
            "object_position": null,
            "order": null,
            "overflow": null,
            "overflow_x": null,
            "overflow_y": null,
            "padding": null,
            "right": null,
            "top": null,
            "visibility": null,
            "width": null
          }
        },
        "e934fe7753e44978b077e09f047a5017": {
          "model_module": "@jupyter-widgets/controls",
          "model_name": "ProgressStyleModel",
          "model_module_version": "1.5.0",
          "state": {
            "_model_module": "@jupyter-widgets/controls",
            "_model_module_version": "1.5.0",
            "_model_name": "ProgressStyleModel",
            "_view_count": null,
            "_view_module": "@jupyter-widgets/base",
            "_view_module_version": "1.2.0",
            "_view_name": "StyleView",
            "bar_color": null,
            "description_width": ""
          }
        },
        "3334f92b38b14d2ca3efc2b9e15576f2": {
          "model_module": "@jupyter-widgets/base",
          "model_name": "LayoutModel",
          "model_module_version": "1.2.0",
          "state": {
            "_model_module": "@jupyter-widgets/base",
            "_model_module_version": "1.2.0",
            "_model_name": "LayoutModel",
            "_view_count": null,
            "_view_module": "@jupyter-widgets/base",
            "_view_module_version": "1.2.0",
            "_view_name": "LayoutView",
            "align_content": null,
            "align_items": null,
            "align_self": null,
            "border": null,
            "bottom": null,
            "display": null,
            "flex": null,
            "flex_flow": null,
            "grid_area": null,
            "grid_auto_columns": null,
            "grid_auto_flow": null,
            "grid_auto_rows": null,
            "grid_column": null,
            "grid_gap": null,
            "grid_row": null,
            "grid_template_areas": null,
            "grid_template_columns": null,
            "grid_template_rows": null,
            "height": null,
            "justify_content": null,
            "justify_items": null,
            "left": null,
            "margin": null,
            "max_height": null,
            "max_width": null,
            "min_height": null,
            "min_width": null,
            "object_fit": null,
            "object_position": null,
            "order": null,
            "overflow": null,
            "overflow_x": null,
            "overflow_y": null,
            "padding": null,
            "right": null,
            "top": null,
            "visibility": null,
            "width": null
          }
        },
        "01829d911fd3483e9542a18e9ed5bf82": {
          "model_module": "@jupyter-widgets/controls",
          "model_name": "DescriptionStyleModel",
          "model_module_version": "1.5.0",
          "state": {
            "_model_module": "@jupyter-widgets/controls",
            "_model_module_version": "1.5.0",
            "_model_name": "DescriptionStyleModel",
            "_view_count": null,
            "_view_module": "@jupyter-widgets/base",
            "_view_module_version": "1.2.0",
            "_view_name": "StyleView",
            "description_width": ""
          }
        },
        "3d6888569052464b8a9eb911f6bc14c2": {
          "model_module": "@jupyter-widgets/controls",
          "model_name": "HBoxModel",
          "model_module_version": "1.5.0",
          "state": {
            "_dom_classes": [],
            "_model_module": "@jupyter-widgets/controls",
            "_model_module_version": "1.5.0",
            "_model_name": "HBoxModel",
            "_view_count": null,
            "_view_module": "@jupyter-widgets/controls",
            "_view_module_version": "1.5.0",
            "_view_name": "HBoxView",
            "box_style": "",
            "children": [
              "IPY_MODEL_12312fe95d6e4f62870c503854e70f0a",
              "IPY_MODEL_57a4c99c81ed41fdbf6d8aa98701af90",
              "IPY_MODEL_1d2146822bcf429086f3df1a229f0521"
            ],
            "layout": "IPY_MODEL_13df56b90a5e469590f7403563b9937e"
          }
        },
        "12312fe95d6e4f62870c503854e70f0a": {
          "model_module": "@jupyter-widgets/controls",
          "model_name": "HTMLModel",
          "model_module_version": "1.5.0",
          "state": {
            "_dom_classes": [],
            "_model_module": "@jupyter-widgets/controls",
            "_model_module_version": "1.5.0",
            "_model_name": "HTMLModel",
            "_view_count": null,
            "_view_module": "@jupyter-widgets/controls",
            "_view_module_version": "1.5.0",
            "_view_name": "HTMLView",
            "description": "",
            "description_tooltip": null,
            "layout": "IPY_MODEL_8a341e5b34e74a50a5e521f26eefd5dc",
            "placeholder": "​",
            "style": "IPY_MODEL_9764380e2e4d447d952f97eaa30d2b74",
            "value": "Shuffling data/spoken_digit/incomplete.52HC3C_1.0.9/spoken_digit-train.tfrecord*...:   0%"
          }
        },
        "57a4c99c81ed41fdbf6d8aa98701af90": {
          "model_module": "@jupyter-widgets/controls",
          "model_name": "FloatProgressModel",
          "model_module_version": "1.5.0",
          "state": {
            "_dom_classes": [],
            "_model_module": "@jupyter-widgets/controls",
            "_model_module_version": "1.5.0",
            "_model_name": "FloatProgressModel",
            "_view_count": null,
            "_view_module": "@jupyter-widgets/controls",
            "_view_module_version": "1.5.0",
            "_view_name": "ProgressView",
            "bar_style": "",
            "description": "",
            "description_tooltip": null,
            "layout": "IPY_MODEL_7ddf7838319a4bbab169bb77ecb0c054",
            "max": 2500,
            "min": 0,
            "orientation": "horizontal",
            "style": "IPY_MODEL_14a0c0b0305d47cfae4d0b21a16ae0d5",
            "value": 2500
          }
        },
        "1d2146822bcf429086f3df1a229f0521": {
          "model_module": "@jupyter-widgets/controls",
          "model_name": "HTMLModel",
          "model_module_version": "1.5.0",
          "state": {
            "_dom_classes": [],
            "_model_module": "@jupyter-widgets/controls",
            "_model_module_version": "1.5.0",
            "_model_name": "HTMLModel",
            "_view_count": null,
            "_view_module": "@jupyter-widgets/controls",
            "_view_module_version": "1.5.0",
            "_view_name": "HTMLView",
            "description": "",
            "description_tooltip": null,
            "layout": "IPY_MODEL_b6c9fde371614286b9b406b0a2cc7a70",
            "placeholder": "​",
            "style": "IPY_MODEL_ca009d3c65334ad299d7d675d2bd2530",
            "value": " 0/2500 [00:00&lt;?, ? examples/s]"
          }
        },
        "13df56b90a5e469590f7403563b9937e": {
          "model_module": "@jupyter-widgets/base",
          "model_name": "LayoutModel",
          "model_module_version": "1.2.0",
          "state": {
            "_model_module": "@jupyter-widgets/base",
            "_model_module_version": "1.2.0",
            "_model_name": "LayoutModel",
            "_view_count": null,
            "_view_module": "@jupyter-widgets/base",
            "_view_module_version": "1.2.0",
            "_view_name": "LayoutView",
            "align_content": null,
            "align_items": null,
            "align_self": null,
            "border": null,
            "bottom": null,
            "display": null,
            "flex": null,
            "flex_flow": null,
            "grid_area": null,
            "grid_auto_columns": null,
            "grid_auto_flow": null,
            "grid_auto_rows": null,
            "grid_column": null,
            "grid_gap": null,
            "grid_row": null,
            "grid_template_areas": null,
            "grid_template_columns": null,
            "grid_template_rows": null,
            "height": null,
            "justify_content": null,
            "justify_items": null,
            "left": null,
            "margin": null,
            "max_height": null,
            "max_width": null,
            "min_height": null,
            "min_width": null,
            "object_fit": null,
            "object_position": null,
            "order": null,
            "overflow": null,
            "overflow_x": null,
            "overflow_y": null,
            "padding": null,
            "right": null,
            "top": null,
            "visibility": "hidden",
            "width": null
          }
        },
        "8a341e5b34e74a50a5e521f26eefd5dc": {
          "model_module": "@jupyter-widgets/base",
          "model_name": "LayoutModel",
          "model_module_version": "1.2.0",
          "state": {
            "_model_module": "@jupyter-widgets/base",
            "_model_module_version": "1.2.0",
            "_model_name": "LayoutModel",
            "_view_count": null,
            "_view_module": "@jupyter-widgets/base",
            "_view_module_version": "1.2.0",
            "_view_name": "LayoutView",
            "align_content": null,
            "align_items": null,
            "align_self": null,
            "border": null,
            "bottom": null,
            "display": null,
            "flex": null,
            "flex_flow": null,
            "grid_area": null,
            "grid_auto_columns": null,
            "grid_auto_flow": null,
            "grid_auto_rows": null,
            "grid_column": null,
            "grid_gap": null,
            "grid_row": null,
            "grid_template_areas": null,
            "grid_template_columns": null,
            "grid_template_rows": null,
            "height": null,
            "justify_content": null,
            "justify_items": null,
            "left": null,
            "margin": null,
            "max_height": null,
            "max_width": null,
            "min_height": null,
            "min_width": null,
            "object_fit": null,
            "object_position": null,
            "order": null,
            "overflow": null,
            "overflow_x": null,
            "overflow_y": null,
            "padding": null,
            "right": null,
            "top": null,
            "visibility": null,
            "width": null
          }
        },
        "9764380e2e4d447d952f97eaa30d2b74": {
          "model_module": "@jupyter-widgets/controls",
          "model_name": "DescriptionStyleModel",
          "model_module_version": "1.5.0",
          "state": {
            "_model_module": "@jupyter-widgets/controls",
            "_model_module_version": "1.5.0",
            "_model_name": "DescriptionStyleModel",
            "_view_count": null,
            "_view_module": "@jupyter-widgets/base",
            "_view_module_version": "1.2.0",
            "_view_name": "StyleView",
            "description_width": ""
          }
        },
        "7ddf7838319a4bbab169bb77ecb0c054": {
          "model_module": "@jupyter-widgets/base",
          "model_name": "LayoutModel",
          "model_module_version": "1.2.0",
          "state": {
            "_model_module": "@jupyter-widgets/base",
            "_model_module_version": "1.2.0",
            "_model_name": "LayoutModel",
            "_view_count": null,
            "_view_module": "@jupyter-widgets/base",
            "_view_module_version": "1.2.0",
            "_view_name": "LayoutView",
            "align_content": null,
            "align_items": null,
            "align_self": null,
            "border": null,
            "bottom": null,
            "display": null,
            "flex": null,
            "flex_flow": null,
            "grid_area": null,
            "grid_auto_columns": null,
            "grid_auto_flow": null,
            "grid_auto_rows": null,
            "grid_column": null,
            "grid_gap": null,
            "grid_row": null,
            "grid_template_areas": null,
            "grid_template_columns": null,
            "grid_template_rows": null,
            "height": null,
            "justify_content": null,
            "justify_items": null,
            "left": null,
            "margin": null,
            "max_height": null,
            "max_width": null,
            "min_height": null,
            "min_width": null,
            "object_fit": null,
            "object_position": null,
            "order": null,
            "overflow": null,
            "overflow_x": null,
            "overflow_y": null,
            "padding": null,
            "right": null,
            "top": null,
            "visibility": null,
            "width": null
          }
        },
        "14a0c0b0305d47cfae4d0b21a16ae0d5": {
          "model_module": "@jupyter-widgets/controls",
          "model_name": "ProgressStyleModel",
          "model_module_version": "1.5.0",
          "state": {
            "_model_module": "@jupyter-widgets/controls",
            "_model_module_version": "1.5.0",
            "_model_name": "ProgressStyleModel",
            "_view_count": null,
            "_view_module": "@jupyter-widgets/base",
            "_view_module_version": "1.2.0",
            "_view_name": "StyleView",
            "bar_color": null,
            "description_width": ""
          }
        },
        "b6c9fde371614286b9b406b0a2cc7a70": {
          "model_module": "@jupyter-widgets/base",
          "model_name": "LayoutModel",
          "model_module_version": "1.2.0",
          "state": {
            "_model_module": "@jupyter-widgets/base",
            "_model_module_version": "1.2.0",
            "_model_name": "LayoutModel",
            "_view_count": null,
            "_view_module": "@jupyter-widgets/base",
            "_view_module_version": "1.2.0",
            "_view_name": "LayoutView",
            "align_content": null,
            "align_items": null,
            "align_self": null,
            "border": null,
            "bottom": null,
            "display": null,
            "flex": null,
            "flex_flow": null,
            "grid_area": null,
            "grid_auto_columns": null,
            "grid_auto_flow": null,
            "grid_auto_rows": null,
            "grid_column": null,
            "grid_gap": null,
            "grid_row": null,
            "grid_template_areas": null,
            "grid_template_columns": null,
            "grid_template_rows": null,
            "height": null,
            "justify_content": null,
            "justify_items": null,
            "left": null,
            "margin": null,
            "max_height": null,
            "max_width": null,
            "min_height": null,
            "min_width": null,
            "object_fit": null,
            "object_position": null,
            "order": null,
            "overflow": null,
            "overflow_x": null,
            "overflow_y": null,
            "padding": null,
            "right": null,
            "top": null,
            "visibility": null,
            "width": null
          }
        },
        "ca009d3c65334ad299d7d675d2bd2530": {
          "model_module": "@jupyter-widgets/controls",
          "model_name": "DescriptionStyleModel",
          "model_module_version": "1.5.0",
          "state": {
            "_model_module": "@jupyter-widgets/controls",
            "_model_module_version": "1.5.0",
            "_model_name": "DescriptionStyleModel",
            "_view_count": null,
            "_view_module": "@jupyter-widgets/base",
            "_view_module_version": "1.2.0",
            "_view_name": "StyleView",
            "description_width": ""
          }
        }
      }
    }
  },
  "cells": [
    {
      "cell_type": "markdown",
      "source": [
        "#Preparecion del entorno"
      ],
      "metadata": {
        "id": "Wvbpk8hVQ-TQ"
      }
    },
    {
      "cell_type": "code",
      "source": [
        "!pip install pydub"
      ],
      "metadata": {
        "colab": {
          "base_uri": "https://localhost:8080/"
        },
        "id": "nc-1PnWYX6eJ",
        "outputId": "ce83bcf9-a6ea-4129-e7ea-3e43fab1df5d"
      },
      "execution_count": 1,
      "outputs": [
        {
          "output_type": "stream",
          "name": "stdout",
          "text": [
            "Collecting pydub\n",
            "  Downloading pydub-0.25.1-py2.py3-none-any.whl (32 kB)\n",
            "Installing collected packages: pydub\n",
            "Successfully installed pydub-0.25.1\n"
          ]
        }
      ]
    },
    {
      "cell_type": "code",
      "execution_count": 49,
      "metadata": {
        "id": "mhetFMsl1iRM"
      },
      "outputs": [],
      "source": [
        "import os\n",
        "import pathlib\n",
        "\n",
        "import matplotlib.pyplot as plt\n",
        "from sklearn.metrics import classification_report, confusion_matrix, accuracy_score, precision_score, recall_score, f1_score\n",
        "import numpy as np\n",
        "import seaborn as sns\n",
        "import tensorflow as tf\n",
        "\n",
        "from tensorflow.keras import layers\n",
        "from tensorflow.keras import models\n",
        "from IPython import display\n",
        "\n",
        "import tensorflow_datasets as tfds\n",
        "import shutil\n",
        "import random\n",
        "\n",
        "tf.config.run_functions_eagerly(True)\n",
        "\n",
        "# Set the seed value for experiment reproducibility.\n",
        "seed = 42\n",
        "tf.random.set_seed(seed)\n",
        "np.random.seed(seed)"
      ]
    },
    {
      "cell_type": "code",
      "source": [
        "# Configurar para que TensorFlow utilice la GPU por defecto\n",
        "gpus = tf.config.experimental.list_physical_devices('GPU')\n",
        "if gpus:\n",
        "    try:\n",
        "        # Configurar para que TensorFlow asigne memoria dinámicamente\n",
        "        for gpu in gpus:\n",
        "            tf.config.experimental.set_memory_growth(gpu, True)\n",
        "        # Especificar la GPU por defecto\n",
        "        logical_gpus = tf.config.experimental.list_logical_devices('GPU')\n",
        "        print(len(gpus), \"Physical GPUs,\", len(logical_gpus), \"Logical GPUs\")\n",
        "    except RuntimeError as e:\n",
        "        # Manejar error\n",
        "        print(e)"
      ],
      "metadata": {
        "id": "WvTkhwQRXAtU",
        "colab": {
          "base_uri": "https://localhost:8080/"
        },
        "outputId": "a18cdfe6-c44e-41ff-92d0-db70f05e8df3"
      },
      "execution_count": 3,
      "outputs": [
        {
          "output_type": "stream",
          "name": "stdout",
          "text": [
            "1 Physical GPUs, 1 Logical GPUs\n"
          ]
        }
      ]
    },
    {
      "cell_type": "code",
      "source": [
        "data_dir = './data/'\n",
        "\n",
        "os.makedirs(data_dir, exist_ok=True)\n",
        "\n",
        "dataset_name = 'spoken_digit'\n",
        "ds_info = tfds.builder(dataset_name).info\n",
        "\n",
        "tfds.load(dataset_name, data_dir=data_dir)"
      ],
      "metadata": {
        "colab": {
          "base_uri": "https://localhost:8080/",
          "referenced_widgets": [
            "e062fe8d93204779883a8f3c13b96b41",
            "ac43caa3b9344e929bd418bd770eaacd",
            "7b983da99b5c4fbc945b0411a1292540",
            "359880f5096f4fac9a8903a1cc7ec39a",
            "e03be334d42546cc886284685ab5ab87",
            "de64f3c0dc514d0f8e41581f1e02c67d",
            "d4f4ed7cf6854aa3bdb6b0a3149677a9",
            "5f7fe8a8673749f5bb0f4223029a7163",
            "694a029ed27c4a95a8bf3a88df98c866",
            "25d49b3d4fe643a5ae82a3e9045f201b",
            "104ed050fb3349818ccf57de4358fed6",
            "215f9db465be425187d2587eac953b2b",
            "bfe6ce612b68461299290edeb71f7c57",
            "73a3a3d1e8774aaba937ba79cf9de903",
            "d50899f4e20c47f4a719a74f6839ad47",
            "40661de097e64da8b4511a867ddb5d95",
            "1cd6550e59f748cd8bd64e9b3a554389",
            "28e5537a068b4b068d5caf920a90814b",
            "a8459d18e6f145028607381f5a880263",
            "560579271d5d450e91e165a192c4dc71",
            "8667b1832c5e429481025ab672c3bb6d",
            "a0dd4c0dc61a4e9396cb15804b31e5de",
            "ee0d239bd3214e088dc53d07d798d70d",
            "75595ac6fae04bfd93cded0c171ecda5",
            "fa41d5c19dba468d933d94d753025ff8",
            "d999abf0f8d0496fba76398fe3ebe7eb",
            "c5d9f5b0f7954fb5821b55b82a61c907",
            "bb0d57a417f34197a139bc9f37227318",
            "908260db47f64d66b62bca2f504d78bf",
            "1fbc35015ad448308f9c2445cf267cea",
            "1158361f209d4a1585a6206853dd8ed5",
            "b5e854221e444c989d16e8664b6afa49",
            "4b63cfa36fb54a8bb3cf61d95ad42cad",
            "9deaba0d03cd41208cf1665a516271dd",
            "3b88e12f308848d5a06befddd5049cd6",
            "5bd6d2f7f7d24b8d9f8742f2e6a28a09",
            "82619b7fb6aa436bae99ef4f3d973956",
            "fe8b6bdd30104caeb0cb270ef2e1183e",
            "7cc6e1685b7c405080c7ebd9847f8a9f",
            "9f40abbf40c643ef94bb59b40b112d60",
            "df87f5f9670f419cbc163f64ccdb9792",
            "52f45392ee6e42d19efaec929ffd4629",
            "e08261a009a348e4bf9f2ee238fe220e",
            "48f3de77c59948969777bb02d9c7394d",
            "f897619aa98749adbc6cc788926fab9b",
            "948f41b65fe74754a762b6ac26003d03",
            "3b775c9651df40b0a7e4c7248bd07af0",
            "f1b3221ae8394a1d93f55c9b5b86ca06",
            "fa254c8698be4034851b96b710e6b781",
            "9fa9cc4f39e4450cb4a39c1d6dd814b9",
            "002c9cf3dfd9421aa2b36bf425cabaa4",
            "9f9855d674d0448686f854bfbdf81942",
            "e934fe7753e44978b077e09f047a5017",
            "3334f92b38b14d2ca3efc2b9e15576f2",
            "01829d911fd3483e9542a18e9ed5bf82",
            "3d6888569052464b8a9eb911f6bc14c2",
            "12312fe95d6e4f62870c503854e70f0a",
            "57a4c99c81ed41fdbf6d8aa98701af90",
            "1d2146822bcf429086f3df1a229f0521",
            "13df56b90a5e469590f7403563b9937e",
            "8a341e5b34e74a50a5e521f26eefd5dc",
            "9764380e2e4d447d952f97eaa30d2b74",
            "7ddf7838319a4bbab169bb77ecb0c054",
            "14a0c0b0305d47cfae4d0b21a16ae0d5",
            "b6c9fde371614286b9b406b0a2cc7a70",
            "ca009d3c65334ad299d7d675d2bd2530"
          ],
          "height": 278
        },
        "id": "kbvR-APvTyxo",
        "outputId": "3ffef62e-59bb-45be-815c-6c2396af6022"
      },
      "execution_count": 4,
      "outputs": [
        {
          "output_type": "stream",
          "name": "stdout",
          "text": [
            "Downloading and preparing dataset 11.42 MiB (download: 11.42 MiB, generated: 45.68 MiB, total: 57.10 MiB) to ./data/spoken_digit/1.0.9...\n"
          ]
        },
        {
          "output_type": "display_data",
          "data": {
            "text/plain": [
              "Dl Completed...: 0 url [00:00, ? url/s]"
            ],
            "application/vnd.jupyter.widget-view+json": {
              "version_major": 2,
              "version_minor": 0,
              "model_id": "e062fe8d93204779883a8f3c13b96b41"
            }
          },
          "metadata": {}
        },
        {
          "output_type": "display_data",
          "data": {
            "text/plain": [
              "Dl Size...: 0 MiB [00:00, ? MiB/s]"
            ],
            "application/vnd.jupyter.widget-view+json": {
              "version_major": 2,
              "version_minor": 0,
              "model_id": "215f9db465be425187d2587eac953b2b"
            }
          },
          "metadata": {}
        },
        {
          "output_type": "display_data",
          "data": {
            "text/plain": [
              "Extraction completed...: 0 file [00:00, ? file/s]"
            ],
            "application/vnd.jupyter.widget-view+json": {
              "version_major": 2,
              "version_minor": 0,
              "model_id": "ee0d239bd3214e088dc53d07d798d70d"
            }
          },
          "metadata": {}
        },
        {
          "output_type": "display_data",
          "data": {
            "text/plain": [
              "Generating splits...:   0%|          | 0/1 [00:00<?, ? splits/s]"
            ],
            "application/vnd.jupyter.widget-view+json": {
              "version_major": 2,
              "version_minor": 0,
              "model_id": "9deaba0d03cd41208cf1665a516271dd"
            }
          },
          "metadata": {}
        },
        {
          "output_type": "display_data",
          "data": {
            "text/plain": [
              "Generating train examples...:   0%|          | 0/2500 [00:00<?, ? examples/s]"
            ],
            "application/vnd.jupyter.widget-view+json": {
              "version_major": 2,
              "version_minor": 0,
              "model_id": "f897619aa98749adbc6cc788926fab9b"
            }
          },
          "metadata": {}
        },
        {
          "output_type": "display_data",
          "data": {
            "text/plain": [
              "Shuffling data/spoken_digit/incomplete.52HC3C_1.0.9/spoken_digit-train.tfrecord*...:   0%|          | 0/2500 […"
            ],
            "application/vnd.jupyter.widget-view+json": {
              "version_major": 2,
              "version_minor": 0,
              "model_id": "3d6888569052464b8a9eb911f6bc14c2"
            }
          },
          "metadata": {}
        },
        {
          "output_type": "stream",
          "name": "stderr",
          "text": [
            "WARNING:absl:`FeatureConnector.dtype` is deprecated. Please change your code to use NumPy with the field `FeatureConnector.np_dtype` or use TensorFlow with the field `FeatureConnector.tf_dtype`.\n",
            "WARNING:absl:You use TensorFlow DType <dtype: 'int64'> in tfds.features This will soon be deprecated in favor of NumPy DTypes. In the meantime it was converted to int64.\n",
            "/usr/local/lib/python3.10/dist-packages/tensorflow/python/data/ops/structured_function.py:258: UserWarning: Even though the `tf.config.experimental_run_functions_eagerly` option is set, this option does not apply to tf.data functions. To force eager execution of tf.data functions, please use `tf.data.experimental.enable_debug_mode()`.\n",
            "  warnings.warn(\n"
          ]
        },
        {
          "output_type": "stream",
          "name": "stdout",
          "text": [
            "Dataset spoken_digit downloaded and prepared to ./data/spoken_digit/1.0.9. Subsequent calls will reuse this data.\n"
          ]
        },
        {
          "output_type": "execute_result",
          "data": {
            "text/plain": [
              "{Split('train'): <_PrefetchDataset element_spec={'audio': TensorSpec(shape=(None,), dtype=tf.int64, name=None), 'audio/filename': TensorSpec(shape=(), dtype=tf.string, name=None), 'label': TensorSpec(shape=(), dtype=tf.int64, name=None)}>}"
            ]
          },
          "metadata": {},
          "execution_count": 4
        }
      ]
    },
    {
      "cell_type": "code",
      "source": [
        "!mv /content/data/downloads/extracted/TAR_GZ.Jako_free-spok-digi-data_arch_v1.0.9i8RM3hKdUFy7trNlwJ-AxmPyqndXivxjTmFBovhxAMA.tar.gz/free-spoken-digit-dataset-1.0.9/recordings/* /content/data/\n",
        "!rm -rf /content/data/*/"
      ],
      "metadata": {
        "id": "8Zqh2dMcVipE"
      },
      "execution_count": 5,
      "outputs": []
    },
    {
      "cell_type": "code",
      "source": [
        "for i in range(10):\n",
        "    folder_name = os.path.join(data_dir, str(i))\n",
        "    os.makedirs(folder_name, exist_ok=True)"
      ],
      "metadata": {
        "id": "isFEZxDVWCzf"
      },
      "execution_count": 6,
      "outputs": []
    },
    {
      "cell_type": "code",
      "source": [
        "files = [f for f in os.listdir(data_dir) if f.endswith('.wav')]\n",
        "\n",
        "for filename in files:\n",
        "    first_char = filename[0]\n",
        "\n",
        "    destination_dir = os.path.join(data_dir, first_char)\n",
        "    os.makedirs(destination_dir, exist_ok=True)\n",
        "\n",
        "    source_path = os.path.join(data_dir, filename)\n",
        "    destination_path = os.path.join(destination_dir, filename)\n",
        "\n",
        "    shutil.move(source_path, destination_path)"
      ],
      "metadata": {
        "id": "cOYo0SVxXysK"
      },
      "execution_count": 7,
      "outputs": []
    },
    {
      "cell_type": "markdown",
      "source": [
        "#Preparacion del dataset"
      ],
      "metadata": {
        "id": "FxQL5Y0rR4pu"
      }
    },
    {
      "cell_type": "markdown",
      "source": [
        "Observamos la informacion del dataset"
      ],
      "metadata": {
        "id": "2D-C09dCSC8m"
      }
    },
    {
      "cell_type": "code",
      "source": [
        "print(ds_info)"
      ],
      "metadata": {
        "colab": {
          "base_uri": "https://localhost:8080/"
        },
        "id": "UiAcgLB_RcoR",
        "outputId": "0af0afb4-0fb8-4190-bc37-b9701a63f70e"
      },
      "execution_count": 8,
      "outputs": [
        {
          "output_type": "stream",
          "name": "stdout",
          "text": [
            "tfds.core.DatasetInfo(\n",
            "    name='spoken_digit',\n",
            "    full_name='spoken_digit/1.0.9',\n",
            "    description=\"\"\"\n",
            "    A free audio dataset of spoken digits. Think MNIST for audio.\n",
            "    \n",
            "    A simple audio/speech dataset consisting of recordings of spoken digits in wav\n",
            "    files at 8kHz.\n",
            "    The recordings are trimmed so that they have near minimal silence at the\n",
            "    beginnings and ends.\n",
            "    \n",
            "    5 speakers\\\n",
            "    2,500 recordings (50 of each digit per speaker)\\\n",
            "    English pronunciations\n",
            "    \n",
            "    Files are named in the following format: {digitLabel}_{speakerName}_{index}.wav\n",
            "    \"\"\",\n",
            "    homepage='https://github.com/Jakobovski/free-spoken-digit-dataset',\n",
            "    data_dir=PosixGPath('/tmp/tmp74grimhotfds'),\n",
            "    file_format=tfrecord,\n",
            "    download_size=11.42 MiB,\n",
            "    dataset_size=45.68 MiB,\n",
            "    features=FeaturesDict({\n",
            "        'audio': Audio(shape=(None,), dtype=int64),\n",
            "        'audio/filename': Text(shape=(), dtype=string),\n",
            "        'label': ClassLabel(shape=(), dtype=int64, num_classes=10),\n",
            "    }),\n",
            "    supervised_keys=('audio', 'label'),\n",
            "    disable_shuffling=False,\n",
            "    splits={\n",
            "        'train': <SplitInfo num_examples=2500, num_shards=1>,\n",
            "    },\n",
            "    citation=\"\"\"@ONLINE {Free Spoken Digit Dataset,\n",
            "        author = \"Zohar Jackson\",\n",
            "        title  = \"Spoken_Digit\",\n",
            "        year   = \"2016\",\n",
            "        url    = \"https://github.com/Jakobovski/free-spoken-digit-dataset\"\n",
            "    }\"\"\",\n",
            ")\n"
          ]
        }
      ]
    },
    {
      "cell_type": "markdown",
      "source": [
        "Cargamos los datos en train y test a partir de las carpetas"
      ],
      "metadata": {
        "id": "RyED21NuSWm4"
      }
    },
    {
      "cell_type": "code",
      "source": [
        "train_ds, val_ds = tf.keras.utils.audio_dataset_from_directory(\n",
        "    directory=data_dir,\n",
        "    batch_size=32,\n",
        "    validation_split=0.2,\n",
        "    seed=0,\n",
        "    output_sequence_length=8000,\n",
        "    subset='both')\n",
        "\n",
        "label_names = np.array(train_ds.class_names)\n",
        "\n",
        "print(\"label names:\", label_names)\n",
        "\n",
        "train_ds.element_spec"
      ],
      "metadata": {
        "colab": {
          "base_uri": "https://localhost:8080/"
        },
        "id": "CppdQci9ZHbO",
        "outputId": "b1c3f0df-d4d4-436b-90ac-7886038a8db9"
      },
      "execution_count": 9,
      "outputs": [
        {
          "output_type": "stream",
          "name": "stdout",
          "text": [
            "Found 2500 files belonging to 10 classes.\n",
            "Using 2000 files for training.\n",
            "Using 500 files for validation.\n",
            "label names: ['0' '1' '2' '3' '4' '5' '6' '7' '8' '9']\n"
          ]
        },
        {
          "output_type": "execute_result",
          "data": {
            "text/plain": [
              "(TensorSpec(shape=(None, 8000, None), dtype=tf.float32, name=None),\n",
              " TensorSpec(shape=(None,), dtype=tf.int32, name=None))"
            ]
          },
          "metadata": {},
          "execution_count": 9
        }
      ]
    },
    {
      "cell_type": "markdown",
      "source": [
        "Observamos que disponemos de 2000 archivos de audio para entrenamiento y 500 para validacion todos divididos en 10 clases (numeros del 0 al 9).\n",
        "\n",
        "Los datos de las labels son numericos."
      ],
      "metadata": {
        "id": "S73XggsFSxaX"
      }
    },
    {
      "cell_type": "markdown",
      "source": [
        "Comprobamos que el dataset este balanceado."
      ],
      "metadata": {
        "id": "263eUdMbRDOb"
      }
    },
    {
      "cell_type": "code",
      "source": [
        "train_labels = np.concatenate([y for x, y in train_ds], axis=0)\n",
        "\n",
        "unique, counts = np.unique(train_labels, return_counts=True)\n",
        "\n",
        "plt.figure(figsize=(10, 6))\n",
        "plt.bar(label_names[unique], counts)\n",
        "plt.xlabel('Clase')\n",
        "plt.ylabel('Número de Ejemplos')\n",
        "plt.title('Balance del Dataset de Entrenamiento')\n",
        "plt.show()"
      ],
      "metadata": {
        "colab": {
          "base_uri": "https://localhost:8080/",
          "height": 564
        },
        "id": "3xPf9EF-QY4J",
        "outputId": "abfc48bb-e4da-439b-8199-20c1e8c2c3ef"
      },
      "execution_count": 63,
      "outputs": [
        {
          "output_type": "display_data",
          "data": {
            "text/plain": [
              "<Figure size 1000x600 with 1 Axes>"
            ],
            "image/png": "[encoded data removed]"
          },
          "metadata": {}
        }
      ]
    },
    {
      "cell_type": "markdown",
      "source": [
        "Se observa que el dataset esta balanceado pero con variaciones en la cantidad de elementos en cada label."
      ],
      "metadata": {
        "id": "5ZzN_oi_RLBa"
      }
    },
    {
      "cell_type": "code",
      "source": [
        "def squeeze(audio, labels):\n",
        "  audio = tf.squeeze(audio, axis=-1)\n",
        "  return audio, labels\n",
        "\n",
        "train_ds = train_ds.map(squeeze, tf.data.AUTOTUNE)\n",
        "val_ds = val_ds.map(squeeze, tf.data.AUTOTUNE)"
      ],
      "metadata": {
        "id": "R3SNSCyjZlr5"
      },
      "execution_count": 10,
      "outputs": []
    },
    {
      "cell_type": "markdown",
      "source": [
        "Aplanamos el audio."
      ],
      "metadata": {
        "id": "9RdUZsFDAOIb"
      }
    },
    {
      "cell_type": "code",
      "source": [
        "example_audio, example_labels = next(iter(train_ds))\n",
        "\n",
        "print(example_audio.shape)\n",
        "print(example_labels.shape)"
      ],
      "metadata": {
        "colab": {
          "base_uri": "https://localhost:8080/"
        },
        "id": "nFP3UOcEZpn2",
        "outputId": "03ec9de4-3164-455f-ffcc-8bb34493a056"
      },
      "execution_count": 11,
      "outputs": [
        {
          "output_type": "stream",
          "name": "stdout",
          "text": [
            "(32, 8000)\n",
            "(32,)\n"
          ]
        }
      ]
    },
    {
      "cell_type": "markdown",
      "source": [
        "Observamos el tamaño de los audios y las labels. Corroboramos que tengan la misma longitud y el mismo batch."
      ],
      "metadata": {
        "id": "flR_kuZBATpZ"
      }
    },
    {
      "cell_type": "code",
      "source": [
        "plt.figure(figsize=(16, 10))\n",
        "rows = 3\n",
        "cols = 3\n",
        "n = rows * cols\n",
        "for i in range(n):\n",
        "  plt.subplot(rows, cols, i+1)\n",
        "  audio_signal = example_audio[i]\n",
        "  plt.plot(audio_signal)\n",
        "  plt.title(label_names[example_labels[i]])\n",
        "  plt.yticks(np.arange(-1.2, 1.2, 0.2))\n",
        "  plt.ylim([-1.1, 1.1])"
      ],
      "metadata": {
        "colab": {
          "base_uri": "https://localhost:8080/",
          "height": 718
        },
        "id": "zSR0IsvbZvA3",
        "outputId": "ff758cc2-0059-4b40-a7b6-f1b7beaf9dea"
      },
      "execution_count": 12,
      "outputs": [
        {
          "output_type": "display_data",
          "data": {
            "text/plain": [
              "<Figure size 1600x1000 with 9 Axes>"
            ],
            "image/png": "[encoded data removed]"
          },
          "metadata": {}
        }
      ]
    },
    {
      "cell_type": "markdown",
      "source": [
        "Realizamos unos gráficos para visualizar los valores del dataset."
      ],
      "metadata": {
        "id": "D-vm2uGXBTVx"
      }
    },
    {
      "cell_type": "code",
      "source": [
        "def get_spectrogram(waveform):\n",
        "  spectrogram = tf.signal.stft(\n",
        "      waveform, frame_length=255, frame_step=128)\n",
        "  spectrogram = tf.abs(spectrogram)\n",
        "  spectrogram = spectrogram[..., tf.newaxis]\n",
        "  return spectrogram\n",
        "\n",
        "def plot_spectrogram(spectrogram, ax):\n",
        "  if len(spectrogram.shape) > 2:\n",
        "    assert len(spectrogram.shape) == 3\n",
        "    spectrogram = np.squeeze(spectrogram, axis=-1)\n",
        "  log_spec = np.log(spectrogram.T + np.finfo(float).eps)\n",
        "  height = log_spec.shape[0]\n",
        "  width = log_spec.shape[1]\n",
        "  X = np.linspace(0, np.size(spectrogram), num=width, dtype=int)\n",
        "  Y = range(height)\n",
        "  ax.pcolormesh(X, Y, log_spec)\n",
        "\n",
        "def plot_audio_and_spectrogram(audio, label):\n",
        "    spectrogram = get_spectrogram(audio)\n",
        "\n",
        "    fig, axes = plt.subplots(2, figsize=(12, 8))\n",
        "    timescale = np.arange(audio.shape[0])\n",
        "\n",
        "    axes[0].plot(timescale, audio.numpy())\n",
        "    axes[0].set_title('Waveform')\n",
        "    axes[0].set_xlim([0, audio.shape[0]])\n",
        "\n",
        "    plot_spectrogram(spectrogram.numpy(), axes[1])\n",
        "    axes[1].set_title('Spectrogram')\n",
        "    axes[1].set_xlim([0, audio.shape[0]])\n",
        "\n",
        "    plt.suptitle(label.title())\n",
        "    plt.tight_layout()\n",
        "    plt.show()"
      ],
      "metadata": {
        "id": "zN4HkVfyDXZz"
      },
      "execution_count": 13,
      "outputs": []
    },
    {
      "cell_type": "markdown",
      "source": [
        "Definimos una funcion para general un espectograma de un audio y las funciones correspondientes para graficorlos junto al audio."
      ],
      "metadata": {
        "id": "yVpuYfJLFBpD"
      }
    },
    {
      "cell_type": "code",
      "source": [
        "N = 20\n",
        "\n",
        "label = label_names[example_labels[N]]\n",
        "waveform = example_audio[N]\n",
        "\n",
        "print('Label:', label)\n",
        "print('Waveform shape:', waveform.shape)\n",
        "print('Audio playback')\n",
        "display.display(display.Audio(waveform, rate=8000))\n",
        "\n",
        "plot_audio_and_spectrogram(waveform, label)"
      ],
      "metadata": {
        "colab": {
          "base_uri": "https://localhost:8080/",
          "height": 856
        },
        "id": "bQ9dSZS-D1OS",
        "outputId": "482dd52c-fe69-4354-d892-708c1c5fe43d"
      },
      "execution_count": 14,
      "outputs": [
        {
          "output_type": "stream",
          "name": "stdout",
          "text": [
            "Label: 8\n",
            "Waveform shape: (8000,)\n",
            "Audio playback\n"
          ]
        },
        {
          "output_type": "display_data",
          "data": {
            "text/plain": [
              "<IPython.lib.display.Audio object>"
            ],
            "text/html": [
              "\n",
              "                <audio  controls=\"controls\" >\n",
              "                    <source src=\"data:audio/wav;base64,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\" type=\"audio/wav\" />\n",
              "                    Your browser does not support the audio element.\n",
              "                </audio>\n",
              "              "
            ]
          },
          "metadata": {}
        },
        {
          "output_type": "display_data",
          "data": {
            "text/plain": [
              "<Figure size 1200x800 with 2 Axes>"
            ],
            "image/png": "[encoded data removed]"
          },
          "metadata": {}
        }
      ]
    },
    {
      "cell_type": "markdown",
      "source": [
        "Observamos un ejemplo de un audio con su label, shape, valores y espectograma."
      ],
      "metadata": {
        "id": "QoqHyeXjF43a"
      }
    },
    {
      "cell_type": "code",
      "source": [
        "def make_spec_ds(ds):\n",
        "  return ds.map(\n",
        "      map_func=lambda audio,label: (get_spectrogram(audio), label),\n",
        "      num_parallel_calls=tf.data.AUTOTUNE)"
      ],
      "metadata": {
        "id": "hWRNoiCGar_4"
      },
      "execution_count": 15,
      "outputs": []
    },
    {
      "cell_type": "markdown",
      "source": [
        "Creamos una funcion para generar los dataset con espectogramas a partir de un dataset con audios."
      ],
      "metadata": {
        "id": "ETGsYRUANXbc"
      }
    },
    {
      "cell_type": "code",
      "source": [
        "train_spectrogram_ds = make_spec_ds(train_ds)\n",
        "val_spectrogram_ds = make_spec_ds(val_ds)\n",
        "\n",
        "train_spectrogram_ds = train_spectrogram_ds.cache().shuffle(10000).prefetch(tf.data.AUTOTUNE)\n",
        "val_spectrogram_ds = val_spectrogram_ds.cache().prefetch(tf.data.AUTOTUNE)"
      ],
      "metadata": {
        "id": "lamUed9mascI"
      },
      "execution_count": 16,
      "outputs": []
    },
    {
      "cell_type": "markdown",
      "source": [
        "Generamos el dataframe de entrenamiento y validacion con los espactogramas."
      ],
      "metadata": {
        "id": "ff8aNPQPOHUd"
      }
    },
    {
      "cell_type": "code",
      "source": [
        "example_spectrograms, example_spect_labels = next(iter(train_spectrogram_ds))\n",
        "\n",
        "rows = 3\n",
        "cols = 3\n",
        "n = rows*cols\n",
        "fig, axes = plt.subplots(rows, cols, figsize=(16, 9))\n",
        "\n",
        "for i in range(n):\n",
        "    r = i // cols\n",
        "    c = i % cols\n",
        "    ax = axes[r][c]\n",
        "    plot_spectrogram(example_spectrograms[i].numpy(), ax)\n",
        "    ax.set_title(label_names[example_spect_labels[i].numpy()])\n",
        "\n",
        "plt.show()"
      ],
      "metadata": {
        "colab": {
          "base_uri": "https://localhost:8080/",
          "height": 657
        },
        "id": "x1PczWCla0wC",
        "outputId": "1edfedbd-4e8c-4d1b-e4e8-c3385b9ac3d3"
      },
      "execution_count": 17,
      "outputs": [
        {
          "output_type": "display_data",
          "data": {
            "text/plain": [
              "<Figure size 1600x900 with 9 Axes>"
            ],
            "image/png": "[encoded data removed]"
          },
          "metadata": {}
        }
      ]
    },
    {
      "cell_type": "markdown",
      "source": [
        "#Modelos"
      ],
      "metadata": {
        "id": "oW5I2nlyPFR0"
      }
    },
    {
      "cell_type": "markdown",
      "source": [
        "##Red neuronal convolucional"
      ],
      "metadata": {
        "id": "2v8nhBe8PIKU"
      }
    },
    {
      "cell_type": "markdown",
      "source": [
        "Obtenemos la forma de entrada del modelo a partir del shape de los espectrogramas de ejemplo."
      ],
      "metadata": {
        "id": "_fb_y4hDadEs"
      }
    },
    {
      "cell_type": "code",
      "source": [
        "input_shape = example_spectrograms.shape[1:]\n",
        "print('Input shape:', input_shape)"
      ],
      "metadata": {
        "colab": {
          "base_uri": "https://localhost:8080/"
        },
        "id": "52EtXB26V385",
        "outputId": "09d7c283-e13c-47f9-9761-07f39a389125"
      },
      "execution_count": 18,
      "outputs": [
        {
          "output_type": "stream",
          "name": "stdout",
          "text": [
            "Input shape: (61, 129, 1)\n"
          ]
        }
      ]
    },
    {
      "cell_type": "markdown",
      "source": [
        "Obtenemos el numero de labels para la salida del modelo."
      ],
      "metadata": {
        "id": "rjwsyqSPajXS"
      }
    },
    {
      "cell_type": "code",
      "source": [
        "num_labels = len(label_names)\n",
        "print('Number of labels:', num_labels)"
      ],
      "metadata": {
        "colab": {
          "base_uri": "https://localhost:8080/"
        },
        "id": "KO8AUGrpYBwL",
        "outputId": "852ec669-7278-47ff-d55b-027d46512ba4"
      },
      "execution_count": 19,
      "outputs": [
        {
          "output_type": "stream",
          "name": "stdout",
          "text": [
            "Number of labels: 10\n"
          ]
        }
      ]
    },
    {
      "cell_type": "markdown",
      "source": [
        "Crea una capa de normalización y la adaptamos a los datos del conjunto de espectrogramas de entrenamiento.\n"
      ],
      "metadata": {
        "id": "sudt77sSa9P7"
      }
    },
    {
      "cell_type": "code",
      "source": [
        "norm_layer = layers.Normalization()\n",
        "norm_layer.adapt(data=train_spectrogram_ds.map(map_func=lambda spec, label: spec))"
      ],
      "metadata": {
        "id": "xJDmPhvtYJaV"
      },
      "execution_count": 20,
      "outputs": []
    },
    {
      "cell_type": "markdown",
      "source": [
        "Definimos el modelo de la red neuronal convolucional."
      ],
      "metadata": {
        "id": "qqTkMDHjbLf6"
      }
    },
    {
      "cell_type": "code",
      "source": [
        "model_combolucion = models.Sequential([\n",
        "    layers.Input(shape=input_shape),\n",
        "    layers.Resizing(32, 32),\n",
        "    norm_layer,\n",
        "    layers.Conv2D(32, 3, activation='relu'),\n",
        "    layers.Conv2D(64, 3, activation='relu'),\n",
        "    layers.MaxPooling2D(),\n",
        "    layers.Dropout(0.25),\n",
        "    layers.Flatten(),\n",
        "    layers.Dense(128, activation='relu'),\n",
        "    layers.Dropout(0.5),\n",
        "    layers.Dense(num_labels),\n",
        "])"
      ],
      "metadata": {
        "id": "h75pzifGa0tu"
      },
      "execution_count": 21,
      "outputs": []
    },
    {
      "cell_type": "markdown",
      "source": [
        "Visualizamos la estructura del modelo para entender las capas y los parámetros involucrados."
      ],
      "metadata": {
        "id": "XfP19NcSbW6L"
      }
    },
    {
      "cell_type": "code",
      "source": [
        "model_combolucion.summary()"
      ],
      "metadata": {
        "colab": {
          "base_uri": "https://localhost:8080/"
        },
        "id": "ylaTAytNYOa7",
        "outputId": "443e530c-9af2-496d-9791-d9eb755ccc2b"
      },
      "execution_count": 22,
      "outputs": [
        {
          "output_type": "stream",
          "name": "stdout",
          "text": [
            "Model: \"sequential\"\n",
            "_________________________________________________________________\n",
            " Layer (type)                Output Shape              Param #   \n",
            "=================================================================\n",
            " resizing (Resizing)         (None, 32, 32, 1)         0         \n",
            "                                                                 \n",
            " normalization (Normalizati  (None, 32, 32, 1)         3         \n",
            " on)                                                             \n",
            "                                                                 \n",
            " conv2d (Conv2D)             (None, 30, 30, 32)        320       \n",
            "                                                                 \n",
            " conv2d_1 (Conv2D)           (None, 28, 28, 64)        18496     \n",
            "                                                                 \n",
            " max_pooling2d (MaxPooling2  (None, 14, 14, 64)        0         \n",
            " D)                                                              \n",
            "                                                                 \n",
            " dropout (Dropout)           (None, 14, 14, 64)        0         \n",
            "                                                                 \n",
            " flatten (Flatten)           (None, 12544)             0         \n",
            "                                                                 \n",
            " dense (Dense)               (None, 128)               1605760   \n",
            "                                                                 \n",
            " dropout_1 (Dropout)         (None, 128)               0         \n",
            "                                                                 \n",
            " dense_1 (Dense)             (None, 10)                1290      \n",
            "                                                                 \n",
            "=================================================================\n",
            "Total params: 1625869 (6.20 MB)\n",
            "Trainable params: 1625866 (6.20 MB)\n",
            "Non-trainable params: 3 (16.00 Byte)\n",
            "_________________________________________________________________\n"
          ]
        }
      ]
    },
    {
      "cell_type": "markdown",
      "source": [
        "Compilamos el modelo."
      ],
      "metadata": {
        "id": "_eiDWR5oil-d"
      }
    },
    {
      "cell_type": "code",
      "source": [
        "model_combolucion.compile(\n",
        "    optimizer=tf.keras.optimizers.Adam(),\n",
        "    loss=tf.keras.losses.SparseCategoricalCrossentropy(from_logits=True),\n",
        "    metrics=['accuracy']\n",
        ")"
      ],
      "metadata": {
        "id": "SV-ffCFebnBS"
      },
      "execution_count": 23,
      "outputs": []
    },
    {
      "cell_type": "markdown",
      "source": [
        "Implementamos early stopping para detener el entrenamiento si la precisión de validación no mejora después de 10 épocas."
      ],
      "metadata": {
        "id": "-ZSlH_DJixOb"
      }
    },
    {
      "cell_type": "code",
      "source": [
        "early_stopping_callback = tf.keras.callbacks.EarlyStopping(\n",
        "    monitor='val_accuracy',\n",
        "    patience=10,\n",
        "    verbose=1,\n",
        "    restore_best_weights=True\n",
        ")"
      ],
      "metadata": {
        "id": "zbkCT02Ca0rI"
      },
      "execution_count": 24,
      "outputs": []
    },
    {
      "cell_type": "markdown",
      "source": [
        "Entrenamos el modelo utilizando los datasets de espectrogramas de entrenamiento y validación, durante un máximo de 100 épocas, con early stopping activado para evitar el sobreajuste."
      ],
      "metadata": {
        "id": "OXoxl9E9jNtj"
      }
    },
    {
      "cell_type": "code",
      "source": [
        "EPOCHS = 100\n",
        "\n",
        "history_combolucion = model_combolucion.fit(\n",
        "    train_spectrogram_ds,\n",
        "    validation_data=val_spectrogram_ds,\n",
        "    epochs=EPOCHS,\n",
        "    callbacks=[early_stopping_callback]\n",
        ")"
      ],
      "metadata": {
        "colab": {
          "base_uri": "https://localhost:8080/"
        },
        "id": "1Oyi-OTNa0oX",
        "outputId": "eab729b6-1828-4c45-f59c-b410c3602a6c"
      },
      "execution_count": 25,
      "outputs": [
        {
          "output_type": "stream",
          "name": "stdout",
          "text": [
            "Epoch 1/100\n",
            "63/63 [==============================] - 9s 67ms/step - loss: 1.6829 - accuracy: 0.4205 - val_loss: 1.1159 - val_accuracy: 0.6880\n",
            "Epoch 2/100\n",
            "63/63 [==============================] - 3s 54ms/step - loss: 1.0789 - accuracy: 0.6420 - val_loss: 0.7709 - val_accuracy: 0.8120\n",
            "Epoch 3/100\n",
            "63/63 [==============================] - 4s 65ms/step - loss: 0.8227 - accuracy: 0.7370 - val_loss: 0.5758 - val_accuracy: 0.8520\n",
            "Epoch 4/100\n",
            "63/63 [==============================] - 3s 54ms/step - loss: 0.6013 - accuracy: 0.8100 - val_loss: 0.4245 - val_accuracy: 0.8860\n",
            "Epoch 5/100\n",
            "63/63 [==============================] - 3s 53ms/step - loss: 0.4371 - accuracy: 0.8630 - val_loss: 0.3655 - val_accuracy: 0.9120\n",
            "Epoch 6/100\n",
            "63/63 [==============================] - 4s 67ms/step - loss: 0.3426 - accuracy: 0.8970 - val_loss: 0.3073 - val_accuracy: 0.9380\n",
            "Epoch 7/100\n",
            "63/63 [==============================] - 3s 53ms/step - loss: 0.3074 - accuracy: 0.8980 - val_loss: 0.3240 - val_accuracy: 0.9220\n",
            "Epoch 8/100\n",
            "63/63 [==============================] - 4s 63ms/step - loss: 0.2651 - accuracy: 0.9155 - val_loss: 0.3143 - val_accuracy: 0.9360\n",
            "Epoch 9/100\n",
            "63/63 [==============================] - 4s 62ms/step - loss: 0.2459 - accuracy: 0.9190 - val_loss: 0.3284 - val_accuracy: 0.9280\n",
            "Epoch 10/100\n",
            "63/63 [==============================] - 3s 53ms/step - loss: 0.2187 - accuracy: 0.9315 - val_loss: 0.2579 - val_accuracy: 0.9400\n",
            "Epoch 11/100\n",
            "63/63 [==============================] - 4s 69ms/step - loss: 0.1611 - accuracy: 0.9535 - val_loss: 0.2404 - val_accuracy: 0.9500\n",
            "Epoch 12/100\n",
            "63/63 [==============================] - 3s 53ms/step - loss: 0.1473 - accuracy: 0.9530 - val_loss: 0.2241 - val_accuracy: 0.9500\n",
            "Epoch 13/100\n",
            "63/63 [==============================] - 3s 55ms/step - loss: 0.1327 - accuracy: 0.9630 - val_loss: 0.2526 - val_accuracy: 0.9480\n",
            "Epoch 14/100\n",
            "63/63 [==============================] - 4s 68ms/step - loss: 0.1281 - accuracy: 0.9615 - val_loss: 0.2231 - val_accuracy: 0.9480\n",
            "Epoch 15/100\n",
            "63/63 [==============================] - 3s 53ms/step - loss: 0.1257 - accuracy: 0.9570 - val_loss: 0.1893 - val_accuracy: 0.9560\n",
            "Epoch 16/100\n",
            "63/63 [==============================] - 6s 92ms/step - loss: 0.1031 - accuracy: 0.9660 - val_loss: 0.1722 - val_accuracy: 0.9620\n",
            "Epoch 17/100\n",
            "63/63 [==============================] - 4s 63ms/step - loss: 0.1163 - accuracy: 0.9665 - val_loss: 0.1867 - val_accuracy: 0.9560\n",
            "Epoch 18/100\n",
            "63/63 [==============================] - 3s 54ms/step - loss: 0.0984 - accuracy: 0.9710 - val_loss: 0.2232 - val_accuracy: 0.9460\n",
            "Epoch 19/100\n",
            "63/63 [==============================] - 3s 53ms/step - loss: 0.0956 - accuracy: 0.9685 - val_loss: 0.1816 - val_accuracy: 0.9520\n",
            "Epoch 20/100\n",
            "63/63 [==============================] - 4s 69ms/step - loss: 0.0961 - accuracy: 0.9695 - val_loss: 0.2199 - val_accuracy: 0.9500\n",
            "Epoch 21/100\n",
            "63/63 [==============================] - 3s 52ms/step - loss: 0.0935 - accuracy: 0.9695 - val_loss: 0.2420 - val_accuracy: 0.9460\n",
            "Epoch 22/100\n",
            "63/63 [==============================] - 3s 54ms/step - loss: 0.0923 - accuracy: 0.9690 - val_loss: 0.2722 - val_accuracy: 0.9420\n",
            "Epoch 23/100\n",
            "63/63 [==============================] - 4s 67ms/step - loss: 0.0725 - accuracy: 0.9745 - val_loss: 0.3192 - val_accuracy: 0.9520\n",
            "Epoch 24/100\n",
            "63/63 [==============================] - 3s 53ms/step - loss: 0.0780 - accuracy: 0.9745 - val_loss: 0.2525 - val_accuracy: 0.9520\n",
            "Epoch 25/100\n",
            "63/63 [==============================] - 3s 54ms/step - loss: 0.0769 - accuracy: 0.9755 - val_loss: 0.2316 - val_accuracy: 0.9540\n",
            "Epoch 26/100\n",
            "63/63 [==============================] - ETA: 0s - loss: 0.0656 - accuracy: 0.9815Restoring model weights from the end of the best epoch: 16.\n",
            "63/63 [==============================] - 4s 59ms/step - loss: 0.0656 - accuracy: 0.9815 - val_loss: 0.2991 - val_accuracy: 0.9520\n",
            "Epoch 26: early stopping\n"
          ]
        }
      ]
    },
    {
      "cell_type": "markdown",
      "source": [
        "Visualizamos las curvas de pérdida y precisión durante el entrenamiento y la validación del modelo del modelo."
      ],
      "metadata": {
        "id": "6TV6tk_5ETAi"
      }
    },
    {
      "cell_type": "code",
      "source": [
        "metrics = history_combolucion.history\n",
        "plt.figure(figsize=(16,6))\n",
        "plt.subplot(1,2,1)\n",
        "plt.plot(history_combolucion.epoch, metrics['loss'], metrics['val_loss'])\n",
        "plt.legend(['loss', 'val_loss'])\n",
        "plt.ylim([0, max(plt.ylim())])\n",
        "plt.xlabel('Epoch')\n",
        "plt.ylabel('Loss [CrossEntropy]')\n",
        "\n",
        "plt.subplot(1,2,2)\n",
        "plt.plot(history_combolucion.epoch, 100*np.array(metrics['accuracy']), 100*np.array(metrics['val_accuracy']))\n",
        "plt.legend(['accuracy', 'val_accuracy'])\n",
        "plt.ylim([0, 100])\n",
        "plt.xlabel('Epoch')\n",
        "plt.ylabel('Accuracy [%]')"
      ],
      "metadata": {
        "id": "jzLMvt2ua0e4",
        "colab": {
          "base_uri": "https://localhost:8080/",
          "height": 477
        },
        "outputId": "1be137d7-50bb-4ca1-bac1-d0b5ed54c521"
      },
      "execution_count": 26,
      "outputs": [
        {
          "output_type": "execute_result",
          "data": {
            "text/plain": [
              "Text(0, 0.5, 'Accuracy [%]')"
            ]
          },
          "metadata": {},
          "execution_count": 26
        },
        {
          "output_type": "display_data",
          "data": {
            "text/plain": [
              "<Figure size 1600x600 with 2 Axes>"
            ],
            "image/png": "[encoded data removed]"
          },
          "metadata": {}
        }
      ]
    },
    {
      "cell_type": "markdown",
      "source": [
        "Realizamos predicciones utilizando el modelo entrenado y obtenemos las etiquetas predichas."
      ],
      "metadata": {
        "id": "fDdff4adEyVu"
      }
    },
    {
      "cell_type": "code",
      "source": [
        "y_pred_conv = model_combolucion.predict(val_spectrogram_ds)\n",
        "y_pred_conv = tf.argmax(y_pred_conv, axis=1)"
      ],
      "metadata": {
        "id": "G2Xx4SjqbdlK",
        "colab": {
          "base_uri": "https://localhost:8080/"
        },
        "outputId": "cd30ccab-327e-4b29-ee90-de8406594eba"
      },
      "execution_count": 53,
      "outputs": [
        {
          "output_type": "stream",
          "name": "stdout",
          "text": [
            "16/16 [==============================] - 0s 12ms/step\n"
          ]
        }
      ]
    },
    {
      "cell_type": "markdown",
      "source": [
        "Obtenemos las etiquetas verdaderas del conjunto de datos de validación para compararlas con las etiquetas predichas."
      ],
      "metadata": {
        "id": "C6hCYncBE3-b"
      }
    },
    {
      "cell_type": "code",
      "source": [
        "y_true = tf.concat(list(val_spectrogram_ds.map(lambda s,lab: lab)), axis=0)"
      ],
      "metadata": {
        "id": "zpcKQzZWbdf2"
      },
      "execution_count": 28,
      "outputs": []
    },
    {
      "cell_type": "markdown",
      "source": [
        "Generamos la matriz de confusión del modelo para evaluar el rendimiento."
      ],
      "metadata": {
        "id": "R9QDeORRFF8c"
      }
    },
    {
      "cell_type": "code",
      "source": [
        "def metricas(y_true, y_pred):\n",
        "  accuracy = accuracy_score(y_true, y_pred)\n",
        "  precision = precision_score(y_true, y_pred, average='weighted')\n",
        "  recall = recall_score(y_true, y_pred, average='weighted')\n",
        "  f1 = f1_score(y_true, y_pred, average='weighted')\n",
        "\n",
        "  print(f'Accuracy: {accuracy:.4f}')\n",
        "  print(f'Precision: {precision:.4f}')\n",
        "  print(f'Recall: {recall:.4f}')\n",
        "  print(f'F1 Score: {f1:.4f}')\n",
        "\n",
        "def plot_confusion_matrix(y_true, y_pred):\n",
        "  confusion_mtx = tf.math.confusion_matrix(y_true, y_pred)\n",
        "\n",
        "  plt.figure(figsize=(10, 8))\n",
        "  sns.heatmap(confusion_mtx,\n",
        "              xticklabels=label_names,\n",
        "              yticklabels=label_names,\n",
        "              annot=True, fmt='g')\n",
        "  plt.xlabel('Prediction')\n",
        "  plt.ylabel('Label')\n",
        "  plt.show()"
      ],
      "metadata": {
        "id": "d705_bc6ObMK"
      },
      "execution_count": 56,
      "outputs": []
    },
    {
      "cell_type": "code",
      "source": [
        "plot_confusion_matrix(y_true, y_pred_conv)"
      ],
      "metadata": {
        "id": "MEUdW4A9bdc4",
        "colab": {
          "base_uri": "https://localhost:8080/",
          "height": 696
        },
        "outputId": "33aaab6a-dc65-4a39-e9ee-c0db942d9309"
      },
      "execution_count": 54,
      "outputs": [
        {
          "output_type": "display_data",
          "data": {
            "text/plain": [
              "<Figure size 1000x800 with 2 Axes>"
            ],
            "image/png": "[encoded data removed]"
          },
          "metadata": {}
        }
      ]
    },
    {
      "cell_type": "markdown",
      "source": [
        "Observamos que el modelo predice correctamente la mayoria de los datos con pocos errores."
      ],
      "metadata": {
        "id": "_rZ2bHSgGZZ5"
      }
    },
    {
      "cell_type": "code",
      "source": [
        "metricas(y_true, y_pred_conv)"
      ],
      "metadata": {
        "colab": {
          "base_uri": "https://localhost:8080/"
        },
        "id": "v6YQTcDzPM3b",
        "outputId": "bd3b351a-e341-462d-be8c-604f749742fd"
      },
      "execution_count": 57,
      "outputs": [
        {
          "output_type": "stream",
          "name": "stdout",
          "text": [
            "Accuracy: 0.9620\n",
            "Precision: 0.9627\n",
            "Recall: 0.9620\n",
            "F1 Score: 0.9621\n"
          ]
        }
      ]
    },
    {
      "cell_type": "code",
      "source": [
        "def seleccionar_archivo_aleatorio(carpeta_base):\n",
        "    subfolders = [f.path for f in os.scandir(carpeta_base) if f.is_dir()]\n",
        "\n",
        "    random_subfolder = random.choice(subfolders)\n",
        "\n",
        "    files_in_subfolder = [os.path.join(random_subfolder, f) for f in os.listdir(random_subfolder) if os.path.isfile(os.path.join(random_subfolder, f))]\n",
        "\n",
        "    random_file = random.choice(files_in_subfolder)\n",
        "\n",
        "    subfolder_name = os.path.basename(random_subfolder)\n",
        "\n",
        "    return random_file, subfolder_name\n",
        ""
      ],
      "metadata": {
        "id": "HKrnt2c7Jqs7"
      },
      "execution_count": 30,
      "outputs": []
    },
    {
      "cell_type": "markdown",
      "source": [
        "Realizamos predicciones sobre un ejemplo de audio, mostrando las probabilidades predichas para cada clase y reproduciendo el audio."
      ],
      "metadata": {
        "id": "DnWErHObSxNn"
      }
    },
    {
      "cell_type": "code",
      "source": [
        "carpeta_base = '/content/data/'\n",
        "x, label = seleccionar_archivo_aleatorio(carpeta_base)\n",
        "\n",
        "x = tf.io.read_file(str(x))\n",
        "x, sample_rate = tf.audio.decode_wav(x, desired_channels=1, desired_samples=8000)\n",
        "x = tf.squeeze(x, axis=-1)\n",
        "waveform = x\n",
        "x = get_spectrogram(x)\n",
        "x = x[tf.newaxis,...]\n",
        "\n",
        "prediction = model_combolucion(x)\n",
        "x_labels = label_names\n",
        "plt.bar(x_labels, tf.nn.softmax(prediction[0]))\n",
        "plt.title(label)\n",
        "plt.show()\n",
        "\n",
        "display.display(display.Audio(waveform, rate=8000))"
      ],
      "metadata": {
        "id": "OK23Zf6qbdaT",
        "colab": {
          "base_uri": "https://localhost:8080/",
          "height": 511
        },
        "outputId": "a5d6ea28-bc32-46a8-b900-7e72576131f6"
      },
      "execution_count": 34,
      "outputs": [
        {
          "output_type": "display_data",
          "data": {
            "text/plain": [
              "<Figure size 640x480 with 1 Axes>"
            ],
            "image/png": "[encoded data removed]"
          },
          "metadata": {}
        },
        {
          "output_type": "display_data",
          "data": {
            "text/plain": [
              "<IPython.lib.display.Audio object>"
            ],
            "text/html": [
              "\n",
              "                <audio  controls=\"controls\" >\n",
              "                    <source src=\"data:audio/wav;base64,UklGRqQ+AABXQVZFZm10IBAAAAABAAEAQB8AAIA+AAACABAAZGF0YYA+AADH/7j/m/9h/6r/uP8rAPL/8v+N/0D7ef7eASsAFwLeAVYArQCCAMoADgArACsAqv+CAFP/fv9T/3D/fv8AAAAA8v8AANX/8v+CACsAHAAOABwAcP+QAA4Ajf/H/2UA1f8rACf/8v+8AAAA8v9lANX/OQAOABn/8v+q/6X+wv7y/7P+cwCQAMoAMAGtAFYA5P/V/3MAm/8AADkAm/+q/zH+6f0U/mUAhwF4AewBpAGfACEBrQCCAPL/AABE/+T/jf9r/gr/5P9h/5AAcwAn/wAAYf/H/2oBkAC8AA4AggC4/9D+uP9T/8f/ggCb//L/qv85ALj/cwAhATb/DgCQAH7/qv9T/43/AABw/8f/Yf9IAFYA1f+tANX/ggCQAMf/fv+q/3MAHABIAET/uP/V/w4AcwDKAJv/uP8Z//YAVgCb/wQBkABE/60Alv4OALj/uP+tALj/kABw/+T/8v8OAGoBpf4EAWUAYf8hAZb+DgDH/zH+MAEZ/+3+3gFlAI3/m/8OAKr/5wDnACsAnwCq/z4BRP8n/3MAWP0rAEgAnwAwAbP+AADeAd/+OQBzAD/+Gf/nALwAJ/+4/0gAXP7H/1P/1f+b//z+eAFIAGH/EwFlADH+Nv/KAMf/Yf8rAND+U/+fAN/+KwATAeT/1f8wAbwACv8K/37/vACN//z+ggAZ/3D/Nv/f/s8BTQFr/lsBYAKz/uT/IQHV/3D/fv9IADkAx//f/tkAygDQ/soAVgCN/58Aqv85AGUAuP9h/2H/BAFNAY3/RP9uAq0A9/3H/zABggBr/sf/hwGq/3D/Cv/2AAQBfv8n/+T/KwA5ACf/8v8EARn/Yf9w/zkAOQD8/sf/OQBw/w4AVgBlADb/m//k/8f/DgAcAEgAcP/H/w4AAAArAGUA1f/y/5v/SAC4/xwAKwCq/2UAuP9w/0gA5P+q/5AAAAAAAFYAqv/H/w4AYf/H/7wA1f8OAFYAm//V/1YAAAAOAAAAkAAOAMf/KwCQAEgAm//k/+T/uP+QAGUAOQDV/8f/HACb/0gA5P9lAMf/8v/H/ysADgCfAAAA1f+N/2UA5P8cADkA5P8AAOT/jf+CACsAYf/k//L/AAAOAGUAm/9IAET/wv4K/9X/HAA5AEgAwQHnANkAvABIAH7/HACN/+T/HACq//z+AAA5ACsAfv9+/zkAVgC4/9X/2QC4/5v/ggBT/3D/uP85ADkAx//y/9X/m/9WAA4ASADt/gAADgA5APL/OQA5AA4Am//k/8f/KwA5ANX/m//y/+T/qv8OANX/cP8AACsA1f8AAGH/ZQBlAPL/1f8rAMf/KwAAAHD/AAAcAKr/HACq/0gASACq/8oAx/+b/1YAAADk/5AAHAAZ/3D/OQArANX/KwAAALj/VgDy/zkAvADH/zkANv+b//L/HADy/3D/ggCq/w4ASADk/w4AU/82/w4AggAcAA4A8v/y//L/cwDV/3MAuP/V/8f/jf9WAOT/1f8cAGH/AADH/+T/ggDk/43/DgBlABwAx//k/wAAAADk//L/8v/2AET/8v/k/8f/KwBIANX/1f/y/7j/m/8hAcf/J/+QALj/Yf8rAGUAuP9w/4IAx/9+/9X/8v9IACsAcP/V/5v/AABIAOT/1f9lAJ8A7f64/4IAnwA5AMf/VgBh/zb/EwHV/ysABAHk/7j/DgArAEgADgD2ABwAwv6fANX/uP/nAAAAVgCN/5v/x/9WAGH/8v/V/5v/AAArAET/8v/V/xn/cP85AFP/U/+4/yf/m//y/xwAx/8cAEgAggBWAOT/ZQCfAK0ADgCtAAAAkABzAE0BVgC8AFsBqv+4/8oArQATAVYANv/V/4IADgBh/xwAAABT/6r/jf9E/zb/J/9E/xn/s/55/jH+iP4x/lz+P/6z/oj+J/82/8f/VgD2AMoAPgGkAYcBpAGyAcEBCQJbAc8BMAEwARMBhwFqATABcwD2AD4B+wFbAcoAcwA5AJAAhwHPAYcBTQGCAI3/uPw7+pf4Xfil+Jz5AfqD+vf6Xfvf+2b9/P6QADABpAFgAtkDzwSaBagFJgWCA0MC2QC8AOwBiwKCA+ICJgJqAU0BPgFuAosCHAOLAlECUQL/AucDJgWQBq0DAf0Q94T0WPTg9fj3I/gU+Nb2ifVi9sz6U/9bBFYGZAYcBv8FmgVgBbIEiwKCAPf97vv8+6r8zP1E/zkAggDPAdQCCQUSB18IaQcEB/oEnwO3AjQCzwFqATABrQDPAdQCFwXZAx795Pbz83HzQPWh99/4tPjp95f1qvZY+tX/aQTYBucGRwbUBTQFxQXUBYYE5wAK/Cj5pfgB+lP80P7KAJAAZQDnAOcDhgcSCj0KqAiQBoYEDgO3AsUCiwJqAa0AVgBDAlsEZAZqAVP5kvTR8gvzl/XM94j4Hvcy9S30Tvi9/SsDVgaGB4EGcwbxBfUGDQmoCFsEg/2v9+D1EPeN+QfvuPwK/L70/fXwC6ArUUJtS8RIbzmDKL4fGh7qH5MZLwpw/BD35Pw4Dw8ohzIICxjIcqdfpnGwrsaV08vMU7zOqLWsBNbPBP0gwingI+8d4CMxL8BBWk3iPAMQ/9oewDHHmtSx37DrQenm3snh7vgGIFE/KkajQa09JjbQMis0kTFiJEwKC/P97773sgHEDmMbuSQVHSnnmLW+upLDQMFcx0nDZ7Qfrgyw9swU+8QOlBAHF3sdFCwSPvVGEUrFPKsYevKt23zamdo50mDRW9b61o/htPteFIQloCtSMFs7QkKoQlZAxjMfH9MLMf5+/Jb+oPqg+qQBEg1eHQUvcRtg1+W2fsJYw5bH2cxAu4qsPasQusTmiwhHCZQKPBZ6Jhw9u0lHSd0+FSNRC1YGe+/7zTHBtL4sw5XTtuNY9BwAIQRGGLgzR0A4RuZGqD81OXksiSBZGcUF4PJU8M3xI/hlAw0PCx5cLwEiCN3buuzWCdG0wcLHLbQlpk+yRMKP5GH8MvKD/YkdSTFuQmlH5z0rN7QpNx7lHqgF+9AMrf2yuMgw0CHWneRx6vj3wxqkNTk9+ziRN1ZDQksJPx4rXhc+BL36D/ox+CPyLfEP/SkSUyd9PCcwF9QQtITuEt/HvAHAtqAcnqq/Osa73mjoR9srA6kw9jeoP305ZTeGRJo2Bil7HfP2n89Auwa+ScZnutXFFuD+5moBdh8oJPcxhj4XRVBOX0VqOKUvAhn+DnwIKPZ68tLvB+9lAN0KexpEM8pAPRPDtbbamgXStQywZ7oTlom1vcb4vbfXW9nf+zEphCV0MbI7bjy/U30/qidAKbEKQPgz47qqEa6qxTK7McfB0zjniwtPGn4t6DfxNmhNJUsJP947fyfWHqIWGf8B94DtjuoL89H15wYpGB4lsjuBRh/ul7jSGs3rdJI2vBuqtqkLv2Sk377e0LrqbRSLCF0jJj+jQfRV+j7oNJlCpiD1DAH6wNxYumiulserszewG+GF69H4RhgjJpE0OToqRs5HfTyeQHQ05R4kFHgEZ/de6avz7vU94qr50hTlGOQq9j2kNcbL0umgMfmoxaM6z+uor714nM+fttoh2eroH/HqHJo/LCggR+FLFz/SUcIsDBsfHI3/POiEt3uvqc4Rrs6rK8+K46/6ggPqGcIvZToIRfY64kWUStUz5CopGy4QOQMR61Tqw+wM6o7qpfiPD0sZXSPxPHQ0GMgvBNk3E5aNv0voWqsftG6gI7tq0D/NG+GT6ywo2x/XGG1R4kW7QBxADzEZLZ0YbgU37ebe1634vW/OspY10YXo9tXKBuEU7iBEKq1AVUbGOe9O7Dh0McIsDQxpDen6JOmO6l7mFub+6aQBQwUbFSIvSDprJg/JSDdiIYmBEwGU38aXuMKnqVO/tL6CzHPVT/L5GXX9MDJaRGEqd00cQPIwXC8LJF8OZ/el/t/ErK2r8CCi0q+E9zrGDOpHDyUI7xroMcE44zDmSR03dDStOvkThRkND9vuEPFs8p3kzuK59qr2wv5eFGcfSS4NRsDfHAPMYieLDORPGgGAW9OcvCWp2saXu8bRB+ZIAAfsfipqMrYOA000P9oreTKRLrkeNAv/BY326usBvVvQ3d8DqxLWv+tR2ijzcwloE4oXqifQMm859y7LMZ89qx66FYkagQZs9TfzI/UM6tLsr/Q7/XMGsQ0oIYMudSh41uM2WR8UitAs7NbBmSPy2KH7zWHFprXS6f3snuH7AVwsHAnkJ0g98ycrN5wk7SycIRwJ+g3/BXHzYNH+4wjgpriZ3ULjz9nv7Db5yglkCRsSkiilKQEipDLoNDchHiIVIKITnwOtADQCpvJi8CP42vpr+IIA3BPmDzIdxy141swiFSMhlgYpA9zYp43/qKOG3OfS77Wl+C7l5uF3CvARRwa5JJcjBibfLI4YLC75GXwLUBc0CAH65PwW4EjVAf3WttjhO/2DwGkEYvNT+aITOQOqJxAfNxt0LhQsph0LJLQgRw/rDTkABASq9tvuZv1s8kXz7f6HAW4Fuw83GDchtenSFL4le7XcGUvr6cC9/QK0outq0yO+kvqt2Evl8v+9/XgHUBGdFf0jWRy1GiIszRZLFhEZ6w3ABw4AO/RC4zL1BNZy3sjw9tI79O/sdfSGBNX8tRdaE9cYhCWrIZIi0SA3HnsXMxGjCgQH0fvC+Fj6sPEo9pz25PllAHn+uw/OEG0XzRnz8PwpI/tC2rUan8yP54/h98YH7Au/gd4k6YLVQPXz9gX+3QriCy0csBywFmsmMh3EFL8Zcg+7DGkEg/0hAZ3n8N0rAJ/Su94j+/rZg/rD7ysAAwrM97keIBO2DkUhGhsHGv4U5hX0FcAEgQbFCI35iPse/Tb8f/m0+0wEDgB4BGkKhRCsD1USkxbu9RsVMfsI46gFt9SA6tjet9FP7OjM4eYH6Qjj3/hY9BcCsgdHBvQV4RGAEhob+RO1FHISfA62Dn0FaQduAsL7puwe98PyKtt/+QfpyOrD9STvtwLl84YH5g94BHEY5hWdGIAYQRfqHFoQyQ/hERwGTASyAd/+Zv2X+I3/QPv8+1ECkAAvB5oF0wvEDkcMl/sSCkMCWejeAaLoUOk36jTdPO7Y2JjmLe6Z45L0dfQe/dkAqAJkDzgM/g7vFNcS6xDOEOsQ2AwICHwIvAM//gv5du4K/KznQen8+DPmWPQy9Zf4lv73+iAN0wj6CpMW9BKwFuEU0hdyFZQN0xFMClEFcwNqAfz+Yvlr/o38HvpO/qD9ZQDk/6ME5wbxBcAKOQkG+z0Kwvuw8cz9DOq58O/mp+ai63Leq+p76QzqifLl82H8oP1IA4sLOQmPD9MRbRHTES4QchL/C+sKNAiyBAb7qvab/BXsbO/g8hrt5fAC8SP4XfiD+g0G1AVaCj0QSxOAFZQTqxhyFZQQJRFVDC8HBAR4AT/+Afr3+g/6a/jC+En6J/xw/GUAJgK3AlEFBAeVB+II4ghc/qMHiPt69Sf8mOwf8eroe+lZ66Liq+0R677utPWc9pAAvAAqBloNzgr+ES4QGxLrEPUMOA8NCUwH1AXt/lj6Zvqm9Tzx5fP98hrzvvQx+N/73/uaAlYGIQf/C2QPIBAuECURihEIDjgMfAvnBjkDwQG4/wr8Mfvu+6r5D/pr+xT+r/0n/2AC2QDxAhIEwARuBQkFDQZzBlYAcP/PAS30evir8wfv7+9B6QvwUOkH7JPxte/u9TH4zP3sAcUCTArACoEMcg/rDVUPRwxyDDQLgQb1BiYC5wBn96r5O/q17Nb5evJK9Ab4/fVNAU74+gTsB6MEow2ZC48PLw3JDL8QCAjYCUIINALsAVj9iP42+Sj5l/uE9/f6oPpw/FP/Mf68A8oDYAL6B8AExQU5Bm4FgQbxAnMDg/15/l34T/Vw9qbv+PEC7pjve+9Z7kr04PKS9wr88vziAj4EFwixCsoJQg6BDOYMow2xCs4KaQc0BQQEkvqz/oj7T/K0+yjzx/bH9ij2oP2h958AagHZAAgIrQZRC7sJdwp3DQgI9QklCBcFlQSyAU0BNv+D/U7+1fwn/IP9Zv0F/hn/ygBNAd4BggP2A4IDaQTKA6MEcwP/AngEqv95/nn+f/ko9tH1w/Jn8Zzw2/Fn8aHxevXH9iz6Yfzy/2UDLwQ5CS8K3QqsDP8L8AvFCJAJsgf6BN0EIQHV/0T8zPQ2+RD0nPAt92zyvvfD9dr60P5d+90ETAT/BRIKJQvrDQgL2Aw9DQgI8AiBBp8DJgJT//L/Nvzu+07+RPyq/ND+Nv8rAJUBTAQSBMAErQZHBmAFfQXFBecDDgM2/Bn/qvmw8aX4oe5U8HbuXuxn8e/sLfTR9cP1Zv2z/v8CuwYICC8NFwt3Df4OiwuoCzkJhgejBIcBnwDk/Cz63/gL88P1ifI88Sj2HvQx+PP52v1WADAB9QYvB5AJgQwNDLENcgz1DIsLlQfdBz4EUQI+ARn/Bf6q/A/9g/3H/E7+OQDy/1ECbgKCA4IDnwMJBWUDIQQcA1EC4gKfAP8CCvyS+oP9T/Io9o7zie9K8Uru+PEt8abyFPjp96/6TQFqAfEF5wb1CSUOBAdyDOsKVgbOClsEZQP7AQX+lv64/Kr2C/bH+RDxhPdi+cf2fvxT/AkCrQCoAoEJOQYqCeILzgpRC7sJowrwCJoFPgfnAwQBhwEOAA4AP/6l/tkA9/1WAKgCWwHeAdkDVgNRAsEBKwPZABn/WwHy/37/9gDQ/oj4kv1F9un00fjg70X2/e/l8wv2sPH3+jb5YfwwASEBJgVMB0wHGww9CqMKuwzTCM8H9QZ4BEMC0P4K/+74MvVd+9vxU/ZT+Y32J/zM+vsBTQG3AjQIkAbPB9gJgQm2CAgIsgeGB1sEbgXsBPsBJgKaAlsBvACHAYsCjf+fABcCuP8Z//L/df0e/X78iPtY/Xr7P/7a/e3+wQEEAagCIQSg/bP+hwGv9Mf5tPjI8PP2/fKX9VP2BvUK/GH85PxbBLwDcwNbB/EFIQfFBdQFPgekAYsCygDu++T/9/pJ/Rn/RPyHAbP+vACCAyEB3QTnAzkDFwVDAg4DHAOfAHMD9gBzAFsBRP8wAfYAqv8cA7cCqAJMBH0CEgSfA4IAiwJr/qr/VgB+/I3/1fzR+/f9uPwe/U7+0P6z/ngBuP80AucAHv1IAI35ufkj+zL1f/nR+EX2evul+En63/4G+2H/Gf8i/qQBJ/+tAEgA5P+HAeT/EwH2A+IChgSQBuIFsgfYCfAIHAnPB88HPgeGBCYFiwIwAQQB/P4K/yL+Zv0K/wH9s/6l/n78lv7V/B798vx+/O3+fvyl/pAAiP4EAcUCMAFWA+wBCQI+AQ4AeAG4/+T/rQB1/WH/RP91/SsA3/4K/ysABf7y/1z+x/yW/jb89/ry/IP6LPpO+yP7a/vV/Gv+nwAOAGACwATBAZUETATiArwDEgTZA9kDiwIcA0gD7AFzA60D1AJIA4YEDgPeAVEChwEZ//z+iP6q/ML7jfyb/Ij7fvyv/bT7qvwU/tX8XP5E/zb/fv+QAFsBIQGkAVECJgIJAhwD3gFbAcEBeAGq/zb/VgBJ/T/+Bf7V/AH9LP0i/tr9XP4AANX/ggDy/3MAIQGN/1YAygDf/sf/nwB+/0gATQGfAPsBJgJ9AvYDFwIcA4IDbgLsAfYAkADy/3X9m/8i/hT7iP4s/Qr80P5J/cf/cP+N//sBVgAhAbIB2QBIAFsBIQEn/5AAggCl/j/+RP8n/5L9PgHV/wr/TQFc/pb+jf/y/Jb+wv51/Y3/Cv8K/60A1f/KAK0ASAATAbwATQHBAcoAFwL7AYcBlQGtAD4BcwDZANkAjf+8ALj/m/+N/4j+FP5O/pL9zP0x/sz9lv5r/qX+nwAn/3MA5wAcAPYAlQHZABMBIQFIACEBqv/y/5UBCv/y//YAx/9w/3MA5P8Z/0T/m/8Z/07+m/+4/2v+Nv9zACf/uP8rAPL/KwBE/0gAAAA2/xMBSAAOAIcBrQArADQCygCVAYsCygCyAWoB1f8rAIIA1f/y/ysAfv+4/xn/0P5w/1P/a/4rAGH/qv/2AH7/fv9w/7j/5P8AAKr/lQHZAEgAMAFWAJ8AWwHZAFsBIQGtAPYAHABWABwAcP9T/1P/3/7t/rj/jf9w/w4AU/9T/0gAOQDV/1YAYf+CAMf/cP8wATkAVgCyAVsBEwGyASYCygCtAD4B8v8OADkAm/9h/9/+J//V/5b+lv5+/5b+Yf8OAFP/OQDV/43/Cv8//jH+U/9r/gAAcwCfAPYA5wA+AU0BDgCCAK0A8v8OAK0Am/+b/9D+J//Q/mb9pf6z/gX+x//ZAHMAZQCfAJAAKwBlAMoAMAEwAU0BPgH2AIIAIQEEATb/KwB+/+3+J/8n//z+Nv/Q/tX/8v9T/8f/Yf9w/+T/DgA5AJv/m//H/3MAAAA5AMoAggCQAJUBsgGVAXgBwQH2AIIAAAAAAAAAm//H/37/U/9E/2H/x/+I/sL+Yf/8/if/Nv9E/2H/Nv+4/+T/KwBIACEBagEhAbIBMAFNAecAygCQAAAAuP8AABn/uP/V/zb/cP+4//L/cwDV/3MAkAAOAH7/rQDk/43/cwCN//L/cwAOAJ8A1f/V/wAAkAAAAOT/5P8K/1P/J//8/hn/ef5w/+3+Cv/t/if/Nv+4/43/m/9zAGUA2QDnAJ8ASADZAHMASACQAIIAZQAcAGH/fv9T/9/+Yf+N/3D/Cv9w/0T/U//V/1P/1f8cAIIA1f+4/zkA1f9WAMf/ggDH/xwAggDk/wAA8v8AANX/HAAAAAAAAAAAAAAAAAAAAAAAAAAAAAAAAAAAAAAAAAAAAAAAAAAAAAAAAAAAAAAAAAAAAAAAAAAAAAAAAAAAAAAAAAAAAAAAAAAAAAAAAAAAAAAAAAAAAAAAAAAAAAAAAAAAAAAAAAAAAAAAAAAAAAAAAAAAAAAAAAAAAAAAAAAAAAAAAAAAAAAAAAAAAAAAAAAAAAAAAAAAAAAAAAAAAAAAAAAAAAAAAAAAAAAAAAAAAAAAAAAAAAAAAAAAAAAAAAAAAAAAAAAAAAAAAAAAAAAAAAAAAAAAAAAAAAAAAAAAAAAAAAAAAAAAAAAAAAAAAAAAAAAAAAAAAAAAAAAAAAAAAAAAAAAAAAAAAAAAAAAAAAAAAAAAAAAAAAAAAAAAAAAAAAAAAAAAAAAAAAAAAAAAAAAAAAAAAAAAAAAAAAAAAAAAAAAAAAAAAAAAAAAAAAAAAAAAAAAAAAAAAAAAAAAAAAAAAAAAAAAAAAAAAAAAAAAAAAAAAAAAAAAAAAAAAAAAAAAAAAAAAAAAAAAAAAAAAAAAAAAAAAAAAAAAAAAAAAAAAAAAAAAAAAAAAAAAAAAAAAAAAAAAAAAAAAAAAAAAAAAAAAAAAAAAAAAAAAAAAAAAAAAAAAAAAAAAAAAAAAAAAAAAAAAAAAAAAAAAAAAAAAAAAAAAAAAAAAAAAAAAAAAAAAAAAAAAAAAAAAAAAAAAAAAAAAAAAAAAAAAAAAAAAAAAAAAAAAAAAAAAAAAAAAAAAAAAAAAAAAAAAAAAAAAAAAAAAAAAAAAAAAAAAAAAAAAAAAAAAAAAAAAAAAAAAAAAAAAAAAAAAAAAAAAAAAAAAAAAAAAAAAAAAAAAAAAAAAAAAAAAAAAAAAAAAAAAAAAAAAAAAAAAAAAAAAAAAAAAAAAAAAAAAAAAAAAAAAAAAAAAAAAAAAAAAAAAAAAAAAAAAAAAAAAAAAAAAAAAAAAAAAAAAAAAAAAAAAAAAAAAAAAAAAAAAAAAAAAAAAAAAAAAAAAAAAAAAAAAAAAAAAAAAAAAAAAAAAAAAAAAAAAAAAAAAAAAAAAAAAAAAAAAAAAAAAAAAAAAAAAAAAAAAAAAAAAAAAAAAAAAAAAAAAAAAAAAAAAAAAAAAAAAAAAAAAAAAAAAAAAAAAAAAAAAAAAAAAAAAAAAAAAAAAAAAAAAAAAAAAAAAAAAAAAAAAAAAAAAAAAAAAAAAAAAAAAAAAAAAAAAAAAAAAAAAAAAAAAAAAAAAAAAAAAAAAAAAAAAAAAAAAAAAAAAAAAAAAAAAAAAAAAAAAAAAAAAAAAAAAAAAAAAAAAAAAAAAAAAAAAAAAAAAAAAAAAAAAAAAAAAAAAAAAAAAAAAAAAAAAAAAAAAAAAAAAAAAAAAAAAAAAAAAAAAAAAAAAAAAAAAAAAAAAAAAAAAAAAAAAAAAAAAAAAAAAAAAAAAAAAAAAAAAAAAAAAAAAAAAAAAAAAAAAAAAAAAAAAAAAAAAAAAAAAAAAAAAAAAAAAAAAAAAAAAAAAAAAAAAAAAAAAAAAAAAAAAAAAAAAAAAAAAAAAAAAAAAAAAAAAAAAAAAAAAAAAAAAAAAAAAAAAAAAAAAAAAAAAAAAAAAAAAAAAAAAAAAAAAAAAAAAAAAAAAAAAAAAAAAAAAAAAAAAAAAAAAAAAAAAAAAAAAAAAAAAAAAAAAAAAAAAAAAAAAAAAAAAAAAAAAAAAAAAAAAAAAAAAAAAAAAAAAAAAAAAAAAAAAAAAAAAAAAAAAAAAAAAAAAAAAAAAAAAAAAAAAAAAAAAAAAAAAAAAAAAAAAAAAAAAAAAAAAAAAAAAAAAAAAAAAAAAAAAAAAAAAAAAAAAAAAAAAAAAAAAAAAAAAAAAAAAAAAAAAAAAAAAAAAAAAAAAAAAAAAAAAAAAAAAAAAAAAAAAAAAAAAAAAAAAAAAAAAAAAAAAAAAAAAAAAAAAAAAAAAAAAAAAAAAAAAAAAAAAAAAAAAAAAAAAAAAAAAAAAAAAAAAAAAAAAAAAAAAAAAAAAAAAAAAAAAAAAAAAAAAAAAAAAAAAAAAAAAAAAAAAAAAAAAAAAAAAAAAAAAAAAAAAAAAAAAAAAAAAAAAAAAAAAAAAAAAAAAAAAAAAAAAAAAAAAAAAAAAAAAAAAAAAAAAAAAAAAAAAAAAAAAAAAAAAAAAAAAAAAAAAAAAAAAAAAAAAAAAAAAAAAAAAAAAAAAAAAAAAAAAAAAAAAAAAAAAAAAAAAAAAAAAAAAAAAAAAAAAAAAAAAAAAAAAAAAAAAAAAAAAAAAAAAAAAAAAAAAAAAAAAAAAAAAAAAAAAAAAAAAAAAAAAAAAAAAAAAAAAAAAAAAAAAAAAAAAAAAAAAAAAAAAAAAAAAAAAAAAAAAAAAAAAAAAAAAAAAAAAAAAAAAAAAAAAAAAAAAAAAAAAAAAAAAAAAAAAAAAAAAAAAAAAAAAAAAAAAAAAAAAAAAAAAAAAAAAAAAAAAAAAAAAAAAAAAAAAAAAAAAAAAAAAAAAAAAAAAAAAAAAAAAAAAAAAAAAAAAAAAAAAAAAAAAAAAAAAAAAAAAAAAAAAAAAAAAAAAAAAAAAAAAAAAAAAAAAAAAAAAAAAAAAAAAAAAAAAAAAAAAAAAAAAAAAAAAAAAAAAAAAAAAAAAAAAAAAAAAAAAAAAAAAAAAAAAAAAAAAAAAAAAAAAAAAAAAAAAAAAAAAAAAAAAAAAAAAAAAAAAAAAAAAAAAAAAAAAAAAAAAAAAAAAAAAAAAAAAAAAAAAAAAAAAAAAAAAAAAAAAAAAAAAAAAAAAAAAAAAAAAAAAAAAAAAAAAAAAAAAAAAAAAAAAAAAAAAAAAAAAAAAAAAAAAAAAAAAAAAAAAAAAAAAAAAAAAAAAAAAAAAAAAAAAAAAAAAAAAAAAAAAAAAAAAAAAAAAAAAAAAAAAAAAAAAAAAAAAAAAAAAAAAAAAAAAAAAAAAAAAAAAAAAAAAAAAAAAAAAAAAAAAAAAAAAAAAAAAAAAAAAAAAAAAAAAAAAAAAAAAAAAAAAAAAAAAAAAAAAAAAAAAAAAAAAAAAAAAAAAAAAAAAAAAAAAAAAAAAAAAAAAAAAAAAAAAAAAAAAAAAAAAAAAAAAAAAAAAAAAAAAAAAAAAAAAAAAAAAAAAAAAAAAAAAAAAAAAAAAAAAAAAAAAAAAAAAAAAAAAAAAAAAAAAAAAAAAAAAAAAAAAAAAAAAAAAAAAAAAAAAAAAAAAAAAAAAAAAAAAAAAAAAAAAAAAAAAAAAAAAAAAAAAAAAAAAAAAAAAAAAAAAAAAAAAAAAAAAAAAAAAAAAAAAAAAAAAAAAAAAAAAAAAAAAAAAAAAAAAAAAAAAAAAAAAAAAAAAAAAAAAAAAAAAAAAAAAAAAAAAAAAAAAAAAAAAAAAAAAAAAAAAAAAAAAAAAAAAAAAAAAAAAAAAAAAAAAAAAAAAAAAAAAAAAAAAAAAAAAAAAAAAAAAAAAAAAAAAAAAAAAAAAAAAAAAAAAAAAAAAAAAAAAAAAAAAAAAAAAAAAAAAAAAAAAAAAAAAAAAAAAAAAAAAAAAAAAAAAAAAAAAAAAAAAAAAAAAAAAAAAAAAAAAAAAAAAAAAAAAAAAAAAAAAAAAAAAAAAAAAAAAAAAAAAAAAAAAAAAAAAAAAAAAAAAAAAAAAAAAAAAAAAAAAAAAAAAAAAAAAAAAAAAAAAAAAAAAAAAAAAAAAAAAAAAAAAAAAAAAAAAAAAAAAAAAAAAAAAAAAAAAAAAAAAAAAAAAAAAAAAAAAAAAAAAAAAAAAAAAAAAAAAAAAAAAAAAAAAAAAAAAAAAAAAAAAAAAAAAAAAAAAAAAAAAAAAAAAAAAAAAAAAAAAAAAAAAAAAAAAAAAAAAAAAAAAAAAAAAAAAAAAAAAAAAAAAAAAAAAAAAAAAAAAAAAAAAAAAAAAAAAAAAAAAAAAAAAAAAAAAAAAAAAAAAAAAAAAAAAAAAAAAAAAAAAAAAAAAAAAAAAAAAAAAAAAAAAAAAAAAAAAAAAAAAAAAAAAAAAAAAAAAAAAAAAAAAAAAAAAAAAAAAAAAAAAAAAAAAAAAAAAAAAAAAAAAAAAAAAAAAAAAAAAAAAAAAAAAAAAAAAAAAAAAAAAAAAAAAAAAAAAAAAAAAAAAAAAAAAAAAAAAAAAAAAAAAAAAAAAAAAAAAAAAAAAAAAAAAAAAAAAAAAAAAAAAAAAAAAAAAAAAAAAAAAAAAAAAAAAAAAAAAAAAAAAAAAAAAAAAAAAAAAAAAAAAAAAAAAAAAAAAAAAAAAAAAAAAAAAAAAAAAAAAAAAAAAAAAAAAAAAAAAAAAAAAAAAAAAAAAAAAAAAAAAAAAAAAAAAAAAAAAAAAAAAAAAAAAAAAAAAAAAAAAAAAAAAAAAAAAAAAAAAAAAAAAAAAAAAAAAAAAAAAAAAAAAAAAAAAAAAAAAAAAAAAAAAAAAAAAAAAAAAAAAAAAAAAAAAAAAAAAAAAAAAAAAAAAAAAAAAAAAAAAAAAAAAAAAAAAAAAAAAAAAAAAAAAAAAAAAAAAAAAAAAAAAAAAAAAAAAAAAAAAAAAAAAAAAAAAAAAAAAAAAAAAAAAAAAAAAAAAAAAAAAAAAAAAAAAAAAAAAAAAAAAAAAAAAAAAAAAAAAAAAAAAAAAAAAAAAAAAAAAAAAAAAAAAAAAAAAAAAAAAAAAAAAAAAAAAAAAAAAAAAAAAAAAAAAAAAAAAAAAAAAAAAAAAAAAAAAAAAAAAAAAAAAAAAAAAAAAAAAAAAAAAAAAAAAAAAAAAAAAAAAAAAAAAAAAAAAAAAAAAAAAAAAAAAAAAAAAAAAAAAAAAAAAAAAAAAAAAAAAAAAAAAAAAAAAAAAAAAAAAAAAAAAAAAAAAAAAAAAAAAAAAAAAAAAAAAAAAAAAAAAAAAAAAAAAAAAAAAAAAAAAAAAAAAAAAAAAAAAAAAAAAAAAAAAAAAAAAAAAAAAAAAAAAAAAAAAAAAAAAAAAAAAAAAAAAAAAAAAAAAAAAAAAAAAAAAAAAAAAAAAAAAAAAAAAAAAAAAAAAAAAAAAAAAAAAAAAAAAAAAAAAAAAAAAAAAAAAAAAAAAAAAAAAAAAAAAAAAAAAAAAAAAAAAAAAAAAAAAAAAAAAAAAAAAAAAAAAAAAAAAAAAAAAAAAAAAAAAAAAAAAAAAAAAAAAAAAAAAAAAAAAAAAAAAAAAAAAAAAAAAAAAAAAAAAAAAAAAAAAAAAAAAAAAAAAAAAAAAAAAAAAAAAAAAAAAAAAAAAAAAAAAAAAAAAAAAAAAAAAAAAAAAAAAAAAAAAAAAAAAAAAAAAAAAAAAAAAAAAAAAAAAAAAAAAAAAAAAAAAAAAAAAAAAAAAAAAAAAAAAAAAAAAAAAAAAAAAAAAAAAAAAAAAAAAAAAAAAAAAAAAAAAAAAAAAAAAAAAAAAAAAAAAAAAAAAAAAAAAAAAAAAAAAAAAAAAAAAAAAAAAAAAAAAAAAAAAAAAAAAAAAAAAAAAAAAAAAAAAAAAAAAAAAAAAAAAAAAAAAAAAAAAAAAAAAAAAAAAAAAAAAAAAAAAAAAAAAAAAAAAAAAAAAAAAAAAAAAAAAAAAAAAAAAAAAAAAAAAAAAAAAAAAAAAAAAAAAAAAAAAAAAAAAAAAAAAAAAAAAAAAAAAAAAAAAAAAAAAAAAAAAAAAAAAAAAAAAAAAAAAAAAAAAAAAAAAAAAAAAAAAAAAAAAAAAAAAAAAAAAAAAAAAAAAAAAAAAAAAAAAAAAAAAAAAAAAAAAAAAAAAAAAAAAAAAAAAAAAAAAAAAAAAAAAAAAAAAAAAAAAAAAAAAAAAAAAAAAAAAAAAAAAAAAAAAAAAAAAAAAAAAAAAAAAAAAAAAAAAAAAAAAAAAAAAAAAAAAAAAAAAAAAAAAAAAAAAAAAAAAAAAAAAAAAAAAAAAAAAAAAAAAAAAAAAAAAAAAAAAAAAAAAAAAAAAAAAAAAAAAAAAAAAAAAAAAAAAAAAAAAAAAAAAAAAAAAAAAAAAAAAAAAAAAAAAAAAAAAAAAAAAAAAAAAAAAAAAAAAAAAAAAAAAAAAAAAAAAAAAAAAAAAAAAAAAAAAAAAAAAAAAAAAAAAAAAAAAAAAAAAAAAAAAAAAAAAAAAAAAAAAAAAAAAAAAAAAAAAAAAAAAAAAAAAAAAAAAAAAAAAAAAAAAAAAAAAAAAAAAAAAAAAAAAAAAAAAAAAAAAAAAAAAAAAAAAAAAAAAAAAAAAAAAAAAAAAAAAAAAAAAAAAAAAAAAAAAAAAAAAAAAAAAAAAAAAAAAAAAAAAAAAAAAAAAAAAAAAAAAAAAAAAAAAAAAAAAAAAAAAAAAAAAAAAAAAAAAAAAAAAAAAAAAAAAAAAAAAAAAAAAAAAAAAAAAAAAAAAAAAAAAAAAAAAAAAAAAAAAAAAAAAAAAAAAAAAAAAAAAAAAAAAAAAAAAAAAAAAAAAAAAAAAAAAAAAAAAAAAAAAAAAAAAAAAAAAAAAAAAAAAAAAAAAAAAAAAAAAAAAAAAAAAAAAAAAAAAAAAAAAAAAAAAAAAAAAAAAAAAAAAAAAAAAAAAAAAAAAAAAAAAAAAAAAAAAAAAAAAAAAAAAAAAAAAAAAAAAAAAAAAAAAAAAAAAAAAAAAAAAAAAAAAAAAAAAAAAAAAAAAAAAAAAAAAAAAAAAAAAAAAAAAAAAAAAAAAAAAAAAAAAAAAAAAAAAAAAAAAAAAAAAAAAAAAAAAAAAAAAAAAAAAAAAAAAAAAAAAAAAAAAAAAAAAAAAAAAAAAAAAAAAAAAAAAAAAAAAAAAAAAAAAAAAAAAAAAAAAAAAAAAAAAAAAAAAAAAAAAAAAAAAAAAAAAAAAAAAAAAAAAAAAAAAAAAAAAAAAAAAAAAAAAAAAAAAAAAAAAAAAAAAAAAAAAAAAAAAAAAAAAAAAAAAAAAAAAAAAAAAAAAAAAAAAAAAAAAAAAAAAAAAAAAAAAAAAAAAAAAAAAAAAAAAAAAAAAAAAAAAAAAAAAAAAAAAAAAAAAAAAAAAAAAAAAAAAAAAAAAAAAAAAAAAAAAAAAAAAAAAAAAAAAAAAAAAAAAAAAAAAAAAAAAAAAAAAAAAAAAAAAAAAAAAAAAAAAAAAAAAAAAAAAAAAAAAAAAAAAAAAAAAAAAAAAAAAAAAAAAAAAAAAAAAAAAAAAAAAAAAAAAAAAAAAAAAAAAAAAAAAAAAAAAAAAAAAAAAAAAAAAAAAAAAAAAAAAAAAAAAAAAAAAAAAAAAAAAAAAAAAAAAAAAAAAAAAAAAAAAAAAAAAAAAAAAAAAAAAAAAAAAAAAAAAAAAAAAAAAAAAAAAAAAAAAAAAAAAAAAAAAAAAAAAAAAAAAAAAAAAAAAAAAAAAAAAAAAAAAAAAAAAAAAAAAAAAAAAAAAAAAAAAAAAAAAAAAAAAAAAAAAAAAAAAAAAAAAAAAAAAAAAAAAAAAAAAAAAAAAAAAAAAAAAAAAAAAAAAAAAAAAAAAAAAAAAAAAAAAAAAAAAAAAAAAAAAAAAAAAAAAAAAAAAAAAAAAAAAAAAAAAAAAAAAAAAAAAAAAAAAAAAAAAAAAAAAAAAAAAAAAAAAAAAAAAAAAAAAAAAAAAAAAAAAAAAAAAAAAAAAAAAAAAAAAAAAAAAAAAAAAAAAAAAAAAAAAAAAAAAAAAAAAAAAAAAAAAAAAAAAAAAAAAAAAAAAAAAAAAAAAAAAAAAAAAAAAAAAAAAAAAAAAAAAAAAAAAAAAAAAAAAAAAAAAAAAAAAAAAAAAAAAAAAAAAAAAAAAAAAAAAAAAAAAAAAAAAAAAAAAAAAAAAAAAAAAAAAAAAAAAAAAAAAAAAAAAAAAAAAAAAAAAAAAAAAAAAAAAAAAAAAAAAAAAAAAAAAAAAAAAAAAAAAAAAAAAAAAAAAAAAAAAAAAAAAAAAAAAAAAAAAAAAAAAAAAAAAAAAAAAAAAAAAAAAAAAAAAAAAAAAAAAAAAAAAAAAAAAAAAAAAAAAAAAAAAAAAAAAAAAAAAAAAAAAAAAAAAAAAAAAAAAAAAAAAAAAAAAAAAAAAAAAAAAAAAAAAAAAAAAAAAAAAAAAAAAAAAAAAAAAAAAAAAAAAAAAAAAAAAAAAAAAAAAAAAAAAAAAAAAAAAAAAAAAAAAAAAAAAAAAAAAAAAAAAAAAAAAAAAAAAAAAAAAAAAAAAAAAAAAAAAAAAAAAAAAAAAAAAAAAAAAAAAAAAAAAAAAAAAAAAAAAAAAAAAAAAAAAAAAAAAAAAAAAAAAAAAAAAAAAAAAAAAAAAAAAAAAAAAAAAAAAAAAAAAAAAAAAAAAAAAAAAAAAAAAAAAAAAAAAAAAAAAAAAAAAAAAAAAAAAAAAAAAAAAAAAAAAAAAAAAAAAAAAAAAAAAAAAAAAAAAAAAAAAAAAAAAAAAAAAAAAAAAAAAAAAAAAAAAAAAAAAAAAAAAAAAAAAAAAAAAAAAAAAAAAAAAAAAAAAAAAAAAAAAAAAAAAAAAAAAAAAAAAAAAAAAAAAAAAAAAAAAAAAAAAAAAAAAAAAAAAAAAAAAAAAAAAAAAAAAAAAAAAAAAAAAAAAAAAAAAAAAAAAAAAAAAAAAAAAAAAAAAAAAAAAAAAAAAAAAAAAAAAAAAAAAAAAAAAAAAAAAAAAAAAAAAAAAAAAAAAAAAAAAAAAAAAAAAAAAAAAAAAAAAAAAAAAAAAAAAAAAAAAAAAAAAAAAAAAAAAAAAAAAAAAAAAAAAAAAAAAAAAAAAAAAAAAAAAAAAAAAAAAAAAAAAAAAAAAAAAAAAAAAAAAAAAAAAAAAAAAAAAAAAAAAAAAAAAAAAAAAAAAAAAAAAAAAAAAAAAAAAAAAAAAAAAAAAAAAAAAAAAAAAAAAAAAAAAAAAAAAAAAAAAAAAAAAAAAAAAAAAAAAAAAAAAAAAAAAAAAAAAAAAAAAAAAAAAAAAAAAAAAAAAAAAAAAAAAAAAAAAAAAAAAAAAAAAAAAAAAAAAAAAAAAAAAAAAAAAAAAAAAAAAAAAAAAAAAAAAAAAAAAAAAAAAAAAAAAAAAAAAAAAAAAAAAAAAAAAAAAAAAAAAAAAAAAAAAAAAAAAAAAAAAAAAAAAAAAAAAAAAAAAAAAAAAAAAAAAAAAAAAAAAAAAAAAAAAAAAAAAAAAAAAAAAAAAAAAAAAAAAAAAAAAAAAAAAAAAAAAAAAAAAAAAAAAAAAAAAAAAAAAAAAAAAAAAAAAAAAAAAAAAAAAAAAAAAAAAAAAAAAAAAAAAAAAAAAAAAAAAAAAAAAAAAAAAAAAAAAAAAAAAAAAAAAAAAAAAAAAAAAAAAAAAAAAAAAAAAAAAAAAAAAAAAAAAAAAAAAAAAAAAAAAAAAAAAAAAAAAAAAAAAAAAAAAAAAAAAAAAAAAAAAAAAAAAAAAAAAAAAAAAAAAAAAAAAAAAAAAAAAAAAAAAAAAAAAAAAAAAAAAAAAAAAAAAAAAAAAAAAAAAAAAAAAAAAAAAAAAAAAAAAAAAAAAAAAAAAAAAAAAAAAAAAAAAAAAAAAAAAAAAAAAAAAAAAAAAAAAAAAAAAAAAAAAAAAAAAAAAAAAAAAAAAAAAAAAAAAAAAAAAAAAAAAAAAAAAAAAAAAAAAAAAAAAAAAAAAAAAAAAAAAAAAAAAAAAAAAAAAAAAAAAAAAAAAAAAAAAAAAAAAAAAAAAAAAAAAAAAAAAAAAAAAAAAAAAAAAAAAAAAAAAAAAAAAAAAAAAAAAAAAAAAAAAAAAAAAAAAAAAAAAAAAAAAAAAAAAAAAAAAAAAAAAAAAAAAAAAAAAAAAAAAAAAAAAAAAAAAAAAAAAAAAAAAAAAAAAAAAAAAAAAAAAAAAAAAAAAAAAAAAAAAAAAAAAAAAAAAAAAAAAAAAAAAAAAAAAAAAAAAAAAAAAAAAAAAAAAAAAAAAAAAAAAAAAAAAAAAAAAAAAAAAAAAAAAAAAAAAAAAAAAAAAAAAAAAAAAAAAAAAAAAAAAAAAAAAAAAAAAAAAAAAAAAAAAAAAAAAAAAAAAAAAAAAAAAAAAAAAAAAAAAAAAAAAAAAAAAAAAAAAAAAAAAAAAAAAAAAAAAAAAAAAAAAAAAAAAAAAAAAAAAAAAAAAAAAAAAAAAAAAAAAAAAAAAAAAAAAAAAAAAAAAAAAAAAAAAAAAAAAAAAAAAAAAAAAAAAAAAAAAAAAAAAAAAAAAAAAAAAAAAAAAAAAAAAAAAAAAAAAAAAAAAAAAAAAAAAAAAAAAAAAAAAAAAAAAAAAAAAAAAAAAAAAAAAAAAAAAAAAAAAAAAAAAAAAAAAAAAAAAAAAAAAAAAAAAAAAAAAAAAAAAAAAAAAAAAAAAAAAAAAAAAAAAAAAAAAAAAAAAAAAAAAAAAAAAAAAAAAAAAAAAAAAAAAAAAAAAAAAAAAAAAAAAAAAAAAAAAAAAAAAAAAAAAAAAAAAAAAAAAAAAAAAAAAAAAAAAAAAAAAAAAAAAAAAAAAAAAAAAAAAAAAAAAAAAAAAAAAAAAAAAAAAAAAAAAAAAAAAAAAAAAAAAAAAAAAAAAAAAAAAAAAAAAAAAAAAAAAAAAAAAAAAAAAAAAAAAAAAAAAAAAAAAAAAAAAAAAAAAAAAAAAAAAAAAAAAAAAAAAAAAAAAAAAAAAAAAAAAAAAAAAAAAAAAAAAAAAAAAAAAAAAAAAAAAAAAAAAAAAAAAAAAAAAAAAAAAAAAAAAAAAAAAAAAAAAAAAAAAAAAAAAAAAAAAAAAAAAAAAAAAAAAAAAAAAAAAAAAAAAAAAAAAAAAAAAAAAAAAAAAAAAAAAAAAAAAAAAAAAAAAAAAAAAAAAAAAAAAAAAAAAAAAAAAAAAAAAAAAAAAAAAAAAAAAAAAAAAAAAAAAAAAAAAAAAAAAAAAAAAAAAAAAAAAAAAAAAAAAAAAAAAAAAAAAAAAAAAAAAAAAAAAAAAAAAAAAAAAAAAAAAAAAAAAAAAAAAAAAAAAAAAAAAAAAAAAAAAAAAAAAAAAAAAAAAAAAAAAAAAAAAAAAAAAAAAAAAAAAAAAAAAAAAAAAAAAAAAAAAAAAAAAAAAAAAAAAAAAAAAAAAAAAAAAAAAAAAAAAAAAAAAAAAAAAAAAAAAAAAAAAAAAAAAAAAAAAAAAAAAAAAAAAAAAAAAAAAAAAAAAAAAAAAAAAAAAAAAAAAAAAAAAAAAAAAAAAAAAAAAAAAAAAAAAAAAAAAAAAAAAAAAAAAAAAAAAAAAAAAAAAAAAAAAAAAAAAAAAAAAAAAAAAAAAAAAAAAAAAAAAAAAAAAAAAAAAAAAAAAAAAAAAAAAAAAAAAAAAAAAAAAAAAAAAAAAAAAAAAAAAAAAAAAAAAAAAAAAAAAAAAAAAAAAAAAAAAAAAAAAAAAAAAAAAAAAAAAAAAAAAAAAAAAAAAAAAAAAAAAAAAAAAAAAAAAAAAAAAAAAAAAAAAAAAAAAAAAAAAAAAAAAAAAAAAAAAAAAAAAAAAAAAAAAAAAAAAAAAAAAAAAAAAAAAAAAAAAAAAAAAAAAAAAAAAAAAAAAAAAAAAAAAAAAAAAAAAAAAAAAAAAAAAAAAAAAAAAAAAAAAAAAAAAAAAAAAAAAAAAAAAAAAAAAAAAAAAAAAAAAAAAAAAAAAAAAAAAAAAAAAAAAAAAAAAAAAAAAAAAAAAAAAAAAAAAAAAAAAAAAAAAAAAAAAAAAAAAAAAAAAAAAAAAAAAAAAAAAAAAAAAAAAAAAAAAAAAAAAAAAAAAAAAAAAAAAAAAAAAAAAAAAAAAAAAAAAAAAAAAAAAAAAAAAAAAAAAAAAAAAAAAAAAAAAAAAAAAAAAAAAAAAAAAAAAAAAAAAAAAAAAAAAAAAAAAAAAAAAAAAAAAAAAAAAAAAAAAAAAAAAAAAAAAAAAAAAAAAAAAAAAAAAAAAAAAAAAAAAAAAAAAAAAAAAAAAAAAAAAAAAAAAAAAAAAAAAAAAAAAAAAAAAAAAAAAAAAAAAAAAAAAAAAAAAAAAAAAAAAAAAAAAAAAAAAAAAAAAAAAAAAAAAAAAAAAAAAAAAAAAAAAAAAAAAAAAAAAAAAAAAAAAAAAAAAAAAAAAAAAAAAAAAAAAAAAAAAAAAAAAAAAAAAAAAAAAAAAAAAAAAAAAAAAAAAAAAAAAAAAAAAAAAAAAAAAAAAAAAAAAAAAAAAAAAAAAAAAAAAAAAAAAAAAAAAAAAAAAAAAAAAAAAAAAAAAAAAAAAAAAAAAAAAAAAAAAAAAAAAAAAAAAAAAAAAAAAAAAAAAAAAAAAAAAAAAAAAAAAAAAAAAAAAAAAAAAAAAAAAAAAAAAAAAAAAAAAAAAAAAAAAAAAAAAAAAAAAAAAAAAAAAAAAAAAAAAAAAAAAAAAAAAAAAAAAAAAAAAAAAAAAAAAAAAAAAAAAAAAAAAAAAAAAAAAAAAAAAAAAAAAAAAAAAAAAAAAAAAAAAAAAAAAAAAAAAAAAAAAAAAAAAAAAAAAAAAAAAAAAAAAAAAAAAAAAAAAAAAAAAAAAAAAAAAAAAAAAAAAAAAAAAAAAAAAAAAAAAAAAAAAAAAAAAAAAAAAAAAAAAAAAAAAAAAAAAAAAAAAAAAAAAAAAAAAAAAAAAAAAAAAAAAAAAAAAAAAAAAAAAAAAAAAAAAAAAAAAAAAAAAAAAAAAA\" type=\"audio/wav\" />\n",
              "                    Your browser does not support the audio element.\n",
              "                </audio>\n",
              "              "
            ]
          },
          "metadata": {}
        }
      ]
    },
    {
      "cell_type": "markdown",
      "source": [
        "Observamos un ejemplo cualquiera y vemos la prediccion de la red neuronal."
      ],
      "metadata": {
        "id": "D8XW1wcvUM15"
      }
    },
    {
      "cell_type": "markdown",
      "source": [
        "##Red neuronal recurrente"
      ],
      "metadata": {
        "id": "dia1qAbpFcxj"
      }
    },
    {
      "cell_type": "markdown",
      "source": [
        "Observamos las dimensiones de los espectogramas."
      ],
      "metadata": {
        "id": "5u2vn3l0XtgE"
      }
    },
    {
      "cell_type": "code",
      "source": [
        "print(next(iter(train_spectrogram_ds))[0].shape[1:])"
      ],
      "metadata": {
        "colab": {
          "base_uri": "https://localhost:8080/"
        },
        "id": "gtxR6D7reEgn",
        "outputId": "eaaea006-a4cd-4660-993f-6fdb23510662"
      },
      "execution_count": 35,
      "outputs": [
        {
          "output_type": "stream",
          "name": "stdout",
          "text": [
            "(61, 129, 1)\n"
          ]
        }
      ]
    },
    {
      "cell_type": "markdown",
      "source": [
        "Obtuvimos que individualmente tienen 61 puntos de tiempo, 129 frecuencias y un canal extra que debemos aplanar."
      ],
      "metadata": {
        "id": "9J3Vs35oXzWR"
      }
    },
    {
      "cell_type": "markdown",
      "source": [
        "Definimos el modelo de red neuronal recurrente con una capa LSTM bidireccional para procesar secuencias de entrada."
      ],
      "metadata": {
        "id": "BXU-l6a2YHda"
      }
    },
    {
      "cell_type": "code",
      "source": [
        "model_rnn = tf.keras.Sequential([\n",
        "    tf.keras.layers.Input(shape=(61, 129, 1)),\n",
        "    tf.keras.layers.Reshape((61, 129)),\n",
        "\n",
        "    tf.keras.layers.Bidirectional(tf.keras.layers.LSTM(64)),\n",
        "\n",
        "    tf.keras.layers.Dense(64, activation='relu'),\n",
        "    tf.keras.layers.Dense(10, activation='softmax')\n",
        "])"
      ],
      "metadata": {
        "id": "oeF6klSgYOQ7"
      },
      "execution_count": 36,
      "outputs": []
    },
    {
      "cell_type": "markdown",
      "source": [
        "Mostramos un resumen detallado del modelo"
      ],
      "metadata": {
        "id": "kXQx9TUrYRdB"
      }
    },
    {
      "cell_type": "code",
      "source": [
        "model_rnn.summary()"
      ],
      "metadata": {
        "colab": {
          "base_uri": "https://localhost:8080/"
        },
        "id": "21XG7pB5YS4x",
        "outputId": "4001a70c-e9d4-49da-a53a-eb79932a8eca"
      },
      "execution_count": 37,
      "outputs": [
        {
          "output_type": "stream",
          "name": "stdout",
          "text": [
            "Model: \"sequential_1\"\n",
            "_________________________________________________________________\n",
            " Layer (type)                Output Shape              Param #   \n",
            "=================================================================\n",
            " reshape (Reshape)           (None, 61, 129)           0         \n",
            "                                                                 \n",
            " bidirectional (Bidirection  (None, 128)               99328     \n",
            " al)                                                             \n",
            "                                                                 \n",
            " dense_2 (Dense)             (None, 64)                8256      \n",
            "                                                                 \n",
            " dense_3 (Dense)             (None, 10)                650       \n",
            "                                                                 \n",
            "=================================================================\n",
            "Total params: 108234 (422.79 KB)\n",
            "Trainable params: 108234 (422.79 KB)\n",
            "Non-trainable params: 0 (0.00 Byte)\n",
            "_________________________________________________________________\n"
          ]
        }
      ]
    },
    {
      "cell_type": "markdown",
      "source": [
        "Compilamos el modelo especificando el optimizador Adam para el ajuste de pesos,\n",
        "la función de pérdida de entropía cruzada escasa para problemas de clasificación multiclase y la métrica de precisión para monitorizar el entrenamiento."
      ],
      "metadata": {
        "id": "r8xE95cxYp2Z"
      }
    },
    {
      "cell_type": "code",
      "source": [
        "model_rnn.compile(\n",
        "    optimizer=tf.keras.optimizers.Adam(),\n",
        "    loss='sparse_categorical_crossentropy',\n",
        "    metrics=['accuracy']\n",
        ")"
      ],
      "metadata": {
        "id": "lxc5bhvNYhsJ"
      },
      "execution_count": 38,
      "outputs": []
    },
    {
      "cell_type": "markdown",
      "source": [
        "Definimos un callback de EarlyStopping que monitorea la precisión en el conjunto de validación.\n",
        "Detendrá el entrenamiento después de 10 épocas si no hay mejora en la precisión, restaurando los mejores pesos del modelo."
      ],
      "metadata": {
        "id": "fYrxpC8zYxYz"
      }
    },
    {
      "cell_type": "code",
      "source": [
        "early_stopping_callback = tf.keras.callbacks.EarlyStopping(\n",
        "    monitor='val_accuracy',\n",
        "    patience=10,\n",
        "    verbose=1,\n",
        "    restore_best_weights=True\n",
        ")"
      ],
      "metadata": {
        "id": "RMPTAWdgdgOg"
      },
      "execution_count": 39,
      "outputs": []
    },
    {
      "cell_type": "markdown",
      "source": [
        "Entrenamos el modelo con el early stopping definido anteriormente"
      ],
      "metadata": {
        "id": "tI2VGePfY844"
      }
    },
    {
      "cell_type": "code",
      "source": [
        "history_RNN = model_rnn.fit(\n",
        "    train_spectrogram_ds,\n",
        "    validation_data=val_spectrogram_ds,\n",
        "    epochs=EPOCHS,\n",
        "    callbacks=[early_stopping_callback]\n",
        ")"
      ],
      "metadata": {
        "colab": {
          "base_uri": "https://localhost:8080/"
        },
        "id": "CjE1mr9QhJtP",
        "outputId": "524915a4-a001-4940-bd8e-f2ea37fd1a31"
      },
      "execution_count": 40,
      "outputs": [
        {
          "output_type": "stream",
          "name": "stdout",
          "text": [
            "Epoch 1/100\n",
            "63/63 [==============================] - 6s 83ms/step - loss: 1.7042 - accuracy: 0.4940 - val_loss: 0.9840 - val_accuracy: 0.7440\n",
            "Epoch 2/100\n",
            "63/63 [==============================] - 5s 74ms/step - loss: 0.6448 - accuracy: 0.7970 - val_loss: 0.5087 - val_accuracy: 0.8340\n",
            "Epoch 3/100\n",
            "63/63 [==============================] - 5s 86ms/step - loss: 0.3303 - accuracy: 0.8960 - val_loss: 0.3620 - val_accuracy: 0.8760\n",
            "Epoch 4/100\n",
            "63/63 [==============================] - 4s 71ms/step - loss: 0.2444 - accuracy: 0.9275 - val_loss: 0.2422 - val_accuracy: 0.9300\n",
            "Epoch 5/100\n",
            "63/63 [==============================] - 5s 78ms/step - loss: 0.1795 - accuracy: 0.9490 - val_loss: 0.1702 - val_accuracy: 0.9440\n",
            "Epoch 6/100\n",
            "63/63 [==============================] - 5s 82ms/step - loss: 0.1162 - accuracy: 0.9700 - val_loss: 0.1688 - val_accuracy: 0.9420\n",
            "Epoch 7/100\n",
            "63/63 [==============================] - 5s 74ms/step - loss: 0.1656 - accuracy: 0.9485 - val_loss: 0.1486 - val_accuracy: 0.9600\n",
            "Epoch 8/100\n",
            "63/63 [==============================] - 5s 87ms/step - loss: 0.0814 - accuracy: 0.9730 - val_loss: 0.1699 - val_accuracy: 0.9460\n",
            "Epoch 9/100\n",
            "63/63 [==============================] - 5s 73ms/step - loss: 0.0638 - accuracy: 0.9815 - val_loss: 0.1146 - val_accuracy: 0.9600\n",
            "Epoch 10/100\n",
            "63/63 [==============================] - 5s 73ms/step - loss: 0.0442 - accuracy: 0.9875 - val_loss: 0.1224 - val_accuracy: 0.9720\n",
            "Epoch 11/100\n",
            "63/63 [==============================] - 5s 85ms/step - loss: 0.0467 - accuracy: 0.9870 - val_loss: 0.1004 - val_accuracy: 0.9740\n",
            "Epoch 12/100\n",
            "63/63 [==============================] - 5s 87ms/step - loss: 0.0533 - accuracy: 0.9875 - val_loss: 0.1720 - val_accuracy: 0.9480\n",
            "Epoch 13/100\n",
            "63/63 [==============================] - 5s 72ms/step - loss: 0.0627 - accuracy: 0.9815 - val_loss: 0.0995 - val_accuracy: 0.9660\n",
            "Epoch 14/100\n",
            "63/63 [==============================] - 5s 83ms/step - loss: 0.0514 - accuracy: 0.9875 - val_loss: 0.1697 - val_accuracy: 0.9560\n",
            "Epoch 15/100\n",
            "63/63 [==============================] - 5s 72ms/step - loss: 0.0287 - accuracy: 0.9915 - val_loss: 0.0839 - val_accuracy: 0.9720\n",
            "Epoch 16/100\n",
            "63/63 [==============================] - 6s 88ms/step - loss: 0.0152 - accuracy: 0.9980 - val_loss: 0.1043 - val_accuracy: 0.9700\n",
            "Epoch 17/100\n",
            "63/63 [==============================] - 5s 72ms/step - loss: 0.0108 - accuracy: 0.9975 - val_loss: 0.0761 - val_accuracy: 0.9780\n",
            "Epoch 18/100\n",
            "63/63 [==============================] - 5s 78ms/step - loss: 0.0120 - accuracy: 0.9965 - val_loss: 0.0654 - val_accuracy: 0.9800\n",
            "Epoch 19/100\n",
            "63/63 [==============================] - 5s 81ms/step - loss: 0.0081 - accuracy: 0.9985 - val_loss: 0.1115 - val_accuracy: 0.9760\n",
            "Epoch 20/100\n",
            "63/63 [==============================] - 5s 72ms/step - loss: 0.0075 - accuracy: 0.9990 - val_loss: 0.0973 - val_accuracy: 0.9740\n",
            "Epoch 21/100\n",
            "63/63 [==============================] - 5s 86ms/step - loss: 0.0239 - accuracy: 0.9935 - val_loss: 0.1663 - val_accuracy: 0.9640\n",
            "Epoch 22/100\n",
            "63/63 [==============================] - 5s 77ms/step - loss: 0.0900 - accuracy: 0.9740 - val_loss: 0.2072 - val_accuracy: 0.9380\n",
            "Epoch 23/100\n",
            "63/63 [==============================] - 5s 82ms/step - loss: 0.0212 - accuracy: 0.9960 - val_loss: 0.0696 - val_accuracy: 0.9820\n",
            "Epoch 24/100\n",
            "63/63 [==============================] - 5s 85ms/step - loss: 0.0123 - accuracy: 0.9970 - val_loss: 0.0954 - val_accuracy: 0.9700\n",
            "Epoch 25/100\n",
            "63/63 [==============================] - 5s 74ms/step - loss: 0.0069 - accuracy: 0.9985 - val_loss: 0.1190 - val_accuracy: 0.9740\n",
            "Epoch 26/100\n",
            "63/63 [==============================] - 5s 81ms/step - loss: 0.0181 - accuracy: 0.9955 - val_loss: 0.0658 - val_accuracy: 0.9840\n",
            "Epoch 27/100\n",
            "63/63 [==============================] - 5s 79ms/step - loss: 0.0131 - accuracy: 0.9960 - val_loss: 0.0733 - val_accuracy: 0.9760\n",
            "Epoch 28/100\n",
            "63/63 [==============================] - 5s 73ms/step - loss: 0.0079 - accuracy: 0.9980 - val_loss: 0.0901 - val_accuracy: 0.9720\n",
            "Epoch 29/100\n",
            "63/63 [==============================] - 5s 86ms/step - loss: 0.0048 - accuracy: 0.9990 - val_loss: 0.0602 - val_accuracy: 0.9820\n",
            "Epoch 30/100\n",
            "63/63 [==============================] - 5s 74ms/step - loss: 0.0068 - accuracy: 0.9980 - val_loss: 0.0656 - val_accuracy: 0.9820\n",
            "Epoch 31/100\n",
            "63/63 [==============================] - 5s 80ms/step - loss: 0.0032 - accuracy: 0.9990 - val_loss: 0.0826 - val_accuracy: 0.9780\n",
            "Epoch 32/100\n",
            "63/63 [==============================] - 5s 81ms/step - loss: 0.0217 - accuracy: 0.9950 - val_loss: 0.1137 - val_accuracy: 0.9660\n",
            "Epoch 33/100\n",
            "63/63 [==============================] - 5s 86ms/step - loss: 0.0599 - accuracy: 0.9830 - val_loss: 0.2075 - val_accuracy: 0.9540\n",
            "Epoch 34/100\n",
            "63/63 [==============================] - 5s 74ms/step - loss: 0.0765 - accuracy: 0.9745 - val_loss: 0.1743 - val_accuracy: 0.9540\n",
            "Epoch 35/100\n",
            "63/63 [==============================] - 5s 83ms/step - loss: 0.0471 - accuracy: 0.9880 - val_loss: 0.1533 - val_accuracy: 0.9620\n",
            "Epoch 36/100\n",
            "63/63 [==============================] - ETA: 0s - loss: 0.0149 - accuracy: 0.9970Restoring model weights from the end of the best epoch: 26.\n",
            "63/63 [==============================] - 5s 78ms/step - loss: 0.0149 - accuracy: 0.9970 - val_loss: 0.1017 - val_accuracy: 0.9720\n",
            "Epoch 36: early stopping\n"
          ]
        }
      ]
    },
    {
      "cell_type": "markdown",
      "source": [
        "Visualizamos las curvas de pérdida y precisión durante el entrenamiento del modelo RNN, comparando las métricas de entrenamiento con las de validación para evaluar su rendimiento."
      ],
      "metadata": {
        "id": "HjHr0q4RaxV6"
      }
    },
    {
      "cell_type": "code",
      "source": [
        "metrics = history_RNN.history\n",
        "plt.figure(figsize=(16,6))\n",
        "plt.subplot(1,2,1)\n",
        "plt.plot(history_RNN.epoch, metrics['loss'], metrics['val_loss'])\n",
        "plt.legend(['loss', 'val_loss'])\n",
        "plt.xlabel('Epoch')\n",
        "plt.ylabel('Loss [CrossEntropy]')\n",
        "\n",
        "plt.subplot(1,2,2)\n",
        "plt.plot(history_RNN.epoch, 100*np.array(metrics['accuracy']), 100*np.array(metrics['val_accuracy']))\n",
        "plt.legend(['accuracy', 'val_accuracy'])\n",
        "plt.xlabel('Epoch')\n",
        "plt.ylabel('Accuracy [%]')"
      ],
      "metadata": {
        "colab": {
          "base_uri": "https://localhost:8080/",
          "height": 470
        },
        "id": "UYsAQcUnQAQg",
        "outputId": "f45e65f4-7ab0-49bd-a85e-962e342851c9"
      },
      "execution_count": 41,
      "outputs": [
        {
          "output_type": "execute_result",
          "data": {
            "text/plain": [
              "Text(0, 0.5, 'Accuracy [%]')"
            ]
          },
          "metadata": {},
          "execution_count": 41
        },
        {
          "output_type": "display_data",
          "data": {
            "text/plain": [
              "<Figure size 1600x600 with 2 Axes>"
            ],
            "image/png": "[encoded data removed]"
          },
          "metadata": {}
        }
      ]
    },
    {
      "cell_type": "markdown",
      "source": [
        "Realizamos predicciones utilizando el modelo RNN."
      ],
      "metadata": {
        "id": "iez2b-xYbxLC"
      }
    },
    {
      "cell_type": "code",
      "source": [
        "y_pred_rrn = model_rnn.predict(val_spectrogram_ds)\n",
        "y_pred_rrn = tf.argmax(y_pred_rrn, axis=1)"
      ],
      "metadata": {
        "id": "xS6YwwVRQSSw",
        "colab": {
          "base_uri": "https://localhost:8080/"
        },
        "outputId": "2ac650f3-df28-40d5-e91d-24460f2b9fd0"
      },
      "execution_count": 42,
      "outputs": [
        {
          "output_type": "stream",
          "name": "stdout",
          "text": [
            "16/16 [==============================] - 0s 25ms/step\n"
          ]
        }
      ]
    },
    {
      "cell_type": "markdown",
      "source": [
        "Graficamos la matriz de confusión para evaluar el rendimiento del modelo RNN."
      ],
      "metadata": {
        "id": "oGFjitazcKUq"
      }
    },
    {
      "cell_type": "code",
      "source": [
        "plot_confusion_matrix(y_true, y_pred_rrn)"
      ],
      "metadata": {
        "colab": {
          "base_uri": "https://localhost:8080/",
          "height": 696
        },
        "id": "ClEFDctXQSLh",
        "outputId": "4082d323-880b-40ed-f41c-1a9a2cd9362c"
      },
      "execution_count": 58,
      "outputs": [
        {
          "output_type": "display_data",
          "data": {
            "text/plain": [
              "<Figure size 1000x800 with 2 Axes>"
            ],
            "image/png": "[encoded data removed]"
          },
          "metadata": {}
        }
      ]
    },
    {
      "cell_type": "markdown",
      "source": [
        "Observamos que el modelo se comporta muy bien con estos datos, con una leve confusion con los audios de 1 que el modelo de RNN los confunde con 9."
      ],
      "metadata": {
        "id": "nVzMjrHucSoi"
      }
    },
    {
      "cell_type": "code",
      "source": [
        "metricas(y_true, y_pred_rrn)"
      ],
      "metadata": {
        "colab": {
          "base_uri": "https://localhost:8080/"
        },
        "id": "Qaz10v8yPkFp",
        "outputId": "f15aab39-31c7-433f-fbf5-ad96edc407de"
      },
      "execution_count": 59,
      "outputs": [
        {
          "output_type": "stream",
          "name": "stdout",
          "text": [
            "Accuracy: 0.9840\n",
            "Precision: 0.9844\n",
            "Recall: 0.9840\n",
            "F1 Score: 0.9840\n"
          ]
        }
      ]
    },
    {
      "cell_type": "markdown",
      "source": [
        "Observamos un ejemplo cualquiera y su prediccion."
      ],
      "metadata": {
        "id": "x2pGlw3_c6Ki"
      }
    },
    {
      "cell_type": "code",
      "source": [
        "x, label = seleccionar_archivo_aleatorio(carpeta_base)\n",
        "x = tf.io.read_file(str(x))\n",
        "x, sample_rate = tf.audio.decode_wav(x, desired_channels=1, desired_samples=8000)\n",
        "x = tf.squeeze(x, axis=-1)\n",
        "waveform = x\n",
        "x = get_spectrogram(x)\n",
        "x = x[tf.newaxis,...]\n",
        "\n",
        "prediction = model_combolucion(x)\n",
        "x_labels = label_names\n",
        "plt.bar(x_labels, tf.nn.softmax(prediction[0]))\n",
        "plt.title(label)\n",
        "plt.show()\n",
        "\n",
        "display.display(display.Audio(waveform, rate=8000))"
      ],
      "metadata": {
        "colab": {
          "base_uri": "https://localhost:8080/",
          "height": 511
        },
        "id": "YCiHlBsuQY7K",
        "outputId": "314ef721-c624-42c7-fc15-498fddd8c746"
      },
      "execution_count": 48,
      "outputs": [
        {
          "output_type": "display_data",
          "data": {
            "text/plain": [
              "<Figure size 640x480 with 1 Axes>"
            ],
            "image/png": "[encoded data removed]"
          },
          "metadata": {}
        },
        {
          "output_type": "display_data",
          "data": {
            "text/plain": [
              "<IPython.lib.display.Audio object>"
            ],
            "text/html": [
              "\n",
              "                <audio  controls=\"controls\" >\n",
              "                    <source src=\"data:audio/wav;base64,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\" type=\"audio/wav\" />\n",
              "                    Your browser does not support the audio element.\n",
              "                </audio>\n",
              "              "
            ]
          },
          "metadata": {}
        }
      ]
    }
  ]
}