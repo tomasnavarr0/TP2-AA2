{
  "nbformat": 4,
  "nbformat_minor": 0,
  "metadata": {
    "colab": {
      "provenance": [],
      "gpuType": "T4",
      "collapsed_sections": [
        "Wvbpk8hVQ-TQ",
        "FxQL5Y0rR4pu"
      ]
    },
    "kernelspec": {
      "name": "python3",
      "display_name": "Python 3"
    },
    "language_info": {
      "name": "python"
    },
    "accelerator": "GPU",
    "widgets": {
      "application/vnd.jupyter.widget-state+json": {
        "3ab040db1db84f848746fbe0eb0484ca": {
          "model_module": "@jupyter-widgets/controls",
          "model_name": "HBoxModel",
          "model_module_version": "1.5.0",
          "state": {
            "_dom_classes": [],
            "_model_module": "@jupyter-widgets/controls",
            "_model_module_version": "1.5.0",
            "_model_name": "HBoxModel",
            "_view_count": null,
            "_view_module": "@jupyter-widgets/controls",
            "_view_module_version": "1.5.0",
            "_view_name": "HBoxView",
            "box_style": "",
            "children": [
              "IPY_MODEL_8d7836119e53408eae6a4d2aac5f6991",
              "IPY_MODEL_6712c2f5f8884f50bb09dd8524c8e639",
              "IPY_MODEL_66b5e1eab0ea4f93b05ef554f040de3b"
            ],
            "layout": "IPY_MODEL_c9b6f168a1d44c7f8bf4fee94c390e3d"
          }
        },
        "8d7836119e53408eae6a4d2aac5f6991": {
          "model_module": "@jupyter-widgets/controls",
          "model_name": "HTMLModel",
          "model_module_version": "1.5.0",
          "state": {
            "_dom_classes": [],
            "_model_module": "@jupyter-widgets/controls",
            "_model_module_version": "1.5.0",
            "_model_name": "HTMLModel",
            "_view_count": null,
            "_view_module": "@jupyter-widgets/controls",
            "_view_module_version": "1.5.0",
            "_view_name": "HTMLView",
            "description": "",
            "description_tooltip": null,
            "layout": "IPY_MODEL_a845b0eeaac5424783bfb6e1bd670edb",
            "placeholder": "​",
            "style": "IPY_MODEL_38a64fef74a740359430b61d7432484c",
            "value": "Dl Completed...: 100%"
          }
        },
        "6712c2f5f8884f50bb09dd8524c8e639": {
          "model_module": "@jupyter-widgets/controls",
          "model_name": "FloatProgressModel",
          "model_module_version": "1.5.0",
          "state": {
            "_dom_classes": [],
            "_model_module": "@jupyter-widgets/controls",
            "_model_module_version": "1.5.0",
            "_model_name": "FloatProgressModel",
            "_view_count": null,
            "_view_module": "@jupyter-widgets/controls",
            "_view_module_version": "1.5.0",
            "_view_name": "ProgressView",
            "bar_style": "success",
            "description": "",
            "description_tooltip": null,
            "layout": "IPY_MODEL_0452e4cd20aa4d6ebd405ee6470e34b9",
            "max": 1,
            "min": 0,
            "orientation": "horizontal",
            "style": "IPY_MODEL_64acd9064e4944e8ac9de2bc66689954",
            "value": 1
          }
        },
        "66b5e1eab0ea4f93b05ef554f040de3b": {
          "model_module": "@jupyter-widgets/controls",
          "model_name": "HTMLModel",
          "model_module_version": "1.5.0",
          "state": {
            "_dom_classes": [],
            "_model_module": "@jupyter-widgets/controls",
            "_model_module_version": "1.5.0",
            "_model_name": "HTMLModel",
            "_view_count": null,
            "_view_module": "@jupyter-widgets/controls",
            "_view_module_version": "1.5.0",
            "_view_name": "HTMLView",
            "description": "",
            "description_tooltip": null,
            "layout": "IPY_MODEL_e60ff7793d7d4b9f9ae705aa8db077d8",
            "placeholder": "​",
            "style": "IPY_MODEL_267b37ee62cb4000a1d0d41883b584a4",
            "value": " 1/1 [00:15&lt;00:00,  1.30s/ url]"
          }
        },
        "c9b6f168a1d44c7f8bf4fee94c390e3d": {
          "model_module": "@jupyter-widgets/base",
          "model_name": "LayoutModel",
          "model_module_version": "1.2.0",
          "state": {
            "_model_module": "@jupyter-widgets/base",
            "_model_module_version": "1.2.0",
            "_model_name": "LayoutModel",
            "_view_count": null,
            "_view_module": "@jupyter-widgets/base",
            "_view_module_version": "1.2.0",
            "_view_name": "LayoutView",
            "align_content": null,
            "align_items": null,
            "align_self": null,
            "border": null,
            "bottom": null,
            "display": null,
            "flex": null,
            "flex_flow": null,
            "grid_area": null,
            "grid_auto_columns": null,
            "grid_auto_flow": null,
            "grid_auto_rows": null,
            "grid_column": null,
            "grid_gap": null,
            "grid_row": null,
            "grid_template_areas": null,
            "grid_template_columns": null,
            "grid_template_rows": null,
            "height": null,
            "justify_content": null,
            "justify_items": null,
            "left": null,
            "margin": null,
            "max_height": null,
            "max_width": null,
            "min_height": null,
            "min_width": null,
            "object_fit": null,
            "object_position": null,
            "order": null,
            "overflow": null,
            "overflow_x": null,
            "overflow_y": null,
            "padding": null,
            "right": null,
            "top": null,
            "visibility": null,
            "width": null
          }
        },
        "a845b0eeaac5424783bfb6e1bd670edb": {
          "model_module": "@jupyter-widgets/base",
          "model_name": "LayoutModel",
          "model_module_version": "1.2.0",
          "state": {
            "_model_module": "@jupyter-widgets/base",
            "_model_module_version": "1.2.0",
            "_model_name": "LayoutModel",
            "_view_count": null,
            "_view_module": "@jupyter-widgets/base",
            "_view_module_version": "1.2.0",
            "_view_name": "LayoutView",
            "align_content": null,
            "align_items": null,
            "align_self": null,
            "border": null,
            "bottom": null,
            "display": null,
            "flex": null,
            "flex_flow": null,
            "grid_area": null,
            "grid_auto_columns": null,
            "grid_auto_flow": null,
            "grid_auto_rows": null,
            "grid_column": null,
            "grid_gap": null,
            "grid_row": null,
            "grid_template_areas": null,
            "grid_template_columns": null,
            "grid_template_rows": null,
            "height": null,
            "justify_content": null,
            "justify_items": null,
            "left": null,
            "margin": null,
            "max_height": null,
            "max_width": null,
            "min_height": null,
            "min_width": null,
            "object_fit": null,
            "object_position": null,
            "order": null,
            "overflow": null,
            "overflow_x": null,
            "overflow_y": null,
            "padding": null,
            "right": null,
            "top": null,
            "visibility": null,
            "width": null
          }
        },
        "38a64fef74a740359430b61d7432484c": {
          "model_module": "@jupyter-widgets/controls",
          "model_name": "DescriptionStyleModel",
          "model_module_version": "1.5.0",
          "state": {
            "_model_module": "@jupyter-widgets/controls",
            "_model_module_version": "1.5.0",
            "_model_name": "DescriptionStyleModel",
            "_view_count": null,
            "_view_module": "@jupyter-widgets/base",
            "_view_module_version": "1.2.0",
            "_view_name": "StyleView",
            "description_width": ""
          }
        },
        "0452e4cd20aa4d6ebd405ee6470e34b9": {
          "model_module": "@jupyter-widgets/base",
          "model_name": "LayoutModel",
          "model_module_version": "1.2.0",
          "state": {
            "_model_module": "@jupyter-widgets/base",
            "_model_module_version": "1.2.0",
            "_model_name": "LayoutModel",
            "_view_count": null,
            "_view_module": "@jupyter-widgets/base",
            "_view_module_version": "1.2.0",
            "_view_name": "LayoutView",
            "align_content": null,
            "align_items": null,
            "align_self": null,
            "border": null,
            "bottom": null,
            "display": null,
            "flex": null,
            "flex_flow": null,
            "grid_area": null,
            "grid_auto_columns": null,
            "grid_auto_flow": null,
            "grid_auto_rows": null,
            "grid_column": null,
            "grid_gap": null,
            "grid_row": null,
            "grid_template_areas": null,
            "grid_template_columns": null,
            "grid_template_rows": null,
            "height": null,
            "justify_content": null,
            "justify_items": null,
            "left": null,
            "margin": null,
            "max_height": null,
            "max_width": null,
            "min_height": null,
            "min_width": null,
            "object_fit": null,
            "object_position": null,
            "order": null,
            "overflow": null,
            "overflow_x": null,
            "overflow_y": null,
            "padding": null,
            "right": null,
            "top": null,
            "visibility": null,
            "width": "20px"
          }
        },
        "64acd9064e4944e8ac9de2bc66689954": {
          "model_module": "@jupyter-widgets/controls",
          "model_name": "ProgressStyleModel",
          "model_module_version": "1.5.0",
          "state": {
            "_model_module": "@jupyter-widgets/controls",
            "_model_module_version": "1.5.0",
            "_model_name": "ProgressStyleModel",
            "_view_count": null,
            "_view_module": "@jupyter-widgets/base",
            "_view_module_version": "1.2.0",
            "_view_name": "StyleView",
            "bar_color": null,
            "description_width": ""
          }
        },
        "e60ff7793d7d4b9f9ae705aa8db077d8": {
          "model_module": "@jupyter-widgets/base",
          "model_name": "LayoutModel",
          "model_module_version": "1.2.0",
          "state": {
            "_model_module": "@jupyter-widgets/base",
            "_model_module_version": "1.2.0",
            "_model_name": "LayoutModel",
            "_view_count": null,
            "_view_module": "@jupyter-widgets/base",
            "_view_module_version": "1.2.0",
            "_view_name": "LayoutView",
            "align_content": null,
            "align_items": null,
            "align_self": null,
            "border": null,
            "bottom": null,
            "display": null,
            "flex": null,
            "flex_flow": null,
            "grid_area": null,
            "grid_auto_columns": null,
            "grid_auto_flow": null,
            "grid_auto_rows": null,
            "grid_column": null,
            "grid_gap": null,
            "grid_row": null,
            "grid_template_areas": null,
            "grid_template_columns": null,
            "grid_template_rows": null,
            "height": null,
            "justify_content": null,
            "justify_items": null,
            "left": null,
            "margin": null,
            "max_height": null,
            "max_width": null,
            "min_height": null,
            "min_width": null,
            "object_fit": null,
            "object_position": null,
            "order": null,
            "overflow": null,
            "overflow_x": null,
            "overflow_y": null,
            "padding": null,
            "right": null,
            "top": null,
            "visibility": null,
            "width": null
          }
        },
        "267b37ee62cb4000a1d0d41883b584a4": {
          "model_module": "@jupyter-widgets/controls",
          "model_name": "DescriptionStyleModel",
          "model_module_version": "1.5.0",
          "state": {
            "_model_module": "@jupyter-widgets/controls",
            "_model_module_version": "1.5.0",
            "_model_name": "DescriptionStyleModel",
            "_view_count": null,
            "_view_module": "@jupyter-widgets/base",
            "_view_module_version": "1.2.0",
            "_view_name": "StyleView",
            "description_width": ""
          }
        },
        "c015f32a63d1423e9419e5a89c3c44a9": {
          "model_module": "@jupyter-widgets/controls",
          "model_name": "HBoxModel",
          "model_module_version": "1.5.0",
          "state": {
            "_dom_classes": [],
            "_model_module": "@jupyter-widgets/controls",
            "_model_module_version": "1.5.0",
            "_model_name": "HBoxModel",
            "_view_count": null,
            "_view_module": "@jupyter-widgets/controls",
            "_view_module_version": "1.5.0",
            "_view_name": "HBoxView",
            "box_style": "",
            "children": [
              "IPY_MODEL_490249b05ae94d978238a08ef4af21fa",
              "IPY_MODEL_e908ca3aff54420bb3076c4b0dec2ef3",
              "IPY_MODEL_c8771c7ebd3d4ff39551c7cf1cc5860f"
            ],
            "layout": "IPY_MODEL_f991ce1e55e246d1b66eefaa6eb36371"
          }
        },
        "490249b05ae94d978238a08ef4af21fa": {
          "model_module": "@jupyter-widgets/controls",
          "model_name": "HTMLModel",
          "model_module_version": "1.5.0",
          "state": {
            "_dom_classes": [],
            "_model_module": "@jupyter-widgets/controls",
            "_model_module_version": "1.5.0",
            "_model_name": "HTMLModel",
            "_view_count": null,
            "_view_module": "@jupyter-widgets/controls",
            "_view_module_version": "1.5.0",
            "_view_name": "HTMLView",
            "description": "",
            "description_tooltip": null,
            "layout": "IPY_MODEL_553b39df9308432eadf3240cb955a1e8",
            "placeholder": "​",
            "style": "IPY_MODEL_501bf443641b4dab9299f7da0eff35e9",
            "value": "Dl Size...: "
          }
        },
        "e908ca3aff54420bb3076c4b0dec2ef3": {
          "model_module": "@jupyter-widgets/controls",
          "model_name": "FloatProgressModel",
          "model_module_version": "1.5.0",
          "state": {
            "_dom_classes": [],
            "_model_module": "@jupyter-widgets/controls",
            "_model_module_version": "1.5.0",
            "_model_name": "FloatProgressModel",
            "_view_count": null,
            "_view_module": "@jupyter-widgets/controls",
            "_view_module_version": "1.5.0",
            "_view_name": "ProgressView",
            "bar_style": "success",
            "description": "",
            "description_tooltip": null,
            "layout": "IPY_MODEL_0207572895c644baa51fde9c1481e01d",
            "max": 1,
            "min": 0,
            "orientation": "horizontal",
            "style": "IPY_MODEL_52b9e2ee56a34ea1ba5222c6e88808fc",
            "value": 1
          }
        },
        "c8771c7ebd3d4ff39551c7cf1cc5860f": {
          "model_module": "@jupyter-widgets/controls",
          "model_name": "HTMLModel",
          "model_module_version": "1.5.0",
          "state": {
            "_dom_classes": [],
            "_model_module": "@jupyter-widgets/controls",
            "_model_module_version": "1.5.0",
            "_model_name": "HTMLModel",
            "_view_count": null,
            "_view_module": "@jupyter-widgets/controls",
            "_view_module_version": "1.5.0",
            "_view_name": "HTMLView",
            "description": "",
            "description_tooltip": null,
            "layout": "IPY_MODEL_e2912fcfbac94959900f7c65604f7d79",
            "placeholder": "​",
            "style": "IPY_MODEL_e3f44da6419841a79b042c758332f7b9",
            "value": " 11/0 [00:15&lt;00:00,  7.84 MiB/s]"
          }
        },
        "f991ce1e55e246d1b66eefaa6eb36371": {
          "model_module": "@jupyter-widgets/base",
          "model_name": "LayoutModel",
          "model_module_version": "1.2.0",
          "state": {
            "_model_module": "@jupyter-widgets/base",
            "_model_module_version": "1.2.0",
            "_model_name": "LayoutModel",
            "_view_count": null,
            "_view_module": "@jupyter-widgets/base",
            "_view_module_version": "1.2.0",
            "_view_name": "LayoutView",
            "align_content": null,
            "align_items": null,
            "align_self": null,
            "border": null,
            "bottom": null,
            "display": null,
            "flex": null,
            "flex_flow": null,
            "grid_area": null,
            "grid_auto_columns": null,
            "grid_auto_flow": null,
            "grid_auto_rows": null,
            "grid_column": null,
            "grid_gap": null,
            "grid_row": null,
            "grid_template_areas": null,
            "grid_template_columns": null,
            "grid_template_rows": null,
            "height": null,
            "justify_content": null,
            "justify_items": null,
            "left": null,
            "margin": null,
            "max_height": null,
            "max_width": null,
            "min_height": null,
            "min_width": null,
            "object_fit": null,
            "object_position": null,
            "order": null,
            "overflow": null,
            "overflow_x": null,
            "overflow_y": null,
            "padding": null,
            "right": null,
            "top": null,
            "visibility": null,
            "width": null
          }
        },
        "553b39df9308432eadf3240cb955a1e8": {
          "model_module": "@jupyter-widgets/base",
          "model_name": "LayoutModel",
          "model_module_version": "1.2.0",
          "state": {
            "_model_module": "@jupyter-widgets/base",
            "_model_module_version": "1.2.0",
            "_model_name": "LayoutModel",
            "_view_count": null,
            "_view_module": "@jupyter-widgets/base",
            "_view_module_version": "1.2.0",
            "_view_name": "LayoutView",
            "align_content": null,
            "align_items": null,
            "align_self": null,
            "border": null,
            "bottom": null,
            "display": null,
            "flex": null,
            "flex_flow": null,
            "grid_area": null,
            "grid_auto_columns": null,
            "grid_auto_flow": null,
            "grid_auto_rows": null,
            "grid_column": null,
            "grid_gap": null,
            "grid_row": null,
            "grid_template_areas": null,
            "grid_template_columns": null,
            "grid_template_rows": null,
            "height": null,
            "justify_content": null,
            "justify_items": null,
            "left": null,
            "margin": null,
            "max_height": null,
            "max_width": null,
            "min_height": null,
            "min_width": null,
            "object_fit": null,
            "object_position": null,
            "order": null,
            "overflow": null,
            "overflow_x": null,
            "overflow_y": null,
            "padding": null,
            "right": null,
            "top": null,
            "visibility": null,
            "width": null
          }
        },
        "501bf443641b4dab9299f7da0eff35e9": {
          "model_module": "@jupyter-widgets/controls",
          "model_name": "DescriptionStyleModel",
          "model_module_version": "1.5.0",
          "state": {
            "_model_module": "@jupyter-widgets/controls",
            "_model_module_version": "1.5.0",
            "_model_name": "DescriptionStyleModel",
            "_view_count": null,
            "_view_module": "@jupyter-widgets/base",
            "_view_module_version": "1.2.0",
            "_view_name": "StyleView",
            "description_width": ""
          }
        },
        "0207572895c644baa51fde9c1481e01d": {
          "model_module": "@jupyter-widgets/base",
          "model_name": "LayoutModel",
          "model_module_version": "1.2.0",
          "state": {
            "_model_module": "@jupyter-widgets/base",
            "_model_module_version": "1.2.0",
            "_model_name": "LayoutModel",
            "_view_count": null,
            "_view_module": "@jupyter-widgets/base",
            "_view_module_version": "1.2.0",
            "_view_name": "LayoutView",
            "align_content": null,
            "align_items": null,
            "align_self": null,
            "border": null,
            "bottom": null,
            "display": null,
            "flex": null,
            "flex_flow": null,
            "grid_area": null,
            "grid_auto_columns": null,
            "grid_auto_flow": null,
            "grid_auto_rows": null,
            "grid_column": null,
            "grid_gap": null,
            "grid_row": null,
            "grid_template_areas": null,
            "grid_template_columns": null,
            "grid_template_rows": null,
            "height": null,
            "justify_content": null,
            "justify_items": null,
            "left": null,
            "margin": null,
            "max_height": null,
            "max_width": null,
            "min_height": null,
            "min_width": null,
            "object_fit": null,
            "object_position": null,
            "order": null,
            "overflow": null,
            "overflow_x": null,
            "overflow_y": null,
            "padding": null,
            "right": null,
            "top": null,
            "visibility": null,
            "width": "20px"
          }
        },
        "52b9e2ee56a34ea1ba5222c6e88808fc": {
          "model_module": "@jupyter-widgets/controls",
          "model_name": "ProgressStyleModel",
          "model_module_version": "1.5.0",
          "state": {
            "_model_module": "@jupyter-widgets/controls",
            "_model_module_version": "1.5.0",
            "_model_name": "ProgressStyleModel",
            "_view_count": null,
            "_view_module": "@jupyter-widgets/base",
            "_view_module_version": "1.2.0",
            "_view_name": "StyleView",
            "bar_color": null,
            "description_width": ""
          }
        },
        "e2912fcfbac94959900f7c65604f7d79": {
          "model_module": "@jupyter-widgets/base",
          "model_name": "LayoutModel",
          "model_module_version": "1.2.0",
          "state": {
            "_model_module": "@jupyter-widgets/base",
            "_model_module_version": "1.2.0",
            "_model_name": "LayoutModel",
            "_view_count": null,
            "_view_module": "@jupyter-widgets/base",
            "_view_module_version": "1.2.0",
            "_view_name": "LayoutView",
            "align_content": null,
            "align_items": null,
            "align_self": null,
            "border": null,
            "bottom": null,
            "display": null,
            "flex": null,
            "flex_flow": null,
            "grid_area": null,
            "grid_auto_columns": null,
            "grid_auto_flow": null,
            "grid_auto_rows": null,
            "grid_column": null,
            "grid_gap": null,
            "grid_row": null,
            "grid_template_areas": null,
            "grid_template_columns": null,
            "grid_template_rows": null,
            "height": null,
            "justify_content": null,
            "justify_items": null,
            "left": null,
            "margin": null,
            "max_height": null,
            "max_width": null,
            "min_height": null,
            "min_width": null,
            "object_fit": null,
            "object_position": null,
            "order": null,
            "overflow": null,
            "overflow_x": null,
            "overflow_y": null,
            "padding": null,
            "right": null,
            "top": null,
            "visibility": null,
            "width": null
          }
        },
        "e3f44da6419841a79b042c758332f7b9": {
          "model_module": "@jupyter-widgets/controls",
          "model_name": "DescriptionStyleModel",
          "model_module_version": "1.5.0",
          "state": {
            "_model_module": "@jupyter-widgets/controls",
            "_model_module_version": "1.5.0",
            "_model_name": "DescriptionStyleModel",
            "_view_count": null,
            "_view_module": "@jupyter-widgets/base",
            "_view_module_version": "1.2.0",
            "_view_name": "StyleView",
            "description_width": ""
          }
        },
        "b85843ce28964e7c95ea84ac6f719c4d": {
          "model_module": "@jupyter-widgets/controls",
          "model_name": "HBoxModel",
          "model_module_version": "1.5.0",
          "state": {
            "_dom_classes": [],
            "_model_module": "@jupyter-widgets/controls",
            "_model_module_version": "1.5.0",
            "_model_name": "HBoxModel",
            "_view_count": null,
            "_view_module": "@jupyter-widgets/controls",
            "_view_module_version": "1.5.0",
            "_view_name": "HBoxView",
            "box_style": "",
            "children": [
              "IPY_MODEL_947fcea81aba45169cf611d984a1bd7e",
              "IPY_MODEL_00e7f3402abb4d0ca9b47d946727e25b",
              "IPY_MODEL_aba65dd09c1d457398619e0afa5e02ca"
            ],
            "layout": "IPY_MODEL_338966ad5d26413e97e8c24c6178c0df"
          }
        },
        "947fcea81aba45169cf611d984a1bd7e": {
          "model_module": "@jupyter-widgets/controls",
          "model_name": "HTMLModel",
          "model_module_version": "1.5.0",
          "state": {
            "_dom_classes": [],
            "_model_module": "@jupyter-widgets/controls",
            "_model_module_version": "1.5.0",
            "_model_name": "HTMLModel",
            "_view_count": null,
            "_view_module": "@jupyter-widgets/controls",
            "_view_module_version": "1.5.0",
            "_view_name": "HTMLView",
            "description": "",
            "description_tooltip": null,
            "layout": "IPY_MODEL_c00a588277c04292aaecebdd9e623dd9",
            "placeholder": "​",
            "style": "IPY_MODEL_c80a0137fbfc4f01847a7eccb5213eeb",
            "value": "Extraction completed...: 100%"
          }
        },
        "00e7f3402abb4d0ca9b47d946727e25b": {
          "model_module": "@jupyter-widgets/controls",
          "model_name": "FloatProgressModel",
          "model_module_version": "1.5.0",
          "state": {
            "_dom_classes": [],
            "_model_module": "@jupyter-widgets/controls",
            "_model_module_version": "1.5.0",
            "_model_name": "FloatProgressModel",
            "_view_count": null,
            "_view_module": "@jupyter-widgets/controls",
            "_view_module_version": "1.5.0",
            "_view_name": "ProgressView",
            "bar_style": "success",
            "description": "",
            "description_tooltip": null,
            "layout": "IPY_MODEL_f9515845ec924c60b975b3dc256950a7",
            "max": 1,
            "min": 0,
            "orientation": "horizontal",
            "style": "IPY_MODEL_9f78740b1e22475996dfe48d2d490b4e",
            "value": 1
          }
        },
        "aba65dd09c1d457398619e0afa5e02ca": {
          "model_module": "@jupyter-widgets/controls",
          "model_name": "HTMLModel",
          "model_module_version": "1.5.0",
          "state": {
            "_dom_classes": [],
            "_model_module": "@jupyter-widgets/controls",
            "_model_module_version": "1.5.0",
            "_model_name": "HTMLModel",
            "_view_count": null,
            "_view_module": "@jupyter-widgets/controls",
            "_view_module_version": "1.5.0",
            "_view_name": "HTMLView",
            "description": "",
            "description_tooltip": null,
            "layout": "IPY_MODEL_4d6dab034fc74363a391c9a7bfaafc3d",
            "placeholder": "​",
            "style": "IPY_MODEL_4036a320865344a1b170797ca3098ca1",
            "value": " 2511/2511 [00:15&lt;00:00, 250.35 file/s]"
          }
        },
        "338966ad5d26413e97e8c24c6178c0df": {
          "model_module": "@jupyter-widgets/base",
          "model_name": "LayoutModel",
          "model_module_version": "1.2.0",
          "state": {
            "_model_module": "@jupyter-widgets/base",
            "_model_module_version": "1.2.0",
            "_model_name": "LayoutModel",
            "_view_count": null,
            "_view_module": "@jupyter-widgets/base",
            "_view_module_version": "1.2.0",
            "_view_name": "LayoutView",
            "align_content": null,
            "align_items": null,
            "align_self": null,
            "border": null,
            "bottom": null,
            "display": null,
            "flex": null,
            "flex_flow": null,
            "grid_area": null,
            "grid_auto_columns": null,
            "grid_auto_flow": null,
            "grid_auto_rows": null,
            "grid_column": null,
            "grid_gap": null,
            "grid_row": null,
            "grid_template_areas": null,
            "grid_template_columns": null,
            "grid_template_rows": null,
            "height": null,
            "justify_content": null,
            "justify_items": null,
            "left": null,
            "margin": null,
            "max_height": null,
            "max_width": null,
            "min_height": null,
            "min_width": null,
            "object_fit": null,
            "object_position": null,
            "order": null,
            "overflow": null,
            "overflow_x": null,
            "overflow_y": null,
            "padding": null,
            "right": null,
            "top": null,
            "visibility": null,
            "width": null
          }
        },
        "c00a588277c04292aaecebdd9e623dd9": {
          "model_module": "@jupyter-widgets/base",
          "model_name": "LayoutModel",
          "model_module_version": "1.2.0",
          "state": {
            "_model_module": "@jupyter-widgets/base",
            "_model_module_version": "1.2.0",
            "_model_name": "LayoutModel",
            "_view_count": null,
            "_view_module": "@jupyter-widgets/base",
            "_view_module_version": "1.2.0",
            "_view_name": "LayoutView",
            "align_content": null,
            "align_items": null,
            "align_self": null,
            "border": null,
            "bottom": null,
            "display": null,
            "flex": null,
            "flex_flow": null,
            "grid_area": null,
            "grid_auto_columns": null,
            "grid_auto_flow": null,
            "grid_auto_rows": null,
            "grid_column": null,
            "grid_gap": null,
            "grid_row": null,
            "grid_template_areas": null,
            "grid_template_columns": null,
            "grid_template_rows": null,
            "height": null,
            "justify_content": null,
            "justify_items": null,
            "left": null,
            "margin": null,
            "max_height": null,
            "max_width": null,
            "min_height": null,
            "min_width": null,
            "object_fit": null,
            "object_position": null,
            "order": null,
            "overflow": null,
            "overflow_x": null,
            "overflow_y": null,
            "padding": null,
            "right": null,
            "top": null,
            "visibility": null,
            "width": null
          }
        },
        "c80a0137fbfc4f01847a7eccb5213eeb": {
          "model_module": "@jupyter-widgets/controls",
          "model_name": "DescriptionStyleModel",
          "model_module_version": "1.5.0",
          "state": {
            "_model_module": "@jupyter-widgets/controls",
            "_model_module_version": "1.5.0",
            "_model_name": "DescriptionStyleModel",
            "_view_count": null,
            "_view_module": "@jupyter-widgets/base",
            "_view_module_version": "1.2.0",
            "_view_name": "StyleView",
            "description_width": ""
          }
        },
        "f9515845ec924c60b975b3dc256950a7": {
          "model_module": "@jupyter-widgets/base",
          "model_name": "LayoutModel",
          "model_module_version": "1.2.0",
          "state": {
            "_model_module": "@jupyter-widgets/base",
            "_model_module_version": "1.2.0",
            "_model_name": "LayoutModel",
            "_view_count": null,
            "_view_module": "@jupyter-widgets/base",
            "_view_module_version": "1.2.0",
            "_view_name": "LayoutView",
            "align_content": null,
            "align_items": null,
            "align_self": null,
            "border": null,
            "bottom": null,
            "display": null,
            "flex": null,
            "flex_flow": null,
            "grid_area": null,
            "grid_auto_columns": null,
            "grid_auto_flow": null,
            "grid_auto_rows": null,
            "grid_column": null,
            "grid_gap": null,
            "grid_row": null,
            "grid_template_areas": null,
            "grid_template_columns": null,
            "grid_template_rows": null,
            "height": null,
            "justify_content": null,
            "justify_items": null,
            "left": null,
            "margin": null,
            "max_height": null,
            "max_width": null,
            "min_height": null,
            "min_width": null,
            "object_fit": null,
            "object_position": null,
            "order": null,
            "overflow": null,
            "overflow_x": null,
            "overflow_y": null,
            "padding": null,
            "right": null,
            "top": null,
            "visibility": null,
            "width": "20px"
          }
        },
        "9f78740b1e22475996dfe48d2d490b4e": {
          "model_module": "@jupyter-widgets/controls",
          "model_name": "ProgressStyleModel",
          "model_module_version": "1.5.0",
          "state": {
            "_model_module": "@jupyter-widgets/controls",
            "_model_module_version": "1.5.0",
            "_model_name": "ProgressStyleModel",
            "_view_count": null,
            "_view_module": "@jupyter-widgets/base",
            "_view_module_version": "1.2.0",
            "_view_name": "StyleView",
            "bar_color": null,
            "description_width": ""
          }
        },
        "4d6dab034fc74363a391c9a7bfaafc3d": {
          "model_module": "@jupyter-widgets/base",
          "model_name": "LayoutModel",
          "model_module_version": "1.2.0",
          "state": {
            "_model_module": "@jupyter-widgets/base",
            "_model_module_version": "1.2.0",
            "_model_name": "LayoutModel",
            "_view_count": null,
            "_view_module": "@jupyter-widgets/base",
            "_view_module_version": "1.2.0",
            "_view_name": "LayoutView",
            "align_content": null,
            "align_items": null,
            "align_self": null,
            "border": null,
            "bottom": null,
            "display": null,
            "flex": null,
            "flex_flow": null,
            "grid_area": null,
            "grid_auto_columns": null,
            "grid_auto_flow": null,
            "grid_auto_rows": null,
            "grid_column": null,
            "grid_gap": null,
            "grid_row": null,
            "grid_template_areas": null,
            "grid_template_columns": null,
            "grid_template_rows": null,
            "height": null,
            "justify_content": null,
            "justify_items": null,
            "left": null,
            "margin": null,
            "max_height": null,
            "max_width": null,
            "min_height": null,
            "min_width": null,
            "object_fit": null,
            "object_position": null,
            "order": null,
            "overflow": null,
            "overflow_x": null,
            "overflow_y": null,
            "padding": null,
            "right": null,
            "top": null,
            "visibility": null,
            "width": null
          }
        },
        "4036a320865344a1b170797ca3098ca1": {
          "model_module": "@jupyter-widgets/controls",
          "model_name": "DescriptionStyleModel",
          "model_module_version": "1.5.0",
          "state": {
            "_model_module": "@jupyter-widgets/controls",
            "_model_module_version": "1.5.0",
            "_model_name": "DescriptionStyleModel",
            "_view_count": null,
            "_view_module": "@jupyter-widgets/base",
            "_view_module_version": "1.2.0",
            "_view_name": "StyleView",
            "description_width": ""
          }
        },
        "3daa833725434b00acd868272334554b": {
          "model_module": "@jupyter-widgets/controls",
          "model_name": "HBoxModel",
          "model_module_version": "1.5.0",
          "state": {
            "_dom_classes": [],
            "_model_module": "@jupyter-widgets/controls",
            "_model_module_version": "1.5.0",
            "_model_name": "HBoxModel",
            "_view_count": null,
            "_view_module": "@jupyter-widgets/controls",
            "_view_module_version": "1.5.0",
            "_view_name": "HBoxView",
            "box_style": "",
            "children": [
              "IPY_MODEL_b9bc27d3b96a4b8799a5bd281fb1cf36",
              "IPY_MODEL_6c0c8d5332b8437a82b99b576f3e069b",
              "IPY_MODEL_95a71668f8cc4238aaf61b4cd2c75be5"
            ],
            "layout": "IPY_MODEL_c315bb3b04cb4773833ea37df0820a04"
          }
        },
        "b9bc27d3b96a4b8799a5bd281fb1cf36": {
          "model_module": "@jupyter-widgets/controls",
          "model_name": "HTMLModel",
          "model_module_version": "1.5.0",
          "state": {
            "_dom_classes": [],
            "_model_module": "@jupyter-widgets/controls",
            "_model_module_version": "1.5.0",
            "_model_name": "HTMLModel",
            "_view_count": null,
            "_view_module": "@jupyter-widgets/controls",
            "_view_module_version": "1.5.0",
            "_view_name": "HTMLView",
            "description": "",
            "description_tooltip": null,
            "layout": "IPY_MODEL_76ec3b54b021408197522be5e2b3bee3",
            "placeholder": "​",
            "style": "IPY_MODEL_df88f3124a7842e9a248bb2472057d11",
            "value": "Generating splits...: 100%"
          }
        },
        "6c0c8d5332b8437a82b99b576f3e069b": {
          "model_module": "@jupyter-widgets/controls",
          "model_name": "FloatProgressModel",
          "model_module_version": "1.5.0",
          "state": {
            "_dom_classes": [],
            "_model_module": "@jupyter-widgets/controls",
            "_model_module_version": "1.5.0",
            "_model_name": "FloatProgressModel",
            "_view_count": null,
            "_view_module": "@jupyter-widgets/controls",
            "_view_module_version": "1.5.0",
            "_view_name": "ProgressView",
            "bar_style": "",
            "description": "",
            "description_tooltip": null,
            "layout": "IPY_MODEL_6fa3d37f46bf4113a6674510d6813bca",
            "max": 1,
            "min": 0,
            "orientation": "horizontal",
            "style": "IPY_MODEL_a7c46e5908154f1cac033ff975975114",
            "value": 1
          }
        },
        "95a71668f8cc4238aaf61b4cd2c75be5": {
          "model_module": "@jupyter-widgets/controls",
          "model_name": "HTMLModel",
          "model_module_version": "1.5.0",
          "state": {
            "_dom_classes": [],
            "_model_module": "@jupyter-widgets/controls",
            "_model_module_version": "1.5.0",
            "_model_name": "HTMLModel",
            "_view_count": null,
            "_view_module": "@jupyter-widgets/controls",
            "_view_module_version": "1.5.0",
            "_view_name": "HTMLView",
            "description": "",
            "description_tooltip": null,
            "layout": "IPY_MODEL_7e70a049f030499d88eb18dac49e100c",
            "placeholder": "​",
            "style": "IPY_MODEL_b095170c96e14d74bbffc3da7f9d7cbb",
            "value": " 1/1 [00:12&lt;00:00, 12.09s/ splits]"
          }
        },
        "c315bb3b04cb4773833ea37df0820a04": {
          "model_module": "@jupyter-widgets/base",
          "model_name": "LayoutModel",
          "model_module_version": "1.2.0",
          "state": {
            "_model_module": "@jupyter-widgets/base",
            "_model_module_version": "1.2.0",
            "_model_name": "LayoutModel",
            "_view_count": null,
            "_view_module": "@jupyter-widgets/base",
            "_view_module_version": "1.2.0",
            "_view_name": "LayoutView",
            "align_content": null,
            "align_items": null,
            "align_self": null,
            "border": null,
            "bottom": null,
            "display": null,
            "flex": null,
            "flex_flow": null,
            "grid_area": null,
            "grid_auto_columns": null,
            "grid_auto_flow": null,
            "grid_auto_rows": null,
            "grid_column": null,
            "grid_gap": null,
            "grid_row": null,
            "grid_template_areas": null,
            "grid_template_columns": null,
            "grid_template_rows": null,
            "height": null,
            "justify_content": null,
            "justify_items": null,
            "left": null,
            "margin": null,
            "max_height": null,
            "max_width": null,
            "min_height": null,
            "min_width": null,
            "object_fit": null,
            "object_position": null,
            "order": null,
            "overflow": null,
            "overflow_x": null,
            "overflow_y": null,
            "padding": null,
            "right": null,
            "top": null,
            "visibility": "hidden",
            "width": null
          }
        },
        "76ec3b54b021408197522be5e2b3bee3": {
          "model_module": "@jupyter-widgets/base",
          "model_name": "LayoutModel",
          "model_module_version": "1.2.0",
          "state": {
            "_model_module": "@jupyter-widgets/base",
            "_model_module_version": "1.2.0",
            "_model_name": "LayoutModel",
            "_view_count": null,
            "_view_module": "@jupyter-widgets/base",
            "_view_module_version": "1.2.0",
            "_view_name": "LayoutView",
            "align_content": null,
            "align_items": null,
            "align_self": null,
            "border": null,
            "bottom": null,
            "display": null,
            "flex": null,
            "flex_flow": null,
            "grid_area": null,
            "grid_auto_columns": null,
            "grid_auto_flow": null,
            "grid_auto_rows": null,
            "grid_column": null,
            "grid_gap": null,
            "grid_row": null,
            "grid_template_areas": null,
            "grid_template_columns": null,
            "grid_template_rows": null,
            "height": null,
            "justify_content": null,
            "justify_items": null,
            "left": null,
            "margin": null,
            "max_height": null,
            "max_width": null,
            "min_height": null,
            "min_width": null,
            "object_fit": null,
            "object_position": null,
            "order": null,
            "overflow": null,
            "overflow_x": null,
            "overflow_y": null,
            "padding": null,
            "right": null,
            "top": null,
            "visibility": null,
            "width": null
          }
        },
        "df88f3124a7842e9a248bb2472057d11": {
          "model_module": "@jupyter-widgets/controls",
          "model_name": "DescriptionStyleModel",
          "model_module_version": "1.5.0",
          "state": {
            "_model_module": "@jupyter-widgets/controls",
            "_model_module_version": "1.5.0",
            "_model_name": "DescriptionStyleModel",
            "_view_count": null,
            "_view_module": "@jupyter-widgets/base",
            "_view_module_version": "1.2.0",
            "_view_name": "StyleView",
            "description_width": ""
          }
        },
        "6fa3d37f46bf4113a6674510d6813bca": {
          "model_module": "@jupyter-widgets/base",
          "model_name": "LayoutModel",
          "model_module_version": "1.2.0",
          "state": {
            "_model_module": "@jupyter-widgets/base",
            "_model_module_version": "1.2.0",
            "_model_name": "LayoutModel",
            "_view_count": null,
            "_view_module": "@jupyter-widgets/base",
            "_view_module_version": "1.2.0",
            "_view_name": "LayoutView",
            "align_content": null,
            "align_items": null,
            "align_self": null,
            "border": null,
            "bottom": null,
            "display": null,
            "flex": null,
            "flex_flow": null,
            "grid_area": null,
            "grid_auto_columns": null,
            "grid_auto_flow": null,
            "grid_auto_rows": null,
            "grid_column": null,
            "grid_gap": null,
            "grid_row": null,
            "grid_template_areas": null,
            "grid_template_columns": null,
            "grid_template_rows": null,
            "height": null,
            "justify_content": null,
            "justify_items": null,
            "left": null,
            "margin": null,
            "max_height": null,
            "max_width": null,
            "min_height": null,
            "min_width": null,
            "object_fit": null,
            "object_position": null,
            "order": null,
            "overflow": null,
            "overflow_x": null,
            "overflow_y": null,
            "padding": null,
            "right": null,
            "top": null,
            "visibility": null,
            "width": null
          }
        },
        "a7c46e5908154f1cac033ff975975114": {
          "model_module": "@jupyter-widgets/controls",
          "model_name": "ProgressStyleModel",
          "model_module_version": "1.5.0",
          "state": {
            "_model_module": "@jupyter-widgets/controls",
            "_model_module_version": "1.5.0",
            "_model_name": "ProgressStyleModel",
            "_view_count": null,
            "_view_module": "@jupyter-widgets/base",
            "_view_module_version": "1.2.0",
            "_view_name": "StyleView",
            "bar_color": null,
            "description_width": ""
          }
        },
        "7e70a049f030499d88eb18dac49e100c": {
          "model_module": "@jupyter-widgets/base",
          "model_name": "LayoutModel",
          "model_module_version": "1.2.0",
          "state": {
            "_model_module": "@jupyter-widgets/base",
            "_model_module_version": "1.2.0",
            "_model_name": "LayoutModel",
            "_view_count": null,
            "_view_module": "@jupyter-widgets/base",
            "_view_module_version": "1.2.0",
            "_view_name": "LayoutView",
            "align_content": null,
            "align_items": null,
            "align_self": null,
            "border": null,
            "bottom": null,
            "display": null,
            "flex": null,
            "flex_flow": null,
            "grid_area": null,
            "grid_auto_columns": null,
            "grid_auto_flow": null,
            "grid_auto_rows": null,
            "grid_column": null,
            "grid_gap": null,
            "grid_row": null,
            "grid_template_areas": null,
            "grid_template_columns": null,
            "grid_template_rows": null,
            "height": null,
            "justify_content": null,
            "justify_items": null,
            "left": null,
            "margin": null,
            "max_height": null,
            "max_width": null,
            "min_height": null,
            "min_width": null,
            "object_fit": null,
            "object_position": null,
            "order": null,
            "overflow": null,
            "overflow_x": null,
            "overflow_y": null,
            "padding": null,
            "right": null,
            "top": null,
            "visibility": null,
            "width": null
          }
        },
        "b095170c96e14d74bbffc3da7f9d7cbb": {
          "model_module": "@jupyter-widgets/controls",
          "model_name": "DescriptionStyleModel",
          "model_module_version": "1.5.0",
          "state": {
            "_model_module": "@jupyter-widgets/controls",
            "_model_module_version": "1.5.0",
            "_model_name": "DescriptionStyleModel",
            "_view_count": null,
            "_view_module": "@jupyter-widgets/base",
            "_view_module_version": "1.2.0",
            "_view_name": "StyleView",
            "description_width": ""
          }
        },
        "efd23d7077e24898b05837a9aa5baacd": {
          "model_module": "@jupyter-widgets/controls",
          "model_name": "HBoxModel",
          "model_module_version": "1.5.0",
          "state": {
            "_dom_classes": [],
            "_model_module": "@jupyter-widgets/controls",
            "_model_module_version": "1.5.0",
            "_model_name": "HBoxModel",
            "_view_count": null,
            "_view_module": "@jupyter-widgets/controls",
            "_view_module_version": "1.5.0",
            "_view_name": "HBoxView",
            "box_style": "",
            "children": [
              "IPY_MODEL_9d5bb28b6873454e9dd80be5bd467f4a",
              "IPY_MODEL_961bc49f04b14dae8454938bfa7d8acb",
              "IPY_MODEL_1751ce130ccc4a7a9b440c9d6a32f992"
            ],
            "layout": "IPY_MODEL_ddee46ccf30c476d9cdc7883ac9ad4e2"
          }
        },
        "9d5bb28b6873454e9dd80be5bd467f4a": {
          "model_module": "@jupyter-widgets/controls",
          "model_name": "HTMLModel",
          "model_module_version": "1.5.0",
          "state": {
            "_dom_classes": [],
            "_model_module": "@jupyter-widgets/controls",
            "_model_module_version": "1.5.0",
            "_model_name": "HTMLModel",
            "_view_count": null,
            "_view_module": "@jupyter-widgets/controls",
            "_view_module_version": "1.5.0",
            "_view_name": "HTMLView",
            "description": "",
            "description_tooltip": null,
            "layout": "IPY_MODEL_8aaab800a4574b39ab3bd3e86505cef5",
            "placeholder": "​",
            "style": "IPY_MODEL_59274454ce2348058617f2ace8bcaefb",
            "value": "Generating train examples...:  96%"
          }
        },
        "961bc49f04b14dae8454938bfa7d8acb": {
          "model_module": "@jupyter-widgets/controls",
          "model_name": "FloatProgressModel",
          "model_module_version": "1.5.0",
          "state": {
            "_dom_classes": [],
            "_model_module": "@jupyter-widgets/controls",
            "_model_module_version": "1.5.0",
            "_model_name": "FloatProgressModel",
            "_view_count": null,
            "_view_module": "@jupyter-widgets/controls",
            "_view_module_version": "1.5.0",
            "_view_name": "ProgressView",
            "bar_style": "",
            "description": "",
            "description_tooltip": null,
            "layout": "IPY_MODEL_56d77d5101f643bd86f7989548581afd",
            "max": 2500,
            "min": 0,
            "orientation": "horizontal",
            "style": "IPY_MODEL_930c4cea07e44411bdd8244b2b06970d",
            "value": 2500
          }
        },
        "1751ce130ccc4a7a9b440c9d6a32f992": {
          "model_module": "@jupyter-widgets/controls",
          "model_name": "HTMLModel",
          "model_module_version": "1.5.0",
          "state": {
            "_dom_classes": [],
            "_model_module": "@jupyter-widgets/controls",
            "_model_module_version": "1.5.0",
            "_model_name": "HTMLModel",
            "_view_count": null,
            "_view_module": "@jupyter-widgets/controls",
            "_view_module_version": "1.5.0",
            "_view_name": "HTMLView",
            "description": "",
            "description_tooltip": null,
            "layout": "IPY_MODEL_0b73d598552e4b7ab1910188e4316aac",
            "placeholder": "​",
            "style": "IPY_MODEL_a677101f9f4f48f5971f993071919534",
            "value": " 2395/2500 [00:10&lt;00:00, 221.11 examples/s]"
          }
        },
        "ddee46ccf30c476d9cdc7883ac9ad4e2": {
          "model_module": "@jupyter-widgets/base",
          "model_name": "LayoutModel",
          "model_module_version": "1.2.0",
          "state": {
            "_model_module": "@jupyter-widgets/base",
            "_model_module_version": "1.2.0",
            "_model_name": "LayoutModel",
            "_view_count": null,
            "_view_module": "@jupyter-widgets/base",
            "_view_module_version": "1.2.0",
            "_view_name": "LayoutView",
            "align_content": null,
            "align_items": null,
            "align_self": null,
            "border": null,
            "bottom": null,
            "display": null,
            "flex": null,
            "flex_flow": null,
            "grid_area": null,
            "grid_auto_columns": null,
            "grid_auto_flow": null,
            "grid_auto_rows": null,
            "grid_column": null,
            "grid_gap": null,
            "grid_row": null,
            "grid_template_areas": null,
            "grid_template_columns": null,
            "grid_template_rows": null,
            "height": null,
            "justify_content": null,
            "justify_items": null,
            "left": null,
            "margin": null,
            "max_height": null,
            "max_width": null,
            "min_height": null,
            "min_width": null,
            "object_fit": null,
            "object_position": null,
            "order": null,
            "overflow": null,
            "overflow_x": null,
            "overflow_y": null,
            "padding": null,
            "right": null,
            "top": null,
            "visibility": "hidden",
            "width": null
          }
        },
        "8aaab800a4574b39ab3bd3e86505cef5": {
          "model_module": "@jupyter-widgets/base",
          "model_name": "LayoutModel",
          "model_module_version": "1.2.0",
          "state": {
            "_model_module": "@jupyter-widgets/base",
            "_model_module_version": "1.2.0",
            "_model_name": "LayoutModel",
            "_view_count": null,
            "_view_module": "@jupyter-widgets/base",
            "_view_module_version": "1.2.0",
            "_view_name": "LayoutView",
            "align_content": null,
            "align_items": null,
            "align_self": null,
            "border": null,
            "bottom": null,
            "display": null,
            "flex": null,
            "flex_flow": null,
            "grid_area": null,
            "grid_auto_columns": null,
            "grid_auto_flow": null,
            "grid_auto_rows": null,
            "grid_column": null,
            "grid_gap": null,
            "grid_row": null,
            "grid_template_areas": null,
            "grid_template_columns": null,
            "grid_template_rows": null,
            "height": null,
            "justify_content": null,
            "justify_items": null,
            "left": null,
            "margin": null,
            "max_height": null,
            "max_width": null,
            "min_height": null,
            "min_width": null,
            "object_fit": null,
            "object_position": null,
            "order": null,
            "overflow": null,
            "overflow_x": null,
            "overflow_y": null,
            "padding": null,
            "right": null,
            "top": null,
            "visibility": null,
            "width": null
          }
        },
        "59274454ce2348058617f2ace8bcaefb": {
          "model_module": "@jupyter-widgets/controls",
          "model_name": "DescriptionStyleModel",
          "model_module_version": "1.5.0",
          "state": {
            "_model_module": "@jupyter-widgets/controls",
            "_model_module_version": "1.5.0",
            "_model_name": "DescriptionStyleModel",
            "_view_count": null,
            "_view_module": "@jupyter-widgets/base",
            "_view_module_version": "1.2.0",
            "_view_name": "StyleView",
            "description_width": ""
          }
        },
        "56d77d5101f643bd86f7989548581afd": {
          "model_module": "@jupyter-widgets/base",
          "model_name": "LayoutModel",
          "model_module_version": "1.2.0",
          "state": {
            "_model_module": "@jupyter-widgets/base",
            "_model_module_version": "1.2.0",
            "_model_name": "LayoutModel",
            "_view_count": null,
            "_view_module": "@jupyter-widgets/base",
            "_view_module_version": "1.2.0",
            "_view_name": "LayoutView",
            "align_content": null,
            "align_items": null,
            "align_self": null,
            "border": null,
            "bottom": null,
            "display": null,
            "flex": null,
            "flex_flow": null,
            "grid_area": null,
            "grid_auto_columns": null,
            "grid_auto_flow": null,
            "grid_auto_rows": null,
            "grid_column": null,
            "grid_gap": null,
            "grid_row": null,
            "grid_template_areas": null,
            "grid_template_columns": null,
            "grid_template_rows": null,
            "height": null,
            "justify_content": null,
            "justify_items": null,
            "left": null,
            "margin": null,
            "max_height": null,
            "max_width": null,
            "min_height": null,
            "min_width": null,
            "object_fit": null,
            "object_position": null,
            "order": null,
            "overflow": null,
            "overflow_x": null,
            "overflow_y": null,
            "padding": null,
            "right": null,
            "top": null,
            "visibility": null,
            "width": null
          }
        },
        "930c4cea07e44411bdd8244b2b06970d": {
          "model_module": "@jupyter-widgets/controls",
          "model_name": "ProgressStyleModel",
          "model_module_version": "1.5.0",
          "state": {
            "_model_module": "@jupyter-widgets/controls",
            "_model_module_version": "1.5.0",
            "_model_name": "ProgressStyleModel",
            "_view_count": null,
            "_view_module": "@jupyter-widgets/base",
            "_view_module_version": "1.2.0",
            "_view_name": "StyleView",
            "bar_color": null,
            "description_width": ""
          }
        },
        "0b73d598552e4b7ab1910188e4316aac": {
          "model_module": "@jupyter-widgets/base",
          "model_name": "LayoutModel",
          "model_module_version": "1.2.0",
          "state": {
            "_model_module": "@jupyter-widgets/base",
            "_model_module_version": "1.2.0",
            "_model_name": "LayoutModel",
            "_view_count": null,
            "_view_module": "@jupyter-widgets/base",
            "_view_module_version": "1.2.0",
            "_view_name": "LayoutView",
            "align_content": null,
            "align_items": null,
            "align_self": null,
            "border": null,
            "bottom": null,
            "display": null,
            "flex": null,
            "flex_flow": null,
            "grid_area": null,
            "grid_auto_columns": null,
            "grid_auto_flow": null,
            "grid_auto_rows": null,
            "grid_column": null,
            "grid_gap": null,
            "grid_row": null,
            "grid_template_areas": null,
            "grid_template_columns": null,
            "grid_template_rows": null,
            "height": null,
            "justify_content": null,
            "justify_items": null,
            "left": null,
            "margin": null,
            "max_height": null,
            "max_width": null,
            "min_height": null,
            "min_width": null,
            "object_fit": null,
            "object_position": null,
            "order": null,
            "overflow": null,
            "overflow_x": null,
            "overflow_y": null,
            "padding": null,
            "right": null,
            "top": null,
            "visibility": null,
            "width": null
          }
        },
        "a677101f9f4f48f5971f993071919534": {
          "model_module": "@jupyter-widgets/controls",
          "model_name": "DescriptionStyleModel",
          "model_module_version": "1.5.0",
          "state": {
            "_model_module": "@jupyter-widgets/controls",
            "_model_module_version": "1.5.0",
            "_model_name": "DescriptionStyleModel",
            "_view_count": null,
            "_view_module": "@jupyter-widgets/base",
            "_view_module_version": "1.2.0",
            "_view_name": "StyleView",
            "description_width": ""
          }
        },
        "759b6491741e4d6b9049bee9bdc87360": {
          "model_module": "@jupyter-widgets/controls",
          "model_name": "HBoxModel",
          "model_module_version": "1.5.0",
          "state": {
            "_dom_classes": [],
            "_model_module": "@jupyter-widgets/controls",
            "_model_module_version": "1.5.0",
            "_model_name": "HBoxModel",
            "_view_count": null,
            "_view_module": "@jupyter-widgets/controls",
            "_view_module_version": "1.5.0",
            "_view_name": "HBoxView",
            "box_style": "",
            "children": [
              "IPY_MODEL_3a80cf82674a46398e7db61545a72fb1",
              "IPY_MODEL_f1048436daa64dd38af515c18a9f3ef9",
              "IPY_MODEL_efb4eaa540b14cb8a88c2398f3592187"
            ],
            "layout": "IPY_MODEL_a5eefbd435244e0f9ca7380b6aff6011"
          }
        },
        "3a80cf82674a46398e7db61545a72fb1": {
          "model_module": "@jupyter-widgets/controls",
          "model_name": "HTMLModel",
          "model_module_version": "1.5.0",
          "state": {
            "_dom_classes": [],
            "_model_module": "@jupyter-widgets/controls",
            "_model_module_version": "1.5.0",
            "_model_name": "HTMLModel",
            "_view_count": null,
            "_view_module": "@jupyter-widgets/controls",
            "_view_module_version": "1.5.0",
            "_view_name": "HTMLView",
            "description": "",
            "description_tooltip": null,
            "layout": "IPY_MODEL_3286e4b1f1bb4b82ab0bc6c6c99fff3a",
            "placeholder": "​",
            "style": "IPY_MODEL_1ada33d8724849a8bbdb7946409c5ead",
            "value": "Shuffling data/spoken_digit/incomplete.BTVIBT_1.0.9/spoken_digit-train.tfrecord*...:   0%"
          }
        },
        "f1048436daa64dd38af515c18a9f3ef9": {
          "model_module": "@jupyter-widgets/controls",
          "model_name": "FloatProgressModel",
          "model_module_version": "1.5.0",
          "state": {
            "_dom_classes": [],
            "_model_module": "@jupyter-widgets/controls",
            "_model_module_version": "1.5.0",
            "_model_name": "FloatProgressModel",
            "_view_count": null,
            "_view_module": "@jupyter-widgets/controls",
            "_view_module_version": "1.5.0",
            "_view_name": "ProgressView",
            "bar_style": "",
            "description": "",
            "description_tooltip": null,
            "layout": "IPY_MODEL_2829442120494b4c8ef33f4ffc40169f",
            "max": 2500,
            "min": 0,
            "orientation": "horizontal",
            "style": "IPY_MODEL_bc3570859a7749aa93b3789e4b2cf552",
            "value": 2500
          }
        },
        "efb4eaa540b14cb8a88c2398f3592187": {
          "model_module": "@jupyter-widgets/controls",
          "model_name": "HTMLModel",
          "model_module_version": "1.5.0",
          "state": {
            "_dom_classes": [],
            "_model_module": "@jupyter-widgets/controls",
            "_model_module_version": "1.5.0",
            "_model_name": "HTMLModel",
            "_view_count": null,
            "_view_module": "@jupyter-widgets/controls",
            "_view_module_version": "1.5.0",
            "_view_name": "HTMLView",
            "description": "",
            "description_tooltip": null,
            "layout": "IPY_MODEL_63ea67f767684531a3e819cf1fe021d6",
            "placeholder": "​",
            "style": "IPY_MODEL_d83e3263007a4d23a6a4097a3a63fe16",
            "value": " 0/2500 [00:00&lt;?, ? examples/s]"
          }
        },
        "a5eefbd435244e0f9ca7380b6aff6011": {
          "model_module": "@jupyter-widgets/base",
          "model_name": "LayoutModel",
          "model_module_version": "1.2.0",
          "state": {
            "_model_module": "@jupyter-widgets/base",
            "_model_module_version": "1.2.0",
            "_model_name": "LayoutModel",
            "_view_count": null,
            "_view_module": "@jupyter-widgets/base",
            "_view_module_version": "1.2.0",
            "_view_name": "LayoutView",
            "align_content": null,
            "align_items": null,
            "align_self": null,
            "border": null,
            "bottom": null,
            "display": null,
            "flex": null,
            "flex_flow": null,
            "grid_area": null,
            "grid_auto_columns": null,
            "grid_auto_flow": null,
            "grid_auto_rows": null,
            "grid_column": null,
            "grid_gap": null,
            "grid_row": null,
            "grid_template_areas": null,
            "grid_template_columns": null,
            "grid_template_rows": null,
            "height": null,
            "justify_content": null,
            "justify_items": null,
            "left": null,
            "margin": null,
            "max_height": null,
            "max_width": null,
            "min_height": null,
            "min_width": null,
            "object_fit": null,
            "object_position": null,
            "order": null,
            "overflow": null,
            "overflow_x": null,
            "overflow_y": null,
            "padding": null,
            "right": null,
            "top": null,
            "visibility": "hidden",
            "width": null
          }
        },
        "3286e4b1f1bb4b82ab0bc6c6c99fff3a": {
          "model_module": "@jupyter-widgets/base",
          "model_name": "LayoutModel",
          "model_module_version": "1.2.0",
          "state": {
            "_model_module": "@jupyter-widgets/base",
            "_model_module_version": "1.2.0",
            "_model_name": "LayoutModel",
            "_view_count": null,
            "_view_module": "@jupyter-widgets/base",
            "_view_module_version": "1.2.0",
            "_view_name": "LayoutView",
            "align_content": null,
            "align_items": null,
            "align_self": null,
            "border": null,
            "bottom": null,
            "display": null,
            "flex": null,
            "flex_flow": null,
            "grid_area": null,
            "grid_auto_columns": null,
            "grid_auto_flow": null,
            "grid_auto_rows": null,
            "grid_column": null,
            "grid_gap": null,
            "grid_row": null,
            "grid_template_areas": null,
            "grid_template_columns": null,
            "grid_template_rows": null,
            "height": null,
            "justify_content": null,
            "justify_items": null,
            "left": null,
            "margin": null,
            "max_height": null,
            "max_width": null,
            "min_height": null,
            "min_width": null,
            "object_fit": null,
            "object_position": null,
            "order": null,
            "overflow": null,
            "overflow_x": null,
            "overflow_y": null,
            "padding": null,
            "right": null,
            "top": null,
            "visibility": null,
            "width": null
          }
        },
        "1ada33d8724849a8bbdb7946409c5ead": {
          "model_module": "@jupyter-widgets/controls",
          "model_name": "DescriptionStyleModel",
          "model_module_version": "1.5.0",
          "state": {
            "_model_module": "@jupyter-widgets/controls",
            "_model_module_version": "1.5.0",
            "_model_name": "DescriptionStyleModel",
            "_view_count": null,
            "_view_module": "@jupyter-widgets/base",
            "_view_module_version": "1.2.0",
            "_view_name": "StyleView",
            "description_width": ""
          }
        },
        "2829442120494b4c8ef33f4ffc40169f": {
          "model_module": "@jupyter-widgets/base",
          "model_name": "LayoutModel",
          "model_module_version": "1.2.0",
          "state": {
            "_model_module": "@jupyter-widgets/base",
            "_model_module_version": "1.2.0",
            "_model_name": "LayoutModel",
            "_view_count": null,
            "_view_module": "@jupyter-widgets/base",
            "_view_module_version": "1.2.0",
            "_view_name": "LayoutView",
            "align_content": null,
            "align_items": null,
            "align_self": null,
            "border": null,
            "bottom": null,
            "display": null,
            "flex": null,
            "flex_flow": null,
            "grid_area": null,
            "grid_auto_columns": null,
            "grid_auto_flow": null,
            "grid_auto_rows": null,
            "grid_column": null,
            "grid_gap": null,
            "grid_row": null,
            "grid_template_areas": null,
            "grid_template_columns": null,
            "grid_template_rows": null,
            "height": null,
            "justify_content": null,
            "justify_items": null,
            "left": null,
            "margin": null,
            "max_height": null,
            "max_width": null,
            "min_height": null,
            "min_width": null,
            "object_fit": null,
            "object_position": null,
            "order": null,
            "overflow": null,
            "overflow_x": null,
            "overflow_y": null,
            "padding": null,
            "right": null,
            "top": null,
            "visibility": null,
            "width": null
          }
        },
        "bc3570859a7749aa93b3789e4b2cf552": {
          "model_module": "@jupyter-widgets/controls",
          "model_name": "ProgressStyleModel",
          "model_module_version": "1.5.0",
          "state": {
            "_model_module": "@jupyter-widgets/controls",
            "_model_module_version": "1.5.0",
            "_model_name": "ProgressStyleModel",
            "_view_count": null,
            "_view_module": "@jupyter-widgets/base",
            "_view_module_version": "1.2.0",
            "_view_name": "StyleView",
            "bar_color": null,
            "description_width": ""
          }
        },
        "63ea67f767684531a3e819cf1fe021d6": {
          "model_module": "@jupyter-widgets/base",
          "model_name": "LayoutModel",
          "model_module_version": "1.2.0",
          "state": {
            "_model_module": "@jupyter-widgets/base",
            "_model_module_version": "1.2.0",
            "_model_name": "LayoutModel",
            "_view_count": null,
            "_view_module": "@jupyter-widgets/base",
            "_view_module_version": "1.2.0",
            "_view_name": "LayoutView",
            "align_content": null,
            "align_items": null,
            "align_self": null,
            "border": null,
            "bottom": null,
            "display": null,
            "flex": null,
            "flex_flow": null,
            "grid_area": null,
            "grid_auto_columns": null,
            "grid_auto_flow": null,
            "grid_auto_rows": null,
            "grid_column": null,
            "grid_gap": null,
            "grid_row": null,
            "grid_template_areas": null,
            "grid_template_columns": null,
            "grid_template_rows": null,
            "height": null,
            "justify_content": null,
            "justify_items": null,
            "left": null,
            "margin": null,
            "max_height": null,
            "max_width": null,
            "min_height": null,
            "min_width": null,
            "object_fit": null,
            "object_position": null,
            "order": null,
            "overflow": null,
            "overflow_x": null,
            "overflow_y": null,
            "padding": null,
            "right": null,
            "top": null,
            "visibility": null,
            "width": null
          }
        },
        "d83e3263007a4d23a6a4097a3a63fe16": {
          "model_module": "@jupyter-widgets/controls",
          "model_name": "DescriptionStyleModel",
          "model_module_version": "1.5.0",
          "state": {
            "_model_module": "@jupyter-widgets/controls",
            "_model_module_version": "1.5.0",
            "_model_name": "DescriptionStyleModel",
            "_view_count": null,
            "_view_module": "@jupyter-widgets/base",
            "_view_module_version": "1.2.0",
            "_view_name": "StyleView",
            "description_width": ""
          }
        }
      }
    }
  },
  "cells": [
    {
      "cell_type": "markdown",
      "source": [
        "#Preparecion del entorno"
      ],
      "metadata": {
        "id": "Wvbpk8hVQ-TQ"
      }
    },
    {
      "cell_type": "code",
      "source": [
        "!pip install pydub"
      ],
      "metadata": {
        "colab": {
          "base_uri": "https://localhost:8080/"
        },
        "id": "nc-1PnWYX6eJ",
        "outputId": "85e0a812-f04d-4d7e-c469-9e445e3b7408"
      },
      "execution_count": 59,
      "outputs": [
        {
          "output_type": "stream",
          "name": "stdout",
          "text": [
            "Requirement already satisfied: pydub in /usr/local/lib/python3.10/dist-packages (0.25.1)\n"
          ]
        }
      ]
    },
    {
      "cell_type": "code",
      "execution_count": 60,
      "metadata": {
        "id": "mhetFMsl1iRM"
      },
      "outputs": [],
      "source": [
        "import os\n",
        "import pathlib\n",
        "\n",
        "import matplotlib.pyplot as plt\n",
        "import numpy as np\n",
        "import seaborn as sns\n",
        "import tensorflow as tf\n",
        "\n",
        "from tensorflow.keras import layers\n",
        "from tensorflow.keras import models\n",
        "from IPython import display\n",
        "\n",
        "import tensorflow_datasets as tfds\n",
        "import shutil\n",
        "\n",
        "tf.config.run_functions_eagerly(True)\n",
        "\n",
        "# Set the seed value for experiment reproducibility.\n",
        "seed = 42\n",
        "tf.random.set_seed(seed)\n",
        "np.random.seed(seed)"
      ]
    },
    {
      "cell_type": "code",
      "source": [
        "# Configurar para que TensorFlow utilice la GPU por defecto\n",
        "gpus = tf.config.experimental.list_physical_devices('GPU')\n",
        "if gpus:\n",
        "    try:\n",
        "        # Configurar para que TensorFlow asigne memoria dinámicamente\n",
        "        for gpu in gpus:\n",
        "            tf.config.experimental.set_memory_growth(gpu, True)\n",
        "        # Especificar la GPU por defecto\n",
        "        logical_gpus = tf.config.experimental.list_logical_devices('GPU')\n",
        "        print(len(gpus), \"Physical GPUs,\", len(logical_gpus), \"Logical GPUs\")\n",
        "    except RuntimeError as e:\n",
        "        # Manejar error\n",
        "        print(e)"
      ],
      "metadata": {
        "id": "WvTkhwQRXAtU",
        "colab": {
          "base_uri": "https://localhost:8080/"
        },
        "outputId": "67f234eb-79ae-49ee-ee96-8f6fc565ba91"
      },
      "execution_count": 61,
      "outputs": [
        {
          "output_type": "stream",
          "name": "stdout",
          "text": [
            "1 Physical GPUs, 1 Logical GPUs\n"
          ]
        }
      ]
    },
    {
      "cell_type": "code",
      "source": [
        "data_dir = './data/'\n",
        "\n",
        "os.makedirs(data_dir, exist_ok=True)\n",
        "\n",
        "dataset_name = 'spoken_digit'\n",
        "ds_info = tfds.builder(dataset_name).info\n",
        "\n",
        "tfds.load(dataset_name, data_dir=data_dir)"
      ],
      "metadata": {
        "colab": {
          "base_uri": "https://localhost:8080/",
          "height": 0,
          "referenced_widgets": [
            "3ab040db1db84f848746fbe0eb0484ca",
            "8d7836119e53408eae6a4d2aac5f6991",
            "6712c2f5f8884f50bb09dd8524c8e639",
            "66b5e1eab0ea4f93b05ef554f040de3b",
            "c9b6f168a1d44c7f8bf4fee94c390e3d",
            "a845b0eeaac5424783bfb6e1bd670edb",
            "38a64fef74a740359430b61d7432484c",
            "0452e4cd20aa4d6ebd405ee6470e34b9",
            "64acd9064e4944e8ac9de2bc66689954",
            "e60ff7793d7d4b9f9ae705aa8db077d8",
            "267b37ee62cb4000a1d0d41883b584a4",
            "c015f32a63d1423e9419e5a89c3c44a9",
            "490249b05ae94d978238a08ef4af21fa",
            "e908ca3aff54420bb3076c4b0dec2ef3",
            "c8771c7ebd3d4ff39551c7cf1cc5860f",
            "f991ce1e55e246d1b66eefaa6eb36371",
            "553b39df9308432eadf3240cb955a1e8",
            "501bf443641b4dab9299f7da0eff35e9",
            "0207572895c644baa51fde9c1481e01d",
            "52b9e2ee56a34ea1ba5222c6e88808fc",
            "e2912fcfbac94959900f7c65604f7d79",
            "e3f44da6419841a79b042c758332f7b9",
            "b85843ce28964e7c95ea84ac6f719c4d",
            "947fcea81aba45169cf611d984a1bd7e",
            "00e7f3402abb4d0ca9b47d946727e25b",
            "aba65dd09c1d457398619e0afa5e02ca",
            "338966ad5d26413e97e8c24c6178c0df",
            "c00a588277c04292aaecebdd9e623dd9",
            "c80a0137fbfc4f01847a7eccb5213eeb",
            "f9515845ec924c60b975b3dc256950a7",
            "9f78740b1e22475996dfe48d2d490b4e",
            "4d6dab034fc74363a391c9a7bfaafc3d",
            "4036a320865344a1b170797ca3098ca1",
            "3daa833725434b00acd868272334554b",
            "b9bc27d3b96a4b8799a5bd281fb1cf36",
            "6c0c8d5332b8437a82b99b576f3e069b",
            "95a71668f8cc4238aaf61b4cd2c75be5",
            "c315bb3b04cb4773833ea37df0820a04",
            "76ec3b54b021408197522be5e2b3bee3",
            "df88f3124a7842e9a248bb2472057d11",
            "6fa3d37f46bf4113a6674510d6813bca",
            "a7c46e5908154f1cac033ff975975114",
            "7e70a049f030499d88eb18dac49e100c",
            "b095170c96e14d74bbffc3da7f9d7cbb",
            "efd23d7077e24898b05837a9aa5baacd",
            "9d5bb28b6873454e9dd80be5bd467f4a",
            "961bc49f04b14dae8454938bfa7d8acb",
            "1751ce130ccc4a7a9b440c9d6a32f992",
            "ddee46ccf30c476d9cdc7883ac9ad4e2",
            "8aaab800a4574b39ab3bd3e86505cef5",
            "59274454ce2348058617f2ace8bcaefb",
            "56d77d5101f643bd86f7989548581afd",
            "930c4cea07e44411bdd8244b2b06970d",
            "0b73d598552e4b7ab1910188e4316aac",
            "a677101f9f4f48f5971f993071919534",
            "759b6491741e4d6b9049bee9bdc87360",
            "3a80cf82674a46398e7db61545a72fb1",
            "f1048436daa64dd38af515c18a9f3ef9",
            "efb4eaa540b14cb8a88c2398f3592187",
            "a5eefbd435244e0f9ca7380b6aff6011",
            "3286e4b1f1bb4b82ab0bc6c6c99fff3a",
            "1ada33d8724849a8bbdb7946409c5ead",
            "2829442120494b4c8ef33f4ffc40169f",
            "bc3570859a7749aa93b3789e4b2cf552",
            "63ea67f767684531a3e819cf1fe021d6",
            "d83e3263007a4d23a6a4097a3a63fe16"
          ]
        },
        "id": "kbvR-APvTyxo",
        "outputId": "7b35d6fe-ee7b-4603-857c-b69d176c0373"
      },
      "execution_count": 62,
      "outputs": [
        {
          "output_type": "stream",
          "name": "stdout",
          "text": [
            "Downloading and preparing dataset 11.42 MiB (download: 11.42 MiB, generated: 45.68 MiB, total: 57.10 MiB) to ./data/spoken_digit/1.0.9...\n"
          ]
        },
        {
          "output_type": "display_data",
          "data": {
            "text/plain": [
              "Dl Completed...: 0 url [00:00, ? url/s]"
            ],
            "application/vnd.jupyter.widget-view+json": {
              "version_major": 2,
              "version_minor": 0,
              "model_id": "3ab040db1db84f848746fbe0eb0484ca"
            }
          },
          "metadata": {}
        },
        {
          "output_type": "display_data",
          "data": {
            "text/plain": [
              "Dl Size...: 0 MiB [00:00, ? MiB/s]"
            ],
            "application/vnd.jupyter.widget-view+json": {
              "version_major": 2,
              "version_minor": 0,
              "model_id": "c015f32a63d1423e9419e5a89c3c44a9"
            }
          },
          "metadata": {}
        },
        {
          "output_type": "display_data",
          "data": {
            "text/plain": [
              "Extraction completed...: 0 file [00:00, ? file/s]"
            ],
            "application/vnd.jupyter.widget-view+json": {
              "version_major": 2,
              "version_minor": 0,
              "model_id": "b85843ce28964e7c95ea84ac6f719c4d"
            }
          },
          "metadata": {}
        },
        {
          "output_type": "display_data",
          "data": {
            "text/plain": [
              "Generating splits...:   0%|          | 0/1 [00:00<?, ? splits/s]"
            ],
            "application/vnd.jupyter.widget-view+json": {
              "version_major": 2,
              "version_minor": 0,
              "model_id": "3daa833725434b00acd868272334554b"
            }
          },
          "metadata": {}
        },
        {
          "output_type": "display_data",
          "data": {
            "text/plain": [
              "Generating train examples...:   0%|          | 0/2500 [00:00<?, ? examples/s]"
            ],
            "application/vnd.jupyter.widget-view+json": {
              "version_major": 2,
              "version_minor": 0,
              "model_id": "efd23d7077e24898b05837a9aa5baacd"
            }
          },
          "metadata": {}
        },
        {
          "output_type": "display_data",
          "data": {
            "text/plain": [
              "Shuffling data/spoken_digit/incomplete.BTVIBT_1.0.9/spoken_digit-train.tfrecord*...:   0%|          | 0/2500 […"
            ],
            "application/vnd.jupyter.widget-view+json": {
              "version_major": 2,
              "version_minor": 0,
              "model_id": "759b6491741e4d6b9049bee9bdc87360"
            }
          },
          "metadata": {}
        },
        {
          "output_type": "stream",
          "name": "stderr",
          "text": [
            "WARNING:absl:`FeatureConnector.dtype` is deprecated. Please change your code to use NumPy with the field `FeatureConnector.np_dtype` or use TensorFlow with the field `FeatureConnector.tf_dtype`.\n"
          ]
        },
        {
          "output_type": "stream",
          "name": "stdout",
          "text": [
            "Dataset spoken_digit downloaded and prepared to ./data/spoken_digit/1.0.9. Subsequent calls will reuse this data.\n"
          ]
        },
        {
          "output_type": "stream",
          "name": "stderr",
          "text": [
            "/usr/local/lib/python3.10/dist-packages/tensorflow/python/data/ops/structured_function.py:258: UserWarning: Even though the `tf.config.experimental_run_functions_eagerly` option is set, this option does not apply to tf.data functions. To force eager execution of tf.data functions, please use `tf.data.experimental.enable_debug_mode()`.\n",
            "  warnings.warn(\n"
          ]
        },
        {
          "output_type": "execute_result",
          "data": {
            "text/plain": [
              "{Split('train'): <_PrefetchDataset element_spec={'audio': TensorSpec(shape=(None,), dtype=tf.int64, name=None), 'audio/filename': TensorSpec(shape=(), dtype=tf.string, name=None), 'label': TensorSpec(shape=(), dtype=tf.int64, name=None)}>}"
            ]
          },
          "metadata": {},
          "execution_count": 62
        }
      ]
    },
    {
      "cell_type": "code",
      "source": [
        "!mv /content/data/downloads/extracted/TAR_GZ.Jako_free-spok-digi-data_arch_v1.0.9i8RM3hKdUFy7trNlwJ-AxmPyqndXivxjTmFBovhxAMA.tar.gz/free-spoken-digit-dataset-1.0.9/recordings/* /content/data/\n",
        "!rm -rf /content/data/*/"
      ],
      "metadata": {
        "id": "8Zqh2dMcVipE"
      },
      "execution_count": 63,
      "outputs": []
    },
    {
      "cell_type": "code",
      "source": [
        "for i in range(10):\n",
        "    folder_name = os.path.join(data_dir, str(i))\n",
        "    os.makedirs(folder_name, exist_ok=True)"
      ],
      "metadata": {
        "id": "isFEZxDVWCzf"
      },
      "execution_count": 64,
      "outputs": []
    },
    {
      "cell_type": "code",
      "source": [
        "files = [f for f in os.listdir(data_dir) if f.endswith('.wav')]\n",
        "\n",
        "for filename in files:\n",
        "    first_char = filename[0]\n",
        "\n",
        "    destination_dir = os.path.join(data_dir, first_char)\n",
        "    os.makedirs(destination_dir, exist_ok=True)\n",
        "\n",
        "    source_path = os.path.join(data_dir, filename)\n",
        "    destination_path = os.path.join(destination_dir, filename)\n",
        "\n",
        "    shutil.move(source_path, destination_path)"
      ],
      "metadata": {
        "id": "cOYo0SVxXysK"
      },
      "execution_count": 65,
      "outputs": []
    },
    {
      "cell_type": "markdown",
      "source": [
        "#Preparacion del dataset"
      ],
      "metadata": {
        "id": "FxQL5Y0rR4pu"
      }
    },
    {
      "cell_type": "markdown",
      "source": [
        "Observamos la informacion del dataset"
      ],
      "metadata": {
        "id": "2D-C09dCSC8m"
      }
    },
    {
      "cell_type": "code",
      "source": [
        "print(ds_info)"
      ],
      "metadata": {
        "colab": {
          "base_uri": "https://localhost:8080/"
        },
        "id": "UiAcgLB_RcoR",
        "outputId": "a5a78067-2af7-4628-b0ef-7bbef0d61c98"
      },
      "execution_count": 66,
      "outputs": [
        {
          "output_type": "stream",
          "name": "stdout",
          "text": [
            "tfds.core.DatasetInfo(\n",
            "    name='spoken_digit',\n",
            "    full_name='spoken_digit/1.0.9',\n",
            "    description=\"\"\"\n",
            "    A free audio dataset of spoken digits. Think MNIST for audio.\n",
            "    \n",
            "    A simple audio/speech dataset consisting of recordings of spoken digits in wav\n",
            "    files at 8kHz.\n",
            "    The recordings are trimmed so that they have near minimal silence at the\n",
            "    beginnings and ends.\n",
            "    \n",
            "    5 speakers\\\n",
            "    2,500 recordings (50 of each digit per speaker)\\\n",
            "    English pronunciations\n",
            "    \n",
            "    Files are named in the following format: {digitLabel}_{speakerName}_{index}.wav\n",
            "    \"\"\",\n",
            "    homepage='https://github.com/Jakobovski/free-spoken-digit-dataset',\n",
            "    data_dir=PosixGPath('/tmp/tmpi9fh4poitfds'),\n",
            "    file_format=tfrecord,\n",
            "    download_size=11.42 MiB,\n",
            "    dataset_size=45.68 MiB,\n",
            "    features=FeaturesDict({\n",
            "        'audio': Audio(shape=(None,), dtype=int64),\n",
            "        'audio/filename': Text(shape=(), dtype=string),\n",
            "        'label': ClassLabel(shape=(), dtype=int64, num_classes=10),\n",
            "    }),\n",
            "    supervised_keys=('audio', 'label'),\n",
            "    disable_shuffling=False,\n",
            "    splits={\n",
            "        'train': <SplitInfo num_examples=2500, num_shards=1>,\n",
            "    },\n",
            "    citation=\"\"\"@ONLINE {Free Spoken Digit Dataset,\n",
            "        author = \"Zohar Jackson\",\n",
            "        title  = \"Spoken_Digit\",\n",
            "        year   = \"2016\",\n",
            "        url    = \"https://github.com/Jakobovski/free-spoken-digit-dataset\"\n",
            "    }\"\"\",\n",
            ")\n"
          ]
        }
      ]
    },
    {
      "cell_type": "markdown",
      "source": [
        "Cargamos los datos en train y test a partir de las carpetas"
      ],
      "metadata": {
        "id": "RyED21NuSWm4"
      }
    },
    {
      "cell_type": "code",
      "source": [
        "train_ds, val_ds = tf.keras.utils.audio_dataset_from_directory(\n",
        "    directory=data_dir,\n",
        "    batch_size=32,\n",
        "    validation_split=0.2,\n",
        "    seed=0,\n",
        "    output_sequence_length=8000,\n",
        "    subset='both')\n",
        "\n",
        "label_names = np.array(train_ds.class_names)\n",
        "\n",
        "print(\"label names:\", label_names)\n",
        "\n",
        "train_ds.element_spec"
      ],
      "metadata": {
        "colab": {
          "base_uri": "https://localhost:8080/"
        },
        "id": "CppdQci9ZHbO",
        "outputId": "86c3ecc9-6b6f-4e29-9750-b7ec8fb9d543"
      },
      "execution_count": 67,
      "outputs": [
        {
          "output_type": "stream",
          "name": "stdout",
          "text": [
            "Found 2500 files belonging to 10 classes.\n",
            "Using 2000 files for training.\n",
            "Using 500 files for validation.\n",
            "label names: ['0' '1' '2' '3' '4' '5' '6' '7' '8' '9']\n"
          ]
        },
        {
          "output_type": "execute_result",
          "data": {
            "text/plain": [
              "(TensorSpec(shape=(None, 8000, None), dtype=tf.float32, name=None),\n",
              " TensorSpec(shape=(None,), dtype=tf.int32, name=None))"
            ]
          },
          "metadata": {},
          "execution_count": 67
        }
      ]
    },
    {
      "cell_type": "markdown",
      "source": [
        "Observamos que disponemos de 2000 archivos de audio para entrenamiento y 500 para validacion todos divididos en 10 clases (numeros del 0 al 9).\n",
        "\n",
        "Los datos de las labels son numericos."
      ],
      "metadata": {
        "id": "S73XggsFSxaX"
      }
    },
    {
      "cell_type": "code",
      "source": [
        "def squeeze(audio, labels):\n",
        "  audio = tf.squeeze(audio, axis=-1)\n",
        "  return audio, labels\n",
        "\n",
        "train_ds = train_ds.map(squeeze, tf.data.AUTOTUNE)\n",
        "val_ds = val_ds.map(squeeze, tf.data.AUTOTUNE)"
      ],
      "metadata": {
        "id": "R3SNSCyjZlr5"
      },
      "execution_count": 68,
      "outputs": []
    },
    {
      "cell_type": "markdown",
      "source": [
        "Aplanamos el audio."
      ],
      "metadata": {
        "id": "9RdUZsFDAOIb"
      }
    },
    {
      "cell_type": "code",
      "source": [
        "example_audio, example_labels = next(iter(train_ds))\n",
        "\n",
        "print(example_audio.shape)\n",
        "print(example_labels.shape)"
      ],
      "metadata": {
        "colab": {
          "base_uri": "https://localhost:8080/"
        },
        "id": "nFP3UOcEZpn2",
        "outputId": "18d393af-fea3-48ab-ca27-40ce6c3d10ad"
      },
      "execution_count": 69,
      "outputs": [
        {
          "output_type": "stream",
          "name": "stdout",
          "text": [
            "(32, 8000)\n",
            "(32,)\n"
          ]
        }
      ]
    },
    {
      "cell_type": "markdown",
      "source": [
        "Observamos el tamaño de los audios y las labels. Corroboramos que tengan la misma longitud y el mismo batch."
      ],
      "metadata": {
        "id": "flR_kuZBATpZ"
      }
    },
    {
      "cell_type": "code",
      "source": [
        "plt.figure(figsize=(16, 10))\n",
        "rows = 3\n",
        "cols = 3\n",
        "n = rows * cols\n",
        "for i in range(n):\n",
        "  plt.subplot(rows, cols, i+1)\n",
        "  audio_signal = example_audio[i]\n",
        "  plt.plot(audio_signal)\n",
        "  plt.title(label_names[example_labels[i]])\n",
        "  plt.yticks(np.arange(-1.2, 1.2, 0.2))\n",
        "  plt.ylim([-1.1, 1.1])"
      ],
      "metadata": {
        "colab": {
          "base_uri": "https://localhost:8080/",
          "height": 0
        },
        "id": "zSR0IsvbZvA3",
        "outputId": "a282953e-50f0-42c1-e415-a2dac871736a"
      },
      "execution_count": 70,
      "outputs": [
        {
          "output_type": "display_data",
          "data": {
            "text/plain": [
              "<Figure size 1600x1000 with 9 Axes>"
            ],
            "image/png": "[encoded data removed]"
          },
          "metadata": {}
        }
      ]
    },
    {
      "cell_type": "markdown",
      "source": [
        "Realizamos unos gráficos para visualizar los valores del dataset."
      ],
      "metadata": {
        "id": "D-vm2uGXBTVx"
      }
    },
    {
      "cell_type": "code",
      "source": [
        "def get_spectrogram(waveform):\n",
        "  spectrogram = tf.signal.stft(\n",
        "      waveform, frame_length=255, frame_step=128)\n",
        "  spectrogram = tf.abs(spectrogram)\n",
        "  spectrogram = spectrogram[..., tf.newaxis]\n",
        "  return spectrogram\n",
        "\n",
        "def plot_spectrogram(spectrogram, ax):\n",
        "  if len(spectrogram.shape) > 2:\n",
        "    assert len(spectrogram.shape) == 3\n",
        "    spectrogram = np.squeeze(spectrogram, axis=-1)\n",
        "  log_spec = np.log(spectrogram.T + np.finfo(float).eps)\n",
        "  height = log_spec.shape[0]\n",
        "  width = log_spec.shape[1]\n",
        "  X = np.linspace(0, np.size(spectrogram), num=width, dtype=int)\n",
        "  Y = range(height)\n",
        "  ax.pcolormesh(X, Y, log_spec)\n",
        "\n",
        "def plot_audio_and_spectrogram(audio, label):\n",
        "    spectrogram = get_spectrogram(audio)\n",
        "\n",
        "    fig, axes = plt.subplots(2, figsize=(12, 8))\n",
        "    timescale = np.arange(audio.shape[0])\n",
        "\n",
        "    axes[0].plot(timescale, audio.numpy())\n",
        "    axes[0].set_title('Waveform')\n",
        "    axes[0].set_xlim([0, audio.shape[0]])\n",
        "\n",
        "    plot_spectrogram(spectrogram.numpy(), axes[1])\n",
        "    axes[1].set_title('Spectrogram')\n",
        "    axes[1].set_xlim([0, audio.shape[0]])\n",
        "\n",
        "    plt.suptitle(label.title())\n",
        "    plt.tight_layout()\n",
        "    plt.show()"
      ],
      "metadata": {
        "id": "zN4HkVfyDXZz"
      },
      "execution_count": 71,
      "outputs": []
    },
    {
      "cell_type": "markdown",
      "source": [
        "Definimos una funcion para general un espectograma de un audio y las funciones correspondientes para graficorlos junto al audio."
      ],
      "metadata": {
        "id": "yVpuYfJLFBpD"
      }
    },
    {
      "cell_type": "code",
      "source": [
        "N = 20\n",
        "\n",
        "label = label_names[example_labels[N]]\n",
        "waveform = example_audio[N]\n",
        "\n",
        "print('Label:', label)\n",
        "print('Waveform shape:', waveform.shape)\n",
        "print('Audio playback')\n",
        "display.display(display.Audio(waveform, rate=8000))\n",
        "\n",
        "plot_audio_and_spectrogram(waveform, label)"
      ],
      "metadata": {
        "colab": {
          "base_uri": "https://localhost:8080/",
          "height": 0
        },
        "id": "bQ9dSZS-D1OS",
        "outputId": "3f8a0bab-c56a-4846-870d-d31c06cfe331"
      },
      "execution_count": 72,
      "outputs": [
        {
          "output_type": "stream",
          "name": "stdout",
          "text": [
            "Label: 8\n",
            "Waveform shape: (8000,)\n",
            "Audio playback\n"
          ]
        },
        {
          "output_type": "display_data",
          "data": {
            "text/plain": [
              "<IPython.lib.display.Audio object>"
            ],
            "text/html": [
              "\n",
              "                <audio  controls=\"controls\" >\n",
              "                    <source src=\"data:audio/wav;base64,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\" type=\"audio/wav\" />\n",
              "                    Your browser does not support the audio element.\n",
              "                </audio>\n",
              "              "
            ]
          },
          "metadata": {}
        },
        {
          "output_type": "display_data",
          "data": {
            "text/plain": [
              "<Figure size 1200x800 with 2 Axes>"
            ],
            "image/png": "[encoded data removed]"
          },
          "metadata": {}
        }
      ]
    },
    {
      "cell_type": "markdown",
      "source": [
        "Observamos un ejemplo de un audio con su label, shape, valores y espectograma."
      ],
      "metadata": {
        "id": "QoqHyeXjF43a"
      }
    },
    {
      "cell_type": "code",
      "source": [
        "def make_spec_ds(ds):\n",
        "  return ds.map(\n",
        "      map_func=lambda audio,label: (get_spectrogram(audio), label),\n",
        "      num_parallel_calls=tf.data.AUTOTUNE)"
      ],
      "metadata": {
        "id": "hWRNoiCGar_4"
      },
      "execution_count": 73,
      "outputs": []
    },
    {
      "cell_type": "markdown",
      "source": [
        "Creamos una funcion para generar los dataset con espectogramas a partir de un dataset con audios."
      ],
      "metadata": {
        "id": "ETGsYRUANXbc"
      }
    },
    {
      "cell_type": "code",
      "source": [
        "train_spectrogram_ds = make_spec_ds(train_ds)\n",
        "val_spectrogram_ds = make_spec_ds(val_ds)\n",
        "\n",
        "train_spectrogram_ds = train_spectrogram_ds.cache().shuffle(10000).prefetch(tf.data.AUTOTUNE)\n",
        "val_spectrogram_ds = val_spectrogram_ds.cache().prefetch(tf.data.AUTOTUNE)"
      ],
      "metadata": {
        "id": "lamUed9mascI"
      },
      "execution_count": 74,
      "outputs": []
    },
    {
      "cell_type": "markdown",
      "source": [
        "Generamos el dataframe de entrenamiento y validacion con los espactogramas."
      ],
      "metadata": {
        "id": "ff8aNPQPOHUd"
      }
    },
    {
      "cell_type": "code",
      "source": [
        "example_spectrograms, example_spect_labels = next(iter(train_spectrogram_ds))\n",
        "\n",
        "rows = 3\n",
        "cols = 3\n",
        "n = rows*cols\n",
        "fig, axes = plt.subplots(rows, cols, figsize=(16, 9))\n",
        "\n",
        "for i in range(n):\n",
        "    r = i // cols\n",
        "    c = i % cols\n",
        "    ax = axes[r][c]\n",
        "    plot_spectrogram(example_spectrograms[i].numpy(), ax)\n",
        "    ax.set_title(label_names[example_spect_labels[i].numpy()])\n",
        "\n",
        "plt.show()"
      ],
      "metadata": {
        "colab": {
          "base_uri": "https://localhost:8080/",
          "height": 0
        },
        "id": "x1PczWCla0wC",
        "outputId": "a4b55176-cad7-4647-9f5d-5171d03e6aa5"
      },
      "execution_count": 75,
      "outputs": [
        {
          "output_type": "display_data",
          "data": {
            "text/plain": [
              "<Figure size 1600x900 with 9 Axes>"
            ],
            "image/png": "[encoded data removed]"
          },
          "metadata": {}
        }
      ]
    },
    {
      "cell_type": "markdown",
      "source": [
        "#Modelos"
      ],
      "metadata": {
        "id": "oW5I2nlyPFR0"
      }
    },
    {
      "cell_type": "markdown",
      "source": [
        "##Red neuronal combolucional"
      ],
      "metadata": {
        "id": "2v8nhBe8PIKU"
      }
    },
    {
      "cell_type": "markdown",
      "source": [
        "Obtenemos la forma de entrada del modelo a partir del shape de los espectrogramas de ejemplo."
      ],
      "metadata": {
        "id": "_fb_y4hDadEs"
      }
    },
    {
      "cell_type": "code",
      "source": [
        "input_shape = example_spectrograms.shape[1:]\n",
        "print('Input shape:', input_shape)"
      ],
      "metadata": {
        "colab": {
          "base_uri": "https://localhost:8080/"
        },
        "id": "52EtXB26V385",
        "outputId": "a47a0d88-fe7b-46f9-a680-72f36c5e8d63"
      },
      "execution_count": 76,
      "outputs": [
        {
          "output_type": "stream",
          "name": "stdout",
          "text": [
            "Input shape: (61, 129, 1)\n"
          ]
        }
      ]
    },
    {
      "cell_type": "markdown",
      "source": [
        "Obtenemos el numero de labels para la salida del modelo."
      ],
      "metadata": {
        "id": "rjwsyqSPajXS"
      }
    },
    {
      "cell_type": "code",
      "source": [
        "num_labels = len(label_names)\n",
        "print('Number of labels:', num_labels)"
      ],
      "metadata": {
        "colab": {
          "base_uri": "https://localhost:8080/"
        },
        "id": "KO8AUGrpYBwL",
        "outputId": "cd9493e7-be85-4cee-a2e6-bf523bc165ef"
      },
      "execution_count": 77,
      "outputs": [
        {
          "output_type": "stream",
          "name": "stdout",
          "text": [
            "Number of labels: 10\n"
          ]
        }
      ]
    },
    {
      "cell_type": "markdown",
      "source": [
        "Crea una capa de normalización y la adaptamos a los datos del conjunto de espectrogramas de entrenamiento.\n"
      ],
      "metadata": {
        "id": "sudt77sSa9P7"
      }
    },
    {
      "cell_type": "code",
      "source": [
        "norm_layer = layers.Normalization()\n",
        "norm_layer.adapt(data=train_spectrogram_ds.map(map_func=lambda spec, label: spec))"
      ],
      "metadata": {
        "id": "xJDmPhvtYJaV"
      },
      "execution_count": 78,
      "outputs": []
    },
    {
      "cell_type": "markdown",
      "source": [
        "Definimos el modelo de la red neuronal convolucional."
      ],
      "metadata": {
        "id": "qqTkMDHjbLf6"
      }
    },
    {
      "cell_type": "code",
      "source": [
        "model_combolucion = models.Sequential([\n",
        "    layers.Input(shape=input_shape),\n",
        "    layers.Resizing(32, 32),\n",
        "    norm_layer,\n",
        "    layers.Conv2D(32, 3, activation='relu'),\n",
        "    layers.Conv2D(64, 3, activation='relu'),\n",
        "    layers.MaxPooling2D(),\n",
        "    layers.Dropout(0.25),\n",
        "    layers.Flatten(),\n",
        "    layers.Dense(128, activation='relu'),\n",
        "    layers.Dropout(0.5),\n",
        "    layers.Dense(num_labels),\n",
        "])"
      ],
      "metadata": {
        "id": "h75pzifGa0tu"
      },
      "execution_count": 79,
      "outputs": []
    },
    {
      "cell_type": "markdown",
      "source": [
        "Visualizamos la estructura del modelo para entender las capas y los parámetros involucrados."
      ],
      "metadata": {
        "id": "XfP19NcSbW6L"
      }
    },
    {
      "cell_type": "code",
      "source": [
        "model_combolucion.summary()"
      ],
      "metadata": {
        "colab": {
          "base_uri": "https://localhost:8080/"
        },
        "id": "ylaTAytNYOa7",
        "outputId": "331588e5-334f-4477-b519-bfb743dd8902"
      },
      "execution_count": 80,
      "outputs": [
        {
          "output_type": "stream",
          "name": "stdout",
          "text": [
            "Model: \"sequential_2\"\n",
            "_________________________________________________________________\n",
            " Layer (type)                Output Shape              Param #   \n",
            "=================================================================\n",
            " resizing_1 (Resizing)       (None, 32, 32, 1)         0         \n",
            "                                                                 \n",
            " normalization_1 (Normaliza  (None, 32, 32, 1)         3         \n",
            " tion)                                                           \n",
            "                                                                 \n",
            " conv2d_2 (Conv2D)           (None, 30, 30, 32)        320       \n",
            "                                                                 \n",
            " conv2d_3 (Conv2D)           (None, 28, 28, 64)        18496     \n",
            "                                                                 \n",
            " max_pooling2d_1 (MaxPoolin  (None, 14, 14, 64)        0         \n",
            " g2D)                                                            \n",
            "                                                                 \n",
            " dropout_2 (Dropout)         (None, 14, 14, 64)        0         \n",
            "                                                                 \n",
            " flatten_1 (Flatten)         (None, 12544)             0         \n",
            "                                                                 \n",
            " dense_4 (Dense)             (None, 128)               1605760   \n",
            "                                                                 \n",
            " dropout_3 (Dropout)         (None, 128)               0         \n",
            "                                                                 \n",
            " dense_5 (Dense)             (None, 10)                1290      \n",
            "                                                                 \n",
            "=================================================================\n",
            "Total params: 1625869 (6.20 MB)\n",
            "Trainable params: 1625866 (6.20 MB)\n",
            "Non-trainable params: 3 (16.00 Byte)\n",
            "_________________________________________________________________\n"
          ]
        }
      ]
    },
    {
      "cell_type": "markdown",
      "source": [
        "Compilamos el modelo."
      ],
      "metadata": {
        "id": "_eiDWR5oil-d"
      }
    },
    {
      "cell_type": "code",
      "source": [
        "model_combolucion.compile(\n",
        "    optimizer=tf.keras.optimizers.Adam(),\n",
        "    loss=tf.keras.losses.SparseCategoricalCrossentropy(from_logits=True),\n",
        "    metrics=['accuracy']\n",
        ")"
      ],
      "metadata": {
        "id": "SV-ffCFebnBS"
      },
      "execution_count": 81,
      "outputs": []
    },
    {
      "cell_type": "markdown",
      "source": [
        "Implementamos early stopping para detener el entrenamiento si la precisión de validación no mejora después de 10 épocas."
      ],
      "metadata": {
        "id": "-ZSlH_DJixOb"
      }
    },
    {
      "cell_type": "code",
      "source": [
        "early_stopping_callback = tf.keras.callbacks.EarlyStopping(\n",
        "    monitor='val_accuracy',\n",
        "    patience=10,\n",
        "    verbose=1,\n",
        "    restore_best_weights=True\n",
        ")"
      ],
      "metadata": {
        "id": "zbkCT02Ca0rI"
      },
      "execution_count": 82,
      "outputs": []
    },
    {
      "cell_type": "markdown",
      "source": [
        "Entrenamos el modelo utilizando los datasets de espectrogramas de entrenamiento y validación, durante un máximo de 100 épocas, con early stopping activado para evitar el sobreajuste."
      ],
      "metadata": {
        "id": "OXoxl9E9jNtj"
      }
    },
    {
      "cell_type": "code",
      "source": [
        "EPOCHS = 100\n",
        "\n",
        "history_combolucion = model_combolucion.fit(\n",
        "    train_spectrogram_ds,\n",
        "    validation_data=val_spectrogram_ds,\n",
        "    epochs=EPOCHS,\n",
        "    callbacks=[early_stopping_callback]\n",
        ")"
      ],
      "metadata": {
        "colab": {
          "base_uri": "https://localhost:8080/"
        },
        "id": "1Oyi-OTNa0oX",
        "outputId": "690cb58c-3cad-4fc4-c33d-a405e3fdfdbf"
      },
      "execution_count": 83,
      "outputs": [
        {
          "output_type": "stream",
          "name": "stdout",
          "text": [
            "Epoch 1/100\n",
            "63/63 [==============================] - 10s 155ms/step - loss: 1.6989 - accuracy: 0.4055 - val_loss: 1.1305 - val_accuracy: 0.6780\n",
            "Epoch 2/100\n",
            "63/63 [==============================] - 7s 107ms/step - loss: 1.0578 - accuracy: 0.6445 - val_loss: 0.8209 - val_accuracy: 0.7840\n",
            "Epoch 3/100\n",
            "63/63 [==============================] - 3s 54ms/step - loss: 0.8027 - accuracy: 0.7485 - val_loss: 0.5490 - val_accuracy: 0.8600\n",
            "Epoch 4/100\n",
            "63/63 [==============================] - 5s 73ms/step - loss: 0.5831 - accuracy: 0.8130 - val_loss: 0.4718 - val_accuracy: 0.8720\n",
            "Epoch 5/100\n",
            "63/63 [==============================] - 4s 63ms/step - loss: 0.4780 - accuracy: 0.8575 - val_loss: 0.3548 - val_accuracy: 0.9100\n",
            "Epoch 6/100\n",
            "63/63 [==============================] - 4s 56ms/step - loss: 0.3525 - accuracy: 0.8965 - val_loss: 0.3341 - val_accuracy: 0.9120\n",
            "Epoch 7/100\n",
            "63/63 [==============================] - 3s 55ms/step - loss: 0.3069 - accuracy: 0.9060 - val_loss: 0.2717 - val_accuracy: 0.9180\n",
            "Epoch 8/100\n",
            "63/63 [==============================] - 4s 72ms/step - loss: 0.2675 - accuracy: 0.9275 - val_loss: 0.2397 - val_accuracy: 0.9260\n",
            "Epoch 9/100\n",
            "63/63 [==============================] - 4s 56ms/step - loss: 0.2248 - accuracy: 0.9270 - val_loss: 0.3082 - val_accuracy: 0.9320\n",
            "Epoch 10/100\n",
            "63/63 [==============================] - 3s 54ms/step - loss: 0.2158 - accuracy: 0.9355 - val_loss: 0.2251 - val_accuracy: 0.9420\n",
            "Epoch 11/100\n",
            "63/63 [==============================] - 4s 67ms/step - loss: 0.1841 - accuracy: 0.9415 - val_loss: 0.2146 - val_accuracy: 0.9520\n",
            "Epoch 12/100\n",
            "63/63 [==============================] - 3s 54ms/step - loss: 0.1617 - accuracy: 0.9490 - val_loss: 0.2713 - val_accuracy: 0.9380\n",
            "Epoch 13/100\n",
            "63/63 [==============================] - 3s 54ms/step - loss: 0.1415 - accuracy: 0.9575 - val_loss: 0.2600 - val_accuracy: 0.9420\n",
            "Epoch 14/100\n",
            "63/63 [==============================] - 4s 65ms/step - loss: 0.1295 - accuracy: 0.9570 - val_loss: 0.2523 - val_accuracy: 0.9400\n",
            "Epoch 15/100\n",
            "63/63 [==============================] - 3s 53ms/step - loss: 0.1450 - accuracy: 0.9590 - val_loss: 0.2795 - val_accuracy: 0.9320\n",
            "Epoch 16/100\n",
            "63/63 [==============================] - 3s 54ms/step - loss: 0.1112 - accuracy: 0.9675 - val_loss: 0.2084 - val_accuracy: 0.9480\n",
            "Epoch 17/100\n",
            "63/63 [==============================] - 4s 57ms/step - loss: 0.1070 - accuracy: 0.9640 - val_loss: 0.2730 - val_accuracy: 0.9320\n",
            "Epoch 18/100\n",
            "63/63 [==============================] - 3s 53ms/step - loss: 0.0851 - accuracy: 0.9745 - val_loss: 0.1940 - val_accuracy: 0.9520\n",
            "Epoch 19/100\n",
            "63/63 [==============================] - 3s 54ms/step - loss: 0.1057 - accuracy: 0.9670 - val_loss: 0.2509 - val_accuracy: 0.9460\n",
            "Epoch 20/100\n",
            "63/63 [==============================] - 4s 63ms/step - loss: 0.0928 - accuracy: 0.9675 - val_loss: 0.2472 - val_accuracy: 0.9420\n",
            "Epoch 21/100\n",
            "62/63 [============================>.] - ETA: 0s - loss: 0.1081 - accuracy: 0.9715Restoring model weights from the end of the best epoch: 11.\n",
            "63/63 [==============================] - 5s 87ms/step - loss: 0.1070 - accuracy: 0.9720 - val_loss: 0.2596 - val_accuracy: 0.9400\n",
            "Epoch 21: early stopping\n"
          ]
        }
      ]
    },
    {
      "cell_type": "markdown",
      "source": [
        "Visualizamos las curvas de pérdida y precisión durante el entrenamiento y la validación del modelo del modelo."
      ],
      "metadata": {
        "id": "6TV6tk_5ETAi"
      }
    },
    {
      "cell_type": "code",
      "source": [
        "metrics = history_combolucion.history\n",
        "plt.figure(figsize=(16,6))\n",
        "plt.subplot(1,2,1)\n",
        "plt.plot(history_combolucion.epoch, metrics['loss'], metrics['val_loss'])\n",
        "plt.legend(['loss', 'val_loss'])\n",
        "plt.ylim([0, max(plt.ylim())])\n",
        "plt.xlabel('Epoch')\n",
        "plt.ylabel('Loss [CrossEntropy]')\n",
        "\n",
        "plt.subplot(1,2,2)\n",
        "plt.plot(history_combolucion.epoch, 100*np.array(metrics['accuracy']), 100*np.array(metrics['val_accuracy']))\n",
        "plt.legend(['accuracy', 'val_accuracy'])\n",
        "plt.ylim([0, 100])\n",
        "plt.xlabel('Epoch')\n",
        "plt.ylabel('Accuracy [%]')"
      ],
      "metadata": {
        "id": "jzLMvt2ua0e4",
        "colab": {
          "base_uri": "https://localhost:8080/",
          "height": 560
        },
        "outputId": "39043400-2a13-4c00-afcf-b36c7ac11d7b"
      },
      "execution_count": 84,
      "outputs": [
        {
          "output_type": "execute_result",
          "data": {
            "text/plain": [
              "Text(0, 0.5, 'Accuracy [%]')"
            ]
          },
          "metadata": {},
          "execution_count": 84
        },
        {
          "output_type": "display_data",
          "data": {
            "text/plain": [
              "<Figure size 1600x600 with 2 Axes>"
            ],
            "image/png": "[encoded data removed]"
          },
          "metadata": {}
        }
      ]
    },
    {
      "cell_type": "markdown",
      "source": [
        "Realizamos predicciones utilizando el modelo entrenado y obtenemos las etiquetas predichas."
      ],
      "metadata": {
        "id": "fDdff4adEyVu"
      }
    },
    {
      "cell_type": "code",
      "source": [
        "y_pred = model_combolucion.predict(val_spectrogram_ds)\n",
        "y_pred = tf.argmax(y_pred, axis=1)"
      ],
      "metadata": {
        "id": "G2Xx4SjqbdlK",
        "colab": {
          "base_uri": "https://localhost:8080/"
        },
        "outputId": "fb643117-0c3b-4428-f63e-025cd6fd6883"
      },
      "execution_count": 85,
      "outputs": [
        {
          "output_type": "stream",
          "name": "stdout",
          "text": [
            "16/16 [==============================] - 0s 8ms/step\n"
          ]
        }
      ]
    },
    {
      "cell_type": "markdown",
      "source": [
        "Obtenemos las etiquetas verdaderas del conjunto de datos de validación para compararlas con las etiquetas predichas."
      ],
      "metadata": {
        "id": "C6hCYncBE3-b"
      }
    },
    {
      "cell_type": "code",
      "source": [
        "y_true = tf.concat(list(val_spectrogram_ds.map(lambda s,lab: lab)), axis=0)"
      ],
      "metadata": {
        "id": "zpcKQzZWbdf2"
      },
      "execution_count": 86,
      "outputs": []
    },
    {
      "cell_type": "markdown",
      "source": [
        "Generamos la matriz de confusión del modelo para evaluar el rendimiento."
      ],
      "metadata": {
        "id": "R9QDeORRFF8c"
      }
    },
    {
      "cell_type": "code",
      "source": [
        "confusion_mtx = tf.math.confusion_matrix(y_true, y_pred)\n",
        "\n",
        "plt.figure(figsize=(10, 8))\n",
        "sns.heatmap(confusion_mtx,\n",
        "            xticklabels=label_names,\n",
        "            yticklabels=label_names,\n",
        "            annot=True, fmt='g')\n",
        "plt.xlabel('Prediction')\n",
        "plt.ylabel('Label')\n",
        "plt.show()"
      ],
      "metadata": {
        "id": "MEUdW4A9bdc4",
        "colab": {
          "base_uri": "https://localhost:8080/",
          "height": 696
        },
        "outputId": "eb8d8509-8237-45fb-b908-80797b291552"
      },
      "execution_count": 87,
      "outputs": [
        {
          "output_type": "display_data",
          "data": {
            "text/plain": [
              "<Figure size 1000x800 with 2 Axes>"
            ],
            "image/png": "[encoded data removed]"
          },
          "metadata": {}
        }
      ]
    },
    {
      "cell_type": "markdown",
      "source": [
        "Observamos que el modelo predice correctamente la mayoria de los datos con pocos errores."
      ],
      "metadata": {
        "id": "_rZ2bHSgGZZ5"
      }
    },
    {
      "cell_type": "markdown",
      "source": [
        "Realizamos predicciones sobre un ejemplo de audio, mostrando las probabilidades predichas para cada clase y reproduciendo el audio."
      ],
      "metadata": {
        "id": "DnWErHObSxNn"
      }
    },
    {
      "cell_type": "code",
      "source": [
        "x = '/content/data/5/5_jackson_43.wav'\n",
        "x = tf.io.read_file(str(x))\n",
        "x, sample_rate = tf.audio.decode_wav(x, desired_channels=1, desired_samples=8000)\n",
        "x = tf.squeeze(x, axis=-1)\n",
        "waveform = x\n",
        "x = get_spectrogram(x)\n",
        "x = x[tf.newaxis,...]\n",
        "\n",
        "prediction = model_combolucion(x)\n",
        "x_labels = label_names\n",
        "plt.bar(x_labels, tf.nn.softmax(prediction[0]))\n",
        "plt.title('0')\n",
        "plt.show()\n",
        "\n",
        "display.display(display.Audio(waveform, rate=8000))"
      ],
      "metadata": {
        "id": "OK23Zf6qbdaT",
        "colab": {
          "base_uri": "https://localhost:8080/",
          "height": 510
        },
        "outputId": "2d048564-1299-4570-a9f5-b8a1b4b1a928"
      },
      "execution_count": 88,
      "outputs": [
        {
          "output_type": "display_data",
          "data": {
            "text/plain": [
              "<Figure size 640x480 with 1 Axes>"
            ],
            "image/png": "[encoded data removed]"
          },
          "metadata": {}
        },
        {
          "output_type": "display_data",
          "data": {
            "text/plain": [
              "<IPython.lib.display.Audio object>"
            ],
            "text/html": [
              "\n",
              "                <audio  controls=\"controls\" >\n",
              "                    <source src=\"data:audio/wav;base64,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\" type=\"audio/wav\" />\n",
              "                    Your browser does not support the audio element.\n",
              "                </audio>\n",
              "              "
            ]
          },
          "metadata": {}
        }
      ]
    },
    {
      "cell_type": "markdown",
      "source": [
        "Observamos un ejemplo cualquiera y vemos la prediccion de la red neuronal."
      ],
      "metadata": {
        "id": "D8XW1wcvUM15"
      }
    },
    {
      "cell_type": "markdown",
      "source": [
        "#Red neuronal recurrente"
      ],
      "metadata": {
        "id": "dia1qAbpFcxj"
      }
    },
    {
      "cell_type": "markdown",
      "source": [
        "Observamos las dimensiones de los espectogramas."
      ],
      "metadata": {
        "id": "5u2vn3l0XtgE"
      }
    },
    {
      "cell_type": "code",
      "source": [
        "print(next(iter(train_spectrogram_ds))[0].shape[1:])"
      ],
      "metadata": {
        "colab": {
          "base_uri": "https://localhost:8080/"
        },
        "id": "gtxR6D7reEgn",
        "outputId": "c25653fe-1400-4c3b-ab68-149baba85896"
      },
      "execution_count": 89,
      "outputs": [
        {
          "output_type": "stream",
          "name": "stdout",
          "text": [
            "(61, 129, 1)\n"
          ]
        }
      ]
    },
    {
      "cell_type": "markdown",
      "source": [
        "Obtuvimos que individualmente tienen 61 puntos de tiempo, 129 frecuencias y un canal extra que debemos aplanar."
      ],
      "metadata": {
        "id": "9J3Vs35oXzWR"
      }
    },
    {
      "cell_type": "markdown",
      "source": [
        "Definimos el modelo de red neuronal recurrente con una capa LSTM bidireccional para procesar secuencias de entrada."
      ],
      "metadata": {
        "id": "BXU-l6a2YHda"
      }
    },
    {
      "cell_type": "code",
      "source": [
        "model_rnn = tf.keras.Sequential([\n",
        "    tf.keras.layers.Input(shape=(61, 129, 1)),\n",
        "    tf.keras.layers.Reshape((61, 129)),\n",
        "\n",
        "    tf.keras.layers.Bidirectional(tf.keras.layers.LSTM(64)),\n",
        "\n",
        "    tf.keras.layers.Dense(64, activation='relu'),\n",
        "    tf.keras.layers.Dense(10, activation='softmax')\n",
        "])"
      ],
      "metadata": {
        "id": "oeF6klSgYOQ7"
      },
      "execution_count": 90,
      "outputs": []
    },
    {
      "cell_type": "markdown",
      "source": [
        "Mostramos un resumen detallado del modelo"
      ],
      "metadata": {
        "id": "kXQx9TUrYRdB"
      }
    },
    {
      "cell_type": "code",
      "source": [
        "model_rnn.summary()"
      ],
      "metadata": {
        "colab": {
          "base_uri": "https://localhost:8080/"
        },
        "id": "21XG7pB5YS4x",
        "outputId": "f4b02874-e3f6-4f96-bd68-1f1a77e6f052"
      },
      "execution_count": 91,
      "outputs": [
        {
          "output_type": "stream",
          "name": "stdout",
          "text": [
            "Model: \"sequential_3\"\n",
            "_________________________________________________________________\n",
            " Layer (type)                Output Shape              Param #   \n",
            "=================================================================\n",
            " reshape_1 (Reshape)         (None, 61, 129)           0         \n",
            "                                                                 \n",
            " bidirectional_1 (Bidirecti  (None, 128)               99328     \n",
            " onal)                                                           \n",
            "                                                                 \n",
            " dense_6 (Dense)             (None, 64)                8256      \n",
            "                                                                 \n",
            " dense_7 (Dense)             (None, 10)                650       \n",
            "                                                                 \n",
            "=================================================================\n",
            "Total params: 108234 (422.79 KB)\n",
            "Trainable params: 108234 (422.79 KB)\n",
            "Non-trainable params: 0 (0.00 Byte)\n",
            "_________________________________________________________________\n"
          ]
        }
      ]
    },
    {
      "cell_type": "markdown",
      "source": [
        "Compilamos el modelo especificando el optimizador Adam para el ajuste de pesos,\n",
        "la función de pérdida de entropía cruzada escasa para problemas de clasificación multiclase y la métrica de precisión para monitorizar el entrenamiento."
      ],
      "metadata": {
        "id": "r8xE95cxYp2Z"
      }
    },
    {
      "cell_type": "code",
      "source": [
        "model_rnn.compile(\n",
        "    optimizer=tf.keras.optimizers.Adam(),\n",
        "    loss='sparse_categorical_crossentropy',\n",
        "    metrics=['accuracy']\n",
        ")"
      ],
      "metadata": {
        "id": "lxc5bhvNYhsJ"
      },
      "execution_count": 92,
      "outputs": []
    },
    {
      "cell_type": "markdown",
      "source": [
        "Definimos un callback de EarlyStopping que monitorea la precisión en el conjunto de validación.\n",
        "Detendrá el entrenamiento después de 10 épocas si no hay mejora en la precisión, restaurando los mejores pesos del modelo."
      ],
      "metadata": {
        "id": "fYrxpC8zYxYz"
      }
    },
    {
      "cell_type": "code",
      "source": [
        "early_stopping_callback = tf.keras.callbacks.EarlyStopping(\n",
        "    monitor='val_accuracy',\n",
        "    patience=10,\n",
        "    verbose=1,\n",
        "    restore_best_weights=True\n",
        ")"
      ],
      "metadata": {
        "id": "RMPTAWdgdgOg"
      },
      "execution_count": 93,
      "outputs": []
    },
    {
      "cell_type": "markdown",
      "source": [
        "Entrenamos el modelo con el early stopping definido anteriormente"
      ],
      "metadata": {
        "id": "tI2VGePfY844"
      }
    },
    {
      "cell_type": "code",
      "source": [
        "history_RNN = model_rnn.fit(\n",
        "    train_spectrogram_ds,\n",
        "    validation_data=val_spectrogram_ds,\n",
        "    epochs=EPOCHS,\n",
        "    callbacks=[early_stopping_callback]\n",
        ")"
      ],
      "metadata": {
        "colab": {
          "base_uri": "https://localhost:8080/"
        },
        "id": "CjE1mr9QhJtP",
        "outputId": "8801e7fb-da2e-4dbb-df97-d4b44db00418"
      },
      "execution_count": 94,
      "outputs": [
        {
          "output_type": "stream",
          "name": "stdout",
          "text": [
            "Epoch 1/100\n",
            "63/63 [==============================] - 6s 92ms/step - loss: 1.7234 - accuracy: 0.4505 - val_loss: 1.0878 - val_accuracy: 0.6080\n",
            "Epoch 2/100\n",
            "63/63 [==============================] - 5s 76ms/step - loss: 0.7339 - accuracy: 0.7365 - val_loss: 0.5500 - val_accuracy: 0.8380\n",
            "Epoch 3/100\n",
            "63/63 [==============================] - 5s 83ms/step - loss: 0.3894 - accuracy: 0.8835 - val_loss: 0.3544 - val_accuracy: 0.8820\n",
            "Epoch 4/100\n",
            "63/63 [==============================] - 5s 81ms/step - loss: 0.2445 - accuracy: 0.9290 - val_loss: 0.2513 - val_accuracy: 0.9220\n",
            "Epoch 5/100\n",
            "63/63 [==============================] - 5s 87ms/step - loss: 0.1674 - accuracy: 0.9490 - val_loss: 0.1728 - val_accuracy: 0.9440\n",
            "Epoch 6/100\n",
            "63/63 [==============================] - 5s 77ms/step - loss: 0.1580 - accuracy: 0.9545 - val_loss: 0.2300 - val_accuracy: 0.9300\n",
            "Epoch 7/100\n",
            "63/63 [==============================] - 6s 88ms/step - loss: 0.1323 - accuracy: 0.9620 - val_loss: 0.1998 - val_accuracy: 0.9440\n",
            "Epoch 8/100\n",
            "63/63 [==============================] - 5s 77ms/step - loss: 0.0961 - accuracy: 0.9715 - val_loss: 0.1598 - val_accuracy: 0.9580\n",
            "Epoch 9/100\n",
            "63/63 [==============================] - 6s 89ms/step - loss: 0.0687 - accuracy: 0.9825 - val_loss: 0.1739 - val_accuracy: 0.9520\n",
            "Epoch 10/100\n",
            "63/63 [==============================] - 6s 89ms/step - loss: 0.0697 - accuracy: 0.9815 - val_loss: 0.1587 - val_accuracy: 0.9640\n",
            "Epoch 11/100\n",
            "63/63 [==============================] - 6s 88ms/step - loss: 0.0454 - accuracy: 0.9905 - val_loss: 0.1565 - val_accuracy: 0.9540\n",
            "Epoch 12/100\n",
            "63/63 [==============================] - 5s 82ms/step - loss: 0.0475 - accuracy: 0.9870 - val_loss: 0.1358 - val_accuracy: 0.9520\n",
            "Epoch 13/100\n",
            "63/63 [==============================] - 5s 80ms/step - loss: 0.0287 - accuracy: 0.9940 - val_loss: 0.1239 - val_accuracy: 0.9680\n",
            "Epoch 14/100\n",
            "63/63 [==============================] - 5s 78ms/step - loss: 0.0401 - accuracy: 0.9885 - val_loss: 0.1387 - val_accuracy: 0.9540\n",
            "Epoch 15/100\n",
            "63/63 [==============================] - 6s 88ms/step - loss: 0.0491 - accuracy: 0.9855 - val_loss: 0.1261 - val_accuracy: 0.9640\n",
            "Epoch 16/100\n",
            "63/63 [==============================] - 5s 78ms/step - loss: 0.0216 - accuracy: 0.9945 - val_loss: 0.1053 - val_accuracy: 0.9740\n",
            "Epoch 17/100\n",
            "63/63 [==============================] - 6s 89ms/step - loss: 0.0431 - accuracy: 0.9845 - val_loss: 0.1611 - val_accuracy: 0.9580\n",
            "Epoch 18/100\n",
            "63/63 [==============================] - 5s 82ms/step - loss: 0.0223 - accuracy: 0.9945 - val_loss: 0.1092 - val_accuracy: 0.9680\n",
            "Epoch 19/100\n",
            "63/63 [==============================] - 5s 83ms/step - loss: 0.0108 - accuracy: 0.9975 - val_loss: 0.1070 - val_accuracy: 0.9700\n",
            "Epoch 20/100\n",
            "63/63 [==============================] - 5s 77ms/step - loss: 0.0084 - accuracy: 0.9985 - val_loss: 0.1092 - val_accuracy: 0.9740\n",
            "Epoch 21/100\n",
            "63/63 [==============================] - 6s 90ms/step - loss: 0.0088 - accuracy: 0.9975 - val_loss: 0.1138 - val_accuracy: 0.9680\n",
            "Epoch 22/100\n",
            "63/63 [==============================] - 5s 76ms/step - loss: 0.0139 - accuracy: 0.9970 - val_loss: 0.1139 - val_accuracy: 0.9720\n",
            "Epoch 23/100\n",
            "63/63 [==============================] - 6s 89ms/step - loss: 0.0144 - accuracy: 0.9945 - val_loss: 0.1383 - val_accuracy: 0.9680\n",
            "Epoch 24/100\n",
            "63/63 [==============================] - 5s 78ms/step - loss: 0.0058 - accuracy: 0.9990 - val_loss: 0.1243 - val_accuracy: 0.9760\n",
            "Epoch 25/100\n",
            "63/63 [==============================] - 5s 80ms/step - loss: 0.0057 - accuracy: 0.9990 - val_loss: 0.1177 - val_accuracy: 0.9740\n",
            "Epoch 26/100\n",
            "63/63 [==============================] - 5s 87ms/step - loss: 0.0060 - accuracy: 0.9985 - val_loss: 0.1197 - val_accuracy: 0.9720\n",
            "Epoch 27/100\n",
            "63/63 [==============================] - 5s 77ms/step - loss: 0.0053 - accuracy: 0.9980 - val_loss: 0.1419 - val_accuracy: 0.9680\n",
            "Epoch 28/100\n",
            "63/63 [==============================] - 6s 90ms/step - loss: 0.0544 - accuracy: 0.9885 - val_loss: 0.3238 - val_accuracy: 0.9140\n",
            "Epoch 29/100\n",
            "63/63 [==============================] - 5s 82ms/step - loss: 0.1084 - accuracy: 0.9675 - val_loss: 0.1982 - val_accuracy: 0.9460\n",
            "Epoch 30/100\n",
            "63/63 [==============================] - 5s 86ms/step - loss: 0.0280 - accuracy: 0.9935 - val_loss: 0.1292 - val_accuracy: 0.9600\n",
            "Epoch 31/100\n",
            "63/63 [==============================] - 5s 77ms/step - loss: 0.0233 - accuracy: 0.9935 - val_loss: 0.1538 - val_accuracy: 0.9680\n",
            "Epoch 32/100\n",
            "63/63 [==============================] - 6s 88ms/step - loss: 0.0176 - accuracy: 0.9955 - val_loss: 0.2062 - val_accuracy: 0.9480\n",
            "Epoch 33/100\n",
            "63/63 [==============================] - 5s 83ms/step - loss: 0.0158 - accuracy: 0.9965 - val_loss: 0.1644 - val_accuracy: 0.9620\n",
            "Epoch 34/100\n",
            "63/63 [==============================] - ETA: 0s - loss: 0.0057 - accuracy: 0.9995Restoring model weights from the end of the best epoch: 24.\n",
            "63/63 [==============================] - 5s 76ms/step - loss: 0.0057 - accuracy: 0.9995 - val_loss: 0.1291 - val_accuracy: 0.9700\n",
            "Epoch 34: early stopping\n"
          ]
        }
      ]
    },
    {
      "cell_type": "markdown",
      "source": [
        "Visualizamos las curvas de pérdida y precisión durante el entrenamiento del modelo RNN, comparando las métricas de entrenamiento con las de validación para evaluar su rendimiento."
      ],
      "metadata": {
        "id": "HjHr0q4RaxV6"
      }
    },
    {
      "cell_type": "code",
      "source": [
        "metrics = history_RNN.history\n",
        "plt.figure(figsize=(16,6))\n",
        "plt.subplot(1,2,1)\n",
        "plt.plot(history_RNN.epoch, metrics['loss'], metrics['val_loss'])\n",
        "plt.legend(['loss', 'val_loss'])\n",
        "plt.xlabel('Epoch')\n",
        "plt.ylabel('Loss [CrossEntropy]')\n",
        "\n",
        "plt.subplot(1,2,2)\n",
        "plt.plot(history_RNN.epoch, 100*np.array(metrics['accuracy']), 100*np.array(metrics['val_accuracy']))\n",
        "plt.legend(['accuracy', 'val_accuracy'])\n",
        "plt.xlabel('Epoch')\n",
        "plt.ylabel('Accuracy [%]')"
      ],
      "metadata": {
        "colab": {
          "base_uri": "https://localhost:8080/",
          "height": 552
        },
        "id": "UYsAQcUnQAQg",
        "outputId": "351be2a4-a333-4ee9-f94e-691f9f303c80"
      },
      "execution_count": 95,
      "outputs": [
        {
          "output_type": "execute_result",
          "data": {
            "text/plain": [
              "Text(0, 0.5, 'Accuracy [%]')"
            ]
          },
          "metadata": {},
          "execution_count": 95
        },
        {
          "output_type": "display_data",
          "data": {
            "text/plain": [
              "<Figure size 1600x600 with 2 Axes>"
            ],
            "image/png": "[encoded data removed]"
          },
          "metadata": {}
        }
      ]
    },
    {
      "cell_type": "markdown",
      "source": [
        "Realizamos predicciones utilizando el modelo RNN."
      ],
      "metadata": {
        "id": "iez2b-xYbxLC"
      }
    },
    {
      "cell_type": "code",
      "source": [
        "y_pred_rrn = model_rnn.predict(val_spectrogram_ds)\n",
        "y_pred_rrn = tf.argmax(y_pred_rrn, axis=1)"
      ],
      "metadata": {
        "id": "xS6YwwVRQSSw",
        "colab": {
          "base_uri": "https://localhost:8080/"
        },
        "outputId": "b2daab3b-8c7b-4533-e767-3052960baf24"
      },
      "execution_count": 96,
      "outputs": [
        {
          "output_type": "stream",
          "name": "stdout",
          "text": [
            "16/16 [==============================] - 0s 20ms/step\n"
          ]
        }
      ]
    },
    {
      "cell_type": "markdown",
      "source": [
        "Graficamos la matriz de confusión para evaluar el rendimiento del modelo RNN."
      ],
      "metadata": {
        "id": "oGFjitazcKUq"
      }
    },
    {
      "cell_type": "code",
      "source": [
        "confusion_mtx = tf.math.confusion_matrix(y_true, y_pred_rrn)\n",
        "plt.figure(figsize=(10, 8))\n",
        "sns.heatmap(confusion_mtx,\n",
        "            xticklabels=label_names,\n",
        "            yticklabels=label_names,\n",
        "            annot=True, fmt='g')\n",
        "plt.xlabel('Prediction')\n",
        "plt.ylabel('Label')\n",
        "plt.show()"
      ],
      "metadata": {
        "colab": {
          "base_uri": "https://localhost:8080/",
          "height": 696
        },
        "id": "ClEFDctXQSLh",
        "outputId": "363880d2-e24b-400c-b959-f7ee4d2e895a"
      },
      "execution_count": 97,
      "outputs": [
        {
          "output_type": "display_data",
          "data": {
            "text/plain": [
              "<Figure size 1000x800 with 2 Axes>"
            ],
            "image/png": "[encoded data removed]"
          },
          "metadata": {}
        }
      ]
    },
    {
      "cell_type": "markdown",
      "source": [
        "Observamos que el modelo se comporta muy bien con estos datos, con una leve confusion con los audios de 1 que el modelo de RNN los confunde con 9."
      ],
      "metadata": {
        "id": "nVzMjrHucSoi"
      }
    },
    {
      "cell_type": "markdown",
      "source": [
        "Observamos un ejemplo cualquiera y su prediccion."
      ],
      "metadata": {
        "id": "x2pGlw3_c6Ki"
      }
    },
    {
      "cell_type": "code",
      "source": [
        "x = '/content/data/8/8_jackson_43.wav'\n",
        "x = tf.io.read_file(str(x))\n",
        "x, sample_rate = tf.audio.decode_wav(x, desired_channels=1, desired_samples=8000,)\n",
        "x = tf.squeeze(x, axis=-1)\n",
        "waveform = x\n",
        "x = get_spectrogram(x)\n",
        "x = x[tf.newaxis,...]\n",
        "\n",
        "prediction = model_combolucion(x)\n",
        "x_labels = label_names\n",
        "plt.bar(x_labels, tf.nn.softmax(prediction[0]))\n",
        "plt.title('0')\n",
        "plt.show()\n",
        "\n",
        "display.display(display.Audio(waveform, rate=8000))"
      ],
      "metadata": {
        "colab": {
          "base_uri": "https://localhost:8080/",
          "height": 510
        },
        "id": "YCiHlBsuQY7K",
        "outputId": "86b43f4a-3b28-4fe7-e1c3-e284479190b2"
      },
      "execution_count": 98,
      "outputs": [
        {
          "output_type": "display_data",
          "data": {
            "text/plain": [
              "<Figure size 640x480 with 1 Axes>"
            ],
            "image/png": "[encoded data removed]"
          },
          "metadata": {}
        },
        {
          "output_type": "display_data",
          "data": {
            "text/plain": [
              "<IPython.lib.display.Audio object>"
            ],
            "text/html": [
              "\n",
              "                <audio  controls=\"controls\" >\n",
              "                    <source src=\"data:audio/wav;base64,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\" type=\"audio/wav\" />\n",
              "                    Your browser does not support the audio element.\n",
              "                </audio>\n",
              "              "
            ]
          },
          "metadata": {}
        }
      ]
    }
  ]
}